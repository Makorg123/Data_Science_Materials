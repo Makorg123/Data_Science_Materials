{
 "cells": [
  {
   "cell_type": "code",
   "execution_count": 170,
   "id": "7c261c9e",
   "metadata": {},
   "outputs": [],
   "source": [
    "import pandas as pd\n",
    "import numpy as np\n",
    "import matplotlib.pyplot as plt\n",
    "import seaborn as sns"
   ]
  },
  {
   "cell_type": "code",
   "execution_count": 171,
   "id": "a970cdf6",
   "metadata": {},
   "outputs": [],
   "source": [
    "dftrain = pd.read_csv('train.csv')"
   ]
  },
  {
   "cell_type": "code",
   "execution_count": 172,
   "id": "87ec304a",
   "metadata": {},
   "outputs": [],
   "source": [
    "dftest  = pd.read_csv('test.csv')"
   ]
  },
  {
   "cell_type": "code",
   "execution_count": 173,
   "id": "387046bf",
   "metadata": {},
   "outputs": [
    {
     "name": "stdout",
     "output_type": "stream",
     "text": [
      "(1460, 81)\n",
      "(1459, 80)\n"
     ]
    }
   ],
   "source": [
    "print(dftrain.shape)\n",
    "print(dftest.shape)"
   ]
  },
  {
   "cell_type": "code",
   "execution_count": 174,
   "id": "42d43e74",
   "metadata": {},
   "outputs": [
    {
     "data": {
      "text/html": [
       "<div>\n",
       "<style scoped>\n",
       "    .dataframe tbody tr th:only-of-type {\n",
       "        vertical-align: middle;\n",
       "    }\n",
       "\n",
       "    .dataframe tbody tr th {\n",
       "        vertical-align: top;\n",
       "    }\n",
       "\n",
       "    .dataframe thead th {\n",
       "        text-align: right;\n",
       "    }\n",
       "</style>\n",
       "<table border=\"1\" class=\"dataframe\">\n",
       "  <thead>\n",
       "    <tr style=\"text-align: right;\">\n",
       "      <th></th>\n",
       "      <th>Id</th>\n",
       "      <th>MSSubClass</th>\n",
       "      <th>MSZoning</th>\n",
       "      <th>LotFrontage</th>\n",
       "      <th>LotArea</th>\n",
       "      <th>Street</th>\n",
       "      <th>Alley</th>\n",
       "      <th>LotShape</th>\n",
       "      <th>LandContour</th>\n",
       "      <th>Utilities</th>\n",
       "      <th>...</th>\n",
       "      <th>PoolArea</th>\n",
       "      <th>PoolQC</th>\n",
       "      <th>Fence</th>\n",
       "      <th>MiscFeature</th>\n",
       "      <th>MiscVal</th>\n",
       "      <th>MoSold</th>\n",
       "      <th>YrSold</th>\n",
       "      <th>SaleType</th>\n",
       "      <th>SaleCondition</th>\n",
       "      <th>SalePrice</th>\n",
       "    </tr>\n",
       "  </thead>\n",
       "  <tbody>\n",
       "    <tr>\n",
       "      <th>0</th>\n",
       "      <td>1</td>\n",
       "      <td>60</td>\n",
       "      <td>RL</td>\n",
       "      <td>65.0</td>\n",
       "      <td>8450</td>\n",
       "      <td>Pave</td>\n",
       "      <td>NaN</td>\n",
       "      <td>Reg</td>\n",
       "      <td>Lvl</td>\n",
       "      <td>AllPub</td>\n",
       "      <td>...</td>\n",
       "      <td>0</td>\n",
       "      <td>NaN</td>\n",
       "      <td>NaN</td>\n",
       "      <td>NaN</td>\n",
       "      <td>0</td>\n",
       "      <td>2</td>\n",
       "      <td>2008</td>\n",
       "      <td>WD</td>\n",
       "      <td>Normal</td>\n",
       "      <td>208500</td>\n",
       "    </tr>\n",
       "    <tr>\n",
       "      <th>1</th>\n",
       "      <td>2</td>\n",
       "      <td>20</td>\n",
       "      <td>RL</td>\n",
       "      <td>80.0</td>\n",
       "      <td>9600</td>\n",
       "      <td>Pave</td>\n",
       "      <td>NaN</td>\n",
       "      <td>Reg</td>\n",
       "      <td>Lvl</td>\n",
       "      <td>AllPub</td>\n",
       "      <td>...</td>\n",
       "      <td>0</td>\n",
       "      <td>NaN</td>\n",
       "      <td>NaN</td>\n",
       "      <td>NaN</td>\n",
       "      <td>0</td>\n",
       "      <td>5</td>\n",
       "      <td>2007</td>\n",
       "      <td>WD</td>\n",
       "      <td>Normal</td>\n",
       "      <td>181500</td>\n",
       "    </tr>\n",
       "    <tr>\n",
       "      <th>2</th>\n",
       "      <td>3</td>\n",
       "      <td>60</td>\n",
       "      <td>RL</td>\n",
       "      <td>68.0</td>\n",
       "      <td>11250</td>\n",
       "      <td>Pave</td>\n",
       "      <td>NaN</td>\n",
       "      <td>IR1</td>\n",
       "      <td>Lvl</td>\n",
       "      <td>AllPub</td>\n",
       "      <td>...</td>\n",
       "      <td>0</td>\n",
       "      <td>NaN</td>\n",
       "      <td>NaN</td>\n",
       "      <td>NaN</td>\n",
       "      <td>0</td>\n",
       "      <td>9</td>\n",
       "      <td>2008</td>\n",
       "      <td>WD</td>\n",
       "      <td>Normal</td>\n",
       "      <td>223500</td>\n",
       "    </tr>\n",
       "    <tr>\n",
       "      <th>3</th>\n",
       "      <td>4</td>\n",
       "      <td>70</td>\n",
       "      <td>RL</td>\n",
       "      <td>60.0</td>\n",
       "      <td>9550</td>\n",
       "      <td>Pave</td>\n",
       "      <td>NaN</td>\n",
       "      <td>IR1</td>\n",
       "      <td>Lvl</td>\n",
       "      <td>AllPub</td>\n",
       "      <td>...</td>\n",
       "      <td>0</td>\n",
       "      <td>NaN</td>\n",
       "      <td>NaN</td>\n",
       "      <td>NaN</td>\n",
       "      <td>0</td>\n",
       "      <td>2</td>\n",
       "      <td>2006</td>\n",
       "      <td>WD</td>\n",
       "      <td>Abnorml</td>\n",
       "      <td>140000</td>\n",
       "    </tr>\n",
       "    <tr>\n",
       "      <th>4</th>\n",
       "      <td>5</td>\n",
       "      <td>60</td>\n",
       "      <td>RL</td>\n",
       "      <td>84.0</td>\n",
       "      <td>14260</td>\n",
       "      <td>Pave</td>\n",
       "      <td>NaN</td>\n",
       "      <td>IR1</td>\n",
       "      <td>Lvl</td>\n",
       "      <td>AllPub</td>\n",
       "      <td>...</td>\n",
       "      <td>0</td>\n",
       "      <td>NaN</td>\n",
       "      <td>NaN</td>\n",
       "      <td>NaN</td>\n",
       "      <td>0</td>\n",
       "      <td>12</td>\n",
       "      <td>2008</td>\n",
       "      <td>WD</td>\n",
       "      <td>Normal</td>\n",
       "      <td>250000</td>\n",
       "    </tr>\n",
       "  </tbody>\n",
       "</table>\n",
       "<p>5 rows × 81 columns</p>\n",
       "</div>"
      ],
      "text/plain": [
       "   Id  MSSubClass MSZoning  LotFrontage  LotArea Street Alley LotShape  \\\n",
       "0   1          60       RL         65.0     8450   Pave   NaN      Reg   \n",
       "1   2          20       RL         80.0     9600   Pave   NaN      Reg   \n",
       "2   3          60       RL         68.0    11250   Pave   NaN      IR1   \n",
       "3   4          70       RL         60.0     9550   Pave   NaN      IR1   \n",
       "4   5          60       RL         84.0    14260   Pave   NaN      IR1   \n",
       "\n",
       "  LandContour Utilities  ... PoolArea PoolQC Fence MiscFeature MiscVal MoSold  \\\n",
       "0         Lvl    AllPub  ...        0    NaN   NaN         NaN       0      2   \n",
       "1         Lvl    AllPub  ...        0    NaN   NaN         NaN       0      5   \n",
       "2         Lvl    AllPub  ...        0    NaN   NaN         NaN       0      9   \n",
       "3         Lvl    AllPub  ...        0    NaN   NaN         NaN       0      2   \n",
       "4         Lvl    AllPub  ...        0    NaN   NaN         NaN       0     12   \n",
       "\n",
       "  YrSold  SaleType  SaleCondition  SalePrice  \n",
       "0   2008        WD         Normal     208500  \n",
       "1   2007        WD         Normal     181500  \n",
       "2   2008        WD         Normal     223500  \n",
       "3   2006        WD        Abnorml     140000  \n",
       "4   2008        WD         Normal     250000  \n",
       "\n",
       "[5 rows x 81 columns]"
      ]
     },
     "execution_count": 174,
     "metadata": {},
     "output_type": "execute_result"
    }
   ],
   "source": [
    "dftrain.head()"
   ]
  },
  {
   "cell_type": "code",
   "execution_count": 175,
   "id": "675c270a",
   "metadata": {},
   "outputs": [
    {
     "data": {
      "text/html": [
       "<div>\n",
       "<style scoped>\n",
       "    .dataframe tbody tr th:only-of-type {\n",
       "        vertical-align: middle;\n",
       "    }\n",
       "\n",
       "    .dataframe tbody tr th {\n",
       "        vertical-align: top;\n",
       "    }\n",
       "\n",
       "    .dataframe thead th {\n",
       "        text-align: right;\n",
       "    }\n",
       "</style>\n",
       "<table border=\"1\" class=\"dataframe\">\n",
       "  <thead>\n",
       "    <tr style=\"text-align: right;\">\n",
       "      <th></th>\n",
       "      <th>Id</th>\n",
       "      <th>MSSubClass</th>\n",
       "      <th>MSZoning</th>\n",
       "      <th>LotFrontage</th>\n",
       "      <th>LotArea</th>\n",
       "      <th>Street</th>\n",
       "      <th>Alley</th>\n",
       "      <th>LotShape</th>\n",
       "      <th>LandContour</th>\n",
       "      <th>Utilities</th>\n",
       "      <th>...</th>\n",
       "      <th>ScreenPorch</th>\n",
       "      <th>PoolArea</th>\n",
       "      <th>PoolQC</th>\n",
       "      <th>Fence</th>\n",
       "      <th>MiscFeature</th>\n",
       "      <th>MiscVal</th>\n",
       "      <th>MoSold</th>\n",
       "      <th>YrSold</th>\n",
       "      <th>SaleType</th>\n",
       "      <th>SaleCondition</th>\n",
       "    </tr>\n",
       "  </thead>\n",
       "  <tbody>\n",
       "    <tr>\n",
       "      <th>0</th>\n",
       "      <td>1461</td>\n",
       "      <td>20</td>\n",
       "      <td>RH</td>\n",
       "      <td>80.0</td>\n",
       "      <td>11622</td>\n",
       "      <td>Pave</td>\n",
       "      <td>NaN</td>\n",
       "      <td>Reg</td>\n",
       "      <td>Lvl</td>\n",
       "      <td>AllPub</td>\n",
       "      <td>...</td>\n",
       "      <td>120</td>\n",
       "      <td>0</td>\n",
       "      <td>NaN</td>\n",
       "      <td>MnPrv</td>\n",
       "      <td>NaN</td>\n",
       "      <td>0</td>\n",
       "      <td>6</td>\n",
       "      <td>2010</td>\n",
       "      <td>WD</td>\n",
       "      <td>Normal</td>\n",
       "    </tr>\n",
       "    <tr>\n",
       "      <th>1</th>\n",
       "      <td>1462</td>\n",
       "      <td>20</td>\n",
       "      <td>RL</td>\n",
       "      <td>81.0</td>\n",
       "      <td>14267</td>\n",
       "      <td>Pave</td>\n",
       "      <td>NaN</td>\n",
       "      <td>IR1</td>\n",
       "      <td>Lvl</td>\n",
       "      <td>AllPub</td>\n",
       "      <td>...</td>\n",
       "      <td>0</td>\n",
       "      <td>0</td>\n",
       "      <td>NaN</td>\n",
       "      <td>NaN</td>\n",
       "      <td>Gar2</td>\n",
       "      <td>12500</td>\n",
       "      <td>6</td>\n",
       "      <td>2010</td>\n",
       "      <td>WD</td>\n",
       "      <td>Normal</td>\n",
       "    </tr>\n",
       "    <tr>\n",
       "      <th>2</th>\n",
       "      <td>1463</td>\n",
       "      <td>60</td>\n",
       "      <td>RL</td>\n",
       "      <td>74.0</td>\n",
       "      <td>13830</td>\n",
       "      <td>Pave</td>\n",
       "      <td>NaN</td>\n",
       "      <td>IR1</td>\n",
       "      <td>Lvl</td>\n",
       "      <td>AllPub</td>\n",
       "      <td>...</td>\n",
       "      <td>0</td>\n",
       "      <td>0</td>\n",
       "      <td>NaN</td>\n",
       "      <td>MnPrv</td>\n",
       "      <td>NaN</td>\n",
       "      <td>0</td>\n",
       "      <td>3</td>\n",
       "      <td>2010</td>\n",
       "      <td>WD</td>\n",
       "      <td>Normal</td>\n",
       "    </tr>\n",
       "    <tr>\n",
       "      <th>3</th>\n",
       "      <td>1464</td>\n",
       "      <td>60</td>\n",
       "      <td>RL</td>\n",
       "      <td>78.0</td>\n",
       "      <td>9978</td>\n",
       "      <td>Pave</td>\n",
       "      <td>NaN</td>\n",
       "      <td>IR1</td>\n",
       "      <td>Lvl</td>\n",
       "      <td>AllPub</td>\n",
       "      <td>...</td>\n",
       "      <td>0</td>\n",
       "      <td>0</td>\n",
       "      <td>NaN</td>\n",
       "      <td>NaN</td>\n",
       "      <td>NaN</td>\n",
       "      <td>0</td>\n",
       "      <td>6</td>\n",
       "      <td>2010</td>\n",
       "      <td>WD</td>\n",
       "      <td>Normal</td>\n",
       "    </tr>\n",
       "    <tr>\n",
       "      <th>4</th>\n",
       "      <td>1465</td>\n",
       "      <td>120</td>\n",
       "      <td>RL</td>\n",
       "      <td>43.0</td>\n",
       "      <td>5005</td>\n",
       "      <td>Pave</td>\n",
       "      <td>NaN</td>\n",
       "      <td>IR1</td>\n",
       "      <td>HLS</td>\n",
       "      <td>AllPub</td>\n",
       "      <td>...</td>\n",
       "      <td>144</td>\n",
       "      <td>0</td>\n",
       "      <td>NaN</td>\n",
       "      <td>NaN</td>\n",
       "      <td>NaN</td>\n",
       "      <td>0</td>\n",
       "      <td>1</td>\n",
       "      <td>2010</td>\n",
       "      <td>WD</td>\n",
       "      <td>Normal</td>\n",
       "    </tr>\n",
       "  </tbody>\n",
       "</table>\n",
       "<p>5 rows × 80 columns</p>\n",
       "</div>"
      ],
      "text/plain": [
       "     Id  MSSubClass MSZoning  LotFrontage  LotArea Street Alley LotShape  \\\n",
       "0  1461          20       RH         80.0    11622   Pave   NaN      Reg   \n",
       "1  1462          20       RL         81.0    14267   Pave   NaN      IR1   \n",
       "2  1463          60       RL         74.0    13830   Pave   NaN      IR1   \n",
       "3  1464          60       RL         78.0     9978   Pave   NaN      IR1   \n",
       "4  1465         120       RL         43.0     5005   Pave   NaN      IR1   \n",
       "\n",
       "  LandContour Utilities  ... ScreenPorch PoolArea PoolQC  Fence MiscFeature  \\\n",
       "0         Lvl    AllPub  ...         120        0    NaN  MnPrv         NaN   \n",
       "1         Lvl    AllPub  ...           0        0    NaN    NaN        Gar2   \n",
       "2         Lvl    AllPub  ...           0        0    NaN  MnPrv         NaN   \n",
       "3         Lvl    AllPub  ...           0        0    NaN    NaN         NaN   \n",
       "4         HLS    AllPub  ...         144        0    NaN    NaN         NaN   \n",
       "\n",
       "  MiscVal MoSold  YrSold  SaleType  SaleCondition  \n",
       "0       0      6    2010        WD         Normal  \n",
       "1   12500      6    2010        WD         Normal  \n",
       "2       0      3    2010        WD         Normal  \n",
       "3       0      6    2010        WD         Normal  \n",
       "4       0      1    2010        WD         Normal  \n",
       "\n",
       "[5 rows x 80 columns]"
      ]
     },
     "execution_count": 175,
     "metadata": {},
     "output_type": "execute_result"
    }
   ],
   "source": [
    "dftest.head()"
   ]
  },
  {
   "cell_type": "code",
   "execution_count": 176,
   "id": "7083e827",
   "metadata": {},
   "outputs": [],
   "source": [
    "dftest['SalePrice'] ='test'"
   ]
  },
  {
   "cell_type": "code",
   "execution_count": 177,
   "id": "7ef562da",
   "metadata": {},
   "outputs": [],
   "source": [
    "combinedf = pd.concat([dftrain,dftest],axis=0)"
   ]
  },
  {
   "cell_type": "code",
   "execution_count": 178,
   "id": "a93e01af",
   "metadata": {},
   "outputs": [
    {
     "name": "stdout",
     "output_type": "stream",
     "text": [
      "<class 'pandas.core.frame.DataFrame'>\n",
      "Int64Index: 2919 entries, 0 to 1458\n",
      "Data columns (total 81 columns):\n",
      " #   Column         Non-Null Count  Dtype  \n",
      "---  ------         --------------  -----  \n",
      " 0   Id             2919 non-null   int64  \n",
      " 1   MSSubClass     2919 non-null   int64  \n",
      " 2   MSZoning       2915 non-null   object \n",
      " 3   LotFrontage    2433 non-null   float64\n",
      " 4   LotArea        2919 non-null   int64  \n",
      " 5   Street         2919 non-null   object \n",
      " 6   Alley          198 non-null    object \n",
      " 7   LotShape       2919 non-null   object \n",
      " 8   LandContour    2919 non-null   object \n",
      " 9   Utilities      2917 non-null   object \n",
      " 10  LotConfig      2919 non-null   object \n",
      " 11  LandSlope      2919 non-null   object \n",
      " 12  Neighborhood   2919 non-null   object \n",
      " 13  Condition1     2919 non-null   object \n",
      " 14  Condition2     2919 non-null   object \n",
      " 15  BldgType       2919 non-null   object \n",
      " 16  HouseStyle     2919 non-null   object \n",
      " 17  OverallQual    2919 non-null   int64  \n",
      " 18  OverallCond    2919 non-null   int64  \n",
      " 19  YearBuilt      2919 non-null   int64  \n",
      " 20  YearRemodAdd   2919 non-null   int64  \n",
      " 21  RoofStyle      2919 non-null   object \n",
      " 22  RoofMatl       2919 non-null   object \n",
      " 23  Exterior1st    2918 non-null   object \n",
      " 24  Exterior2nd    2918 non-null   object \n",
      " 25  MasVnrType     2895 non-null   object \n",
      " 26  MasVnrArea     2896 non-null   float64\n",
      " 27  ExterQual      2919 non-null   object \n",
      " 28  ExterCond      2919 non-null   object \n",
      " 29  Foundation     2919 non-null   object \n",
      " 30  BsmtQual       2838 non-null   object \n",
      " 31  BsmtCond       2837 non-null   object \n",
      " 32  BsmtExposure   2837 non-null   object \n",
      " 33  BsmtFinType1   2840 non-null   object \n",
      " 34  BsmtFinSF1     2918 non-null   float64\n",
      " 35  BsmtFinType2   2839 non-null   object \n",
      " 36  BsmtFinSF2     2918 non-null   float64\n",
      " 37  BsmtUnfSF      2918 non-null   float64\n",
      " 38  TotalBsmtSF    2918 non-null   float64\n",
      " 39  Heating        2919 non-null   object \n",
      " 40  HeatingQC      2919 non-null   object \n",
      " 41  CentralAir     2919 non-null   object \n",
      " 42  Electrical     2918 non-null   object \n",
      " 43  1stFlrSF       2919 non-null   int64  \n",
      " 44  2ndFlrSF       2919 non-null   int64  \n",
      " 45  LowQualFinSF   2919 non-null   int64  \n",
      " 46  GrLivArea      2919 non-null   int64  \n",
      " 47  BsmtFullBath   2917 non-null   float64\n",
      " 48  BsmtHalfBath   2917 non-null   float64\n",
      " 49  FullBath       2919 non-null   int64  \n",
      " 50  HalfBath       2919 non-null   int64  \n",
      " 51  BedroomAbvGr   2919 non-null   int64  \n",
      " 52  KitchenAbvGr   2919 non-null   int64  \n",
      " 53  KitchenQual    2918 non-null   object \n",
      " 54  TotRmsAbvGrd   2919 non-null   int64  \n",
      " 55  Functional     2917 non-null   object \n",
      " 56  Fireplaces     2919 non-null   int64  \n",
      " 57  FireplaceQu    1499 non-null   object \n",
      " 58  GarageType     2762 non-null   object \n",
      " 59  GarageYrBlt    2760 non-null   float64\n",
      " 60  GarageFinish   2760 non-null   object \n",
      " 61  GarageCars     2918 non-null   float64\n",
      " 62  GarageArea     2918 non-null   float64\n",
      " 63  GarageQual     2760 non-null   object \n",
      " 64  GarageCond     2760 non-null   object \n",
      " 65  PavedDrive     2919 non-null   object \n",
      " 66  WoodDeckSF     2919 non-null   int64  \n",
      " 67  OpenPorchSF    2919 non-null   int64  \n",
      " 68  EnclosedPorch  2919 non-null   int64  \n",
      " 69  3SsnPorch      2919 non-null   int64  \n",
      " 70  ScreenPorch    2919 non-null   int64  \n",
      " 71  PoolArea       2919 non-null   int64  \n",
      " 72  PoolQC         10 non-null     object \n",
      " 73  Fence          571 non-null    object \n",
      " 74  MiscFeature    105 non-null    object \n",
      " 75  MiscVal        2919 non-null   int64  \n",
      " 76  MoSold         2919 non-null   int64  \n",
      " 77  YrSold         2919 non-null   int64  \n",
      " 78  SaleType       2918 non-null   object \n",
      " 79  SaleCondition  2919 non-null   object \n",
      " 80  SalePrice      2919 non-null   object \n",
      "dtypes: float64(11), int64(26), object(44)\n",
      "memory usage: 1.8+ MB\n"
     ]
    }
   ],
   "source": [
    "combinedf.info()"
   ]
  },
  {
   "cell_type": "code",
   "execution_count": 179,
   "id": "28fa9212",
   "metadata": {},
   "outputs": [],
   "source": [
    "numcols = combinedf.select_dtypes(include = np.number)\n",
    "objcols = combinedf.select_dtypes(include =['object'])"
   ]
  },
  {
   "cell_type": "code",
   "execution_count": 180,
   "id": "3fc6565b",
   "metadata": {},
   "outputs": [
    {
     "data": {
      "text/plain": [
       "Index(['MSZoning', 'Street', 'Alley', 'LotShape', 'LandContour', 'Utilities',\n",
       "       'LotConfig', 'LandSlope', 'Neighborhood', 'Condition1', 'Condition2',\n",
       "       'BldgType', 'HouseStyle', 'RoofStyle', 'RoofMatl', 'Exterior1st',\n",
       "       'Exterior2nd', 'MasVnrType', 'ExterQual', 'ExterCond', 'Foundation',\n",
       "       'BsmtQual', 'BsmtCond', 'BsmtExposure', 'BsmtFinType1', 'BsmtFinType2',\n",
       "       'Heating', 'HeatingQC', 'CentralAir', 'Electrical', 'KitchenQual',\n",
       "       'Functional', 'FireplaceQu', 'GarageType', 'GarageFinish', 'GarageQual',\n",
       "       'GarageCond', 'PavedDrive', 'PoolQC', 'Fence', 'MiscFeature',\n",
       "       'SaleType', 'SaleCondition', 'SalePrice'],\n",
       "      dtype='object')"
      ]
     },
     "execution_count": 180,
     "metadata": {},
     "output_type": "execute_result"
    }
   ],
   "source": [
    "objcols.columns"
   ]
  },
  {
   "cell_type": "code",
   "execution_count": 181,
   "id": "f8b452ff",
   "metadata": {},
   "outputs": [
    {
     "data": {
      "text/plain": [
       "MSZoning            4\n",
       "Street              0\n",
       "Alley            2721\n",
       "LotShape            0\n",
       "LandContour         0\n",
       "Utilities           2\n",
       "LotConfig           0\n",
       "LandSlope           0\n",
       "Neighborhood        0\n",
       "Condition1          0\n",
       "Condition2          0\n",
       "BldgType            0\n",
       "HouseStyle          0\n",
       "RoofStyle           0\n",
       "RoofMatl            0\n",
       "Exterior1st         1\n",
       "Exterior2nd         1\n",
       "MasVnrType         24\n",
       "ExterQual           0\n",
       "ExterCond           0\n",
       "Foundation          0\n",
       "BsmtQual           81\n",
       "BsmtCond           82\n",
       "BsmtExposure       82\n",
       "BsmtFinType1       79\n",
       "BsmtFinType2       80\n",
       "Heating             0\n",
       "HeatingQC           0\n",
       "CentralAir          0\n",
       "Electrical          1\n",
       "KitchenQual         1\n",
       "Functional          2\n",
       "FireplaceQu      1420\n",
       "GarageType        157\n",
       "GarageFinish      159\n",
       "GarageQual        159\n",
       "GarageCond        159\n",
       "PavedDrive          0\n",
       "PoolQC           2909\n",
       "Fence            2348\n",
       "MiscFeature      2814\n",
       "SaleType            1\n",
       "SaleCondition       0\n",
       "SalePrice           0\n",
       "dtype: int64"
      ]
     },
     "execution_count": 181,
     "metadata": {},
     "output_type": "execute_result"
    }
   ],
   "source": [
    "objcols.isnull().sum()"
   ]
  },
  {
   "cell_type": "code",
   "execution_count": 182,
   "id": "214214d8",
   "metadata": {},
   "outputs": [],
   "source": [
    "# Missing Value or NA in these variables means - Not Available\n",
    "notavailablecols = ['Alley','BsmtQual', 'BsmtCond', 'BsmtExposure', 'BsmtFinType1', 'BsmtFinType2','FireplaceQu',\n",
    "                    'GarageType', 'GarageFinish', 'GarageQual','GarageCond','PoolQC', 'Fence', 'MiscFeature']"
   ]
  },
  {
   "cell_type": "code",
   "execution_count": 183,
   "id": "7af94ffa",
   "metadata": {},
   "outputs": [],
   "source": [
    "for col in notavailablecols:\n",
    "    objcols[col] = objcols[col].fillna(\"Not Available\")"
   ]
  },
  {
   "cell_type": "code",
   "execution_count": 184,
   "id": "0484dc97",
   "metadata": {},
   "outputs": [
    {
     "data": {
      "text/plain": [
       "MasVnrType       24\n",
       "MSZoning          4\n",
       "Utilities         2\n",
       "Functional        2\n",
       "SaleType          1\n",
       "Electrical        1\n",
       "KitchenQual       1\n",
       "Exterior2nd       1\n",
       "Exterior1st       1\n",
       "FireplaceQu       0\n",
       "Heating           0\n",
       "HeatingQC         0\n",
       "CentralAir        0\n",
       "GarageType        0\n",
       "BsmtFinType1      0\n",
       "GarageFinish      0\n",
       "GarageQual        0\n",
       "GarageCond        0\n",
       "PavedDrive        0\n",
       "PoolQC            0\n",
       "Fence             0\n",
       "MiscFeature       0\n",
       "SaleCondition     0\n",
       "BsmtFinType2      0\n",
       "BsmtCond          0\n",
       "BsmtExposure      0\n",
       "Condition2        0\n",
       "Alley             0\n",
       "LotShape          0\n",
       "LandContour       0\n",
       "LotConfig         0\n",
       "LandSlope         0\n",
       "Neighborhood      0\n",
       "Condition1        0\n",
       "BldgType          0\n",
       "Street            0\n",
       "HouseStyle        0\n",
       "RoofStyle         0\n",
       "RoofMatl          0\n",
       "ExterQual         0\n",
       "ExterCond         0\n",
       "Foundation        0\n",
       "BsmtQual          0\n",
       "SalePrice         0\n",
       "dtype: int64"
      ]
     },
     "execution_count": 184,
     "metadata": {},
     "output_type": "execute_result"
    }
   ],
   "source": [
    "objcols.isnull().sum().sort_values(ascending=False)"
   ]
  },
  {
   "cell_type": "code",
   "execution_count": 185,
   "id": "899715e2",
   "metadata": {},
   "outputs": [],
   "source": [
    "# Imputing Remaining Missing values with most_frequent\n",
    "\n",
    "for col in objcols.columns:\n",
    "    objcols[col] =  objcols[col].fillna(objcols[col].value_counts().idxmax())\n",
    "    # idxmax() -  impute with index/classname of maximum frequency"
   ]
  },
  {
   "cell_type": "code",
   "execution_count": 186,
   "id": "1efd3ee4",
   "metadata": {},
   "outputs": [
    {
     "data": {
      "text/plain": [
       "MSZoning         0\n",
       "Street           0\n",
       "BsmtFinType1     0\n",
       "BsmtFinType2     0\n",
       "Heating          0\n",
       "HeatingQC        0\n",
       "CentralAir       0\n",
       "Electrical       0\n",
       "KitchenQual      0\n",
       "Functional       0\n",
       "FireplaceQu      0\n",
       "GarageType       0\n",
       "GarageFinish     0\n",
       "GarageQual       0\n",
       "GarageCond       0\n",
       "PavedDrive       0\n",
       "PoolQC           0\n",
       "Fence            0\n",
       "MiscFeature      0\n",
       "SaleType         0\n",
       "SaleCondition    0\n",
       "BsmtExposure     0\n",
       "BsmtCond         0\n",
       "BsmtQual         0\n",
       "Condition2       0\n",
       "Alley            0\n",
       "LotShape         0\n",
       "LandContour      0\n",
       "Utilities        0\n",
       "LotConfig        0\n",
       "LandSlope        0\n",
       "Neighborhood     0\n",
       "Condition1       0\n",
       "BldgType         0\n",
       "Foundation       0\n",
       "HouseStyle       0\n",
       "RoofStyle        0\n",
       "RoofMatl         0\n",
       "Exterior1st      0\n",
       "Exterior2nd      0\n",
       "MasVnrType       0\n",
       "ExterQual        0\n",
       "ExterCond        0\n",
       "SalePrice        0\n",
       "dtype: int64"
      ]
     },
     "execution_count": 186,
     "metadata": {},
     "output_type": "execute_result"
    }
   ],
   "source": [
    "objcols.isnull().sum().sort_values(ascending=False)"
   ]
  },
  {
   "cell_type": "code",
   "execution_count": 187,
   "id": "e97a8714",
   "metadata": {},
   "outputs": [
    {
     "data": {
      "text/plain": [
       "LotFrontage      486\n",
       "GarageYrBlt      159\n",
       "MasVnrArea        23\n",
       "BsmtHalfBath       2\n",
       "BsmtFullBath       2\n",
       "BsmtFinSF2         1\n",
       "GarageCars         1\n",
       "GarageArea         1\n",
       "TotalBsmtSF        1\n",
       "BsmtUnfSF          1\n",
       "BsmtFinSF1         1\n",
       "KitchenAbvGr       0\n",
       "3SsnPorch          0\n",
       "EnclosedPorch      0\n",
       "OpenPorchSF        0\n",
       "WoodDeckSF         0\n",
       "ScreenPorch        0\n",
       "PoolArea           0\n",
       "MiscVal            0\n",
       "MoSold             0\n",
       "Fireplaces         0\n",
       "TotRmsAbvGrd       0\n",
       "Id                 0\n",
       "BedroomAbvGr       0\n",
       "HalfBath           0\n",
       "FullBath           0\n",
       "MSSubClass         0\n",
       "GrLivArea          0\n",
       "LowQualFinSF       0\n",
       "2ndFlrSF           0\n",
       "1stFlrSF           0\n",
       "YearRemodAdd       0\n",
       "YearBuilt          0\n",
       "OverallCond        0\n",
       "OverallQual        0\n",
       "LotArea            0\n",
       "YrSold             0\n",
       "dtype: int64"
      ]
     },
     "execution_count": 187,
     "metadata": {},
     "output_type": "execute_result"
    }
   ],
   "source": [
    "numcols.isnull().sum().sort_values(ascending=False)"
   ]
  },
  {
   "cell_type": "code",
   "execution_count": 188,
   "id": "cd163a45",
   "metadata": {},
   "outputs": [
    {
     "data": {
      "text/plain": [
       "Index(['Id', 'MSSubClass', 'LotFrontage', 'LotArea', 'OverallQual',\n",
       "       'OverallCond', 'YearBuilt', 'YearRemodAdd', 'MasVnrArea', 'BsmtFinSF1',\n",
       "       'BsmtFinSF2', 'BsmtUnfSF', 'TotalBsmtSF', '1stFlrSF', '2ndFlrSF',\n",
       "       'LowQualFinSF', 'GrLivArea', 'BsmtFullBath', 'BsmtHalfBath', 'FullBath',\n",
       "       'HalfBath', 'BedroomAbvGr', 'KitchenAbvGr', 'TotRmsAbvGrd',\n",
       "       'Fireplaces', 'GarageYrBlt', 'GarageCars', 'GarageArea', 'WoodDeckSF',\n",
       "       'OpenPorchSF', 'EnclosedPorch', '3SsnPorch', 'ScreenPorch', 'PoolArea',\n",
       "       'MiscVal', 'MoSold', 'YrSold'],\n",
       "      dtype='object')"
      ]
     },
     "execution_count": 188,
     "metadata": {},
     "output_type": "execute_result"
    }
   ],
   "source": [
    "# Seperate Categorical variables from numeric variables like rating scales, date related like year, month etc\n",
    "numcols.columns"
   ]
  },
  {
   "cell_type": "code",
   "execution_count": 189,
   "id": "712812bc",
   "metadata": {},
   "outputs": [],
   "source": [
    "catcols = numcols[['OverallQual',\n",
    "       'OverallCond', 'YearBuilt', 'YearRemodAdd','GarageYrBlt','MoSold', 'YrSold']]"
   ]
  },
  {
   "cell_type": "code",
   "execution_count": 190,
   "id": "1030fefd",
   "metadata": {},
   "outputs": [],
   "source": [
    "numcols = numcols.drop(['OverallQual',\n",
    "       'OverallCond', 'YearBuilt', 'YearRemodAdd','GarageYrBlt','MoSold', 'YrSold'],axis = 1)"
   ]
  },
  {
   "cell_type": "code",
   "execution_count": 191,
   "id": "d6c53fea",
   "metadata": {},
   "outputs": [
    {
     "data": {
      "text/plain": [
       "(2919, 30)"
      ]
     },
     "execution_count": 191,
     "metadata": {},
     "output_type": "execute_result"
    }
   ],
   "source": [
    "numcols.shape"
   ]
  },
  {
   "cell_type": "code",
   "execution_count": 192,
   "id": "79ce9be3",
   "metadata": {},
   "outputs": [
    {
     "data": {
      "text/plain": [
       "LotFrontage      486\n",
       "MasVnrArea        23\n",
       "BsmtFullBath       2\n",
       "BsmtHalfBath       2\n",
       "GarageCars         1\n",
       "BsmtFinSF1         1\n",
       "BsmtFinSF2         1\n",
       "BsmtUnfSF          1\n",
       "TotalBsmtSF        1\n",
       "GarageArea         1\n",
       "Id                 0\n",
       "WoodDeckSF         0\n",
       "ScreenPorch        0\n",
       "OpenPorchSF        0\n",
       "EnclosedPorch      0\n",
       "3SsnPorch          0\n",
       "TotRmsAbvGrd       0\n",
       "PoolArea           0\n",
       "Fireplaces         0\n",
       "FullBath           0\n",
       "KitchenAbvGr       0\n",
       "BedroomAbvGr       0\n",
       "HalfBath           0\n",
       "MSSubClass         0\n",
       "GrLivArea          0\n",
       "LowQualFinSF       0\n",
       "2ndFlrSF           0\n",
       "1stFlrSF           0\n",
       "LotArea            0\n",
       "MiscVal            0\n",
       "dtype: int64"
      ]
     },
     "execution_count": 192,
     "metadata": {},
     "output_type": "execute_result"
    }
   ],
   "source": [
    "numcols.isnull().sum().sort_values(ascending=False)"
   ]
  },
  {
   "cell_type": "code",
   "execution_count": 193,
   "id": "ad5d5ae1",
   "metadata": {},
   "outputs": [],
   "source": [
    "# Median imputation for numcols\n",
    "\n",
    "for col in numcols.columns:\n",
    "    numcols[col] = numcols[col].fillna(numcols[col].median())"
   ]
  },
  {
   "cell_type": "code",
   "execution_count": 194,
   "id": "bb709652",
   "metadata": {},
   "outputs": [
    {
     "data": {
      "text/html": [
       "<div>\n",
       "<style scoped>\n",
       "    .dataframe tbody tr th:only-of-type {\n",
       "        vertical-align: middle;\n",
       "    }\n",
       "\n",
       "    .dataframe tbody tr th {\n",
       "        vertical-align: top;\n",
       "    }\n",
       "\n",
       "    .dataframe thead th {\n",
       "        text-align: right;\n",
       "    }\n",
       "</style>\n",
       "<table border=\"1\" class=\"dataframe\">\n",
       "  <thead>\n",
       "    <tr style=\"text-align: right;\">\n",
       "      <th></th>\n",
       "      <th>Id</th>\n",
       "      <th>MSSubClass</th>\n",
       "      <th>LotFrontage</th>\n",
       "      <th>LotArea</th>\n",
       "      <th>MasVnrArea</th>\n",
       "      <th>BsmtFinSF1</th>\n",
       "      <th>BsmtFinSF2</th>\n",
       "      <th>BsmtUnfSF</th>\n",
       "      <th>TotalBsmtSF</th>\n",
       "      <th>1stFlrSF</th>\n",
       "      <th>...</th>\n",
       "      <th>Fireplaces</th>\n",
       "      <th>GarageCars</th>\n",
       "      <th>GarageArea</th>\n",
       "      <th>WoodDeckSF</th>\n",
       "      <th>OpenPorchSF</th>\n",
       "      <th>EnclosedPorch</th>\n",
       "      <th>3SsnPorch</th>\n",
       "      <th>ScreenPorch</th>\n",
       "      <th>PoolArea</th>\n",
       "      <th>MiscVal</th>\n",
       "    </tr>\n",
       "  </thead>\n",
       "  <tbody>\n",
       "    <tr>\n",
       "      <th>count</th>\n",
       "      <td>2919.000000</td>\n",
       "      <td>2919.000000</td>\n",
       "      <td>2919.000000</td>\n",
       "      <td>2919.000000</td>\n",
       "      <td>2919.000000</td>\n",
       "      <td>2919.000000</td>\n",
       "      <td>2919.000000</td>\n",
       "      <td>2919.000000</td>\n",
       "      <td>2919.000000</td>\n",
       "      <td>2919.000000</td>\n",
       "      <td>...</td>\n",
       "      <td>2919.000000</td>\n",
       "      <td>2919.000000</td>\n",
       "      <td>2919.000000</td>\n",
       "      <td>2919.000000</td>\n",
       "      <td>2919.000000</td>\n",
       "      <td>2919.000000</td>\n",
       "      <td>2919.000000</td>\n",
       "      <td>2919.000000</td>\n",
       "      <td>2919.000000</td>\n",
       "      <td>2919.000000</td>\n",
       "    </tr>\n",
       "    <tr>\n",
       "      <th>mean</th>\n",
       "      <td>1460.000000</td>\n",
       "      <td>57.137718</td>\n",
       "      <td>69.088386</td>\n",
       "      <td>10168.114080</td>\n",
       "      <td>101.396026</td>\n",
       "      <td>441.398253</td>\n",
       "      <td>49.565262</td>\n",
       "      <td>560.739979</td>\n",
       "      <td>1051.756252</td>\n",
       "      <td>1159.581706</td>\n",
       "      <td>...</td>\n",
       "      <td>0.597122</td>\n",
       "      <td>1.766701</td>\n",
       "      <td>472.877013</td>\n",
       "      <td>93.709832</td>\n",
       "      <td>47.486811</td>\n",
       "      <td>23.098321</td>\n",
       "      <td>2.602261</td>\n",
       "      <td>16.062350</td>\n",
       "      <td>2.251799</td>\n",
       "      <td>50.825968</td>\n",
       "    </tr>\n",
       "    <tr>\n",
       "      <th>std</th>\n",
       "      <td>842.787043</td>\n",
       "      <td>42.517628</td>\n",
       "      <td>21.317898</td>\n",
       "      <td>7886.996359</td>\n",
       "      <td>178.854579</td>\n",
       "      <td>455.534750</td>\n",
       "      <td>169.179104</td>\n",
       "      <td>439.471764</td>\n",
       "      <td>440.692234</td>\n",
       "      <td>392.362079</td>\n",
       "      <td>...</td>\n",
       "      <td>0.646129</td>\n",
       "      <td>0.761506</td>\n",
       "      <td>215.357944</td>\n",
       "      <td>126.526589</td>\n",
       "      <td>67.575493</td>\n",
       "      <td>64.244246</td>\n",
       "      <td>25.188169</td>\n",
       "      <td>56.184365</td>\n",
       "      <td>35.663946</td>\n",
       "      <td>567.402211</td>\n",
       "    </tr>\n",
       "    <tr>\n",
       "      <th>min</th>\n",
       "      <td>1.000000</td>\n",
       "      <td>20.000000</td>\n",
       "      <td>21.000000</td>\n",
       "      <td>1300.000000</td>\n",
       "      <td>0.000000</td>\n",
       "      <td>0.000000</td>\n",
       "      <td>0.000000</td>\n",
       "      <td>0.000000</td>\n",
       "      <td>0.000000</td>\n",
       "      <td>334.000000</td>\n",
       "      <td>...</td>\n",
       "      <td>0.000000</td>\n",
       "      <td>0.000000</td>\n",
       "      <td>0.000000</td>\n",
       "      <td>0.000000</td>\n",
       "      <td>0.000000</td>\n",
       "      <td>0.000000</td>\n",
       "      <td>0.000000</td>\n",
       "      <td>0.000000</td>\n",
       "      <td>0.000000</td>\n",
       "      <td>0.000000</td>\n",
       "    </tr>\n",
       "    <tr>\n",
       "      <th>25%</th>\n",
       "      <td>730.500000</td>\n",
       "      <td>20.000000</td>\n",
       "      <td>60.000000</td>\n",
       "      <td>7478.000000</td>\n",
       "      <td>0.000000</td>\n",
       "      <td>0.000000</td>\n",
       "      <td>0.000000</td>\n",
       "      <td>220.000000</td>\n",
       "      <td>793.000000</td>\n",
       "      <td>876.000000</td>\n",
       "      <td>...</td>\n",
       "      <td>0.000000</td>\n",
       "      <td>1.000000</td>\n",
       "      <td>320.000000</td>\n",
       "      <td>0.000000</td>\n",
       "      <td>0.000000</td>\n",
       "      <td>0.000000</td>\n",
       "      <td>0.000000</td>\n",
       "      <td>0.000000</td>\n",
       "      <td>0.000000</td>\n",
       "      <td>0.000000</td>\n",
       "    </tr>\n",
       "    <tr>\n",
       "      <th>50%</th>\n",
       "      <td>1460.000000</td>\n",
       "      <td>50.000000</td>\n",
       "      <td>68.000000</td>\n",
       "      <td>9453.000000</td>\n",
       "      <td>0.000000</td>\n",
       "      <td>368.500000</td>\n",
       "      <td>0.000000</td>\n",
       "      <td>467.000000</td>\n",
       "      <td>989.500000</td>\n",
       "      <td>1082.000000</td>\n",
       "      <td>...</td>\n",
       "      <td>1.000000</td>\n",
       "      <td>2.000000</td>\n",
       "      <td>480.000000</td>\n",
       "      <td>0.000000</td>\n",
       "      <td>26.000000</td>\n",
       "      <td>0.000000</td>\n",
       "      <td>0.000000</td>\n",
       "      <td>0.000000</td>\n",
       "      <td>0.000000</td>\n",
       "      <td>0.000000</td>\n",
       "    </tr>\n",
       "    <tr>\n",
       "      <th>75%</th>\n",
       "      <td>2189.500000</td>\n",
       "      <td>70.000000</td>\n",
       "      <td>78.000000</td>\n",
       "      <td>11570.000000</td>\n",
       "      <td>163.500000</td>\n",
       "      <td>733.000000</td>\n",
       "      <td>0.000000</td>\n",
       "      <td>805.000000</td>\n",
       "      <td>1302.000000</td>\n",
       "      <td>1387.500000</td>\n",
       "      <td>...</td>\n",
       "      <td>1.000000</td>\n",
       "      <td>2.000000</td>\n",
       "      <td>576.000000</td>\n",
       "      <td>168.000000</td>\n",
       "      <td>70.000000</td>\n",
       "      <td>0.000000</td>\n",
       "      <td>0.000000</td>\n",
       "      <td>0.000000</td>\n",
       "      <td>0.000000</td>\n",
       "      <td>0.000000</td>\n",
       "    </tr>\n",
       "    <tr>\n",
       "      <th>max</th>\n",
       "      <td>2919.000000</td>\n",
       "      <td>190.000000</td>\n",
       "      <td>313.000000</td>\n",
       "      <td>215245.000000</td>\n",
       "      <td>1600.000000</td>\n",
       "      <td>5644.000000</td>\n",
       "      <td>1526.000000</td>\n",
       "      <td>2336.000000</td>\n",
       "      <td>6110.000000</td>\n",
       "      <td>5095.000000</td>\n",
       "      <td>...</td>\n",
       "      <td>4.000000</td>\n",
       "      <td>5.000000</td>\n",
       "      <td>1488.000000</td>\n",
       "      <td>1424.000000</td>\n",
       "      <td>742.000000</td>\n",
       "      <td>1012.000000</td>\n",
       "      <td>508.000000</td>\n",
       "      <td>576.000000</td>\n",
       "      <td>800.000000</td>\n",
       "      <td>17000.000000</td>\n",
       "    </tr>\n",
       "  </tbody>\n",
       "</table>\n",
       "<p>8 rows × 30 columns</p>\n",
       "</div>"
      ],
      "text/plain": [
       "                Id   MSSubClass  LotFrontage        LotArea   MasVnrArea  \\\n",
       "count  2919.000000  2919.000000  2919.000000    2919.000000  2919.000000   \n",
       "mean   1460.000000    57.137718    69.088386   10168.114080   101.396026   \n",
       "std     842.787043    42.517628    21.317898    7886.996359   178.854579   \n",
       "min       1.000000    20.000000    21.000000    1300.000000     0.000000   \n",
       "25%     730.500000    20.000000    60.000000    7478.000000     0.000000   \n",
       "50%    1460.000000    50.000000    68.000000    9453.000000     0.000000   \n",
       "75%    2189.500000    70.000000    78.000000   11570.000000   163.500000   \n",
       "max    2919.000000   190.000000   313.000000  215245.000000  1600.000000   \n",
       "\n",
       "        BsmtFinSF1   BsmtFinSF2    BsmtUnfSF  TotalBsmtSF     1stFlrSF  ...  \\\n",
       "count  2919.000000  2919.000000  2919.000000  2919.000000  2919.000000  ...   \n",
       "mean    441.398253    49.565262   560.739979  1051.756252  1159.581706  ...   \n",
       "std     455.534750   169.179104   439.471764   440.692234   392.362079  ...   \n",
       "min       0.000000     0.000000     0.000000     0.000000   334.000000  ...   \n",
       "25%       0.000000     0.000000   220.000000   793.000000   876.000000  ...   \n",
       "50%     368.500000     0.000000   467.000000   989.500000  1082.000000  ...   \n",
       "75%     733.000000     0.000000   805.000000  1302.000000  1387.500000  ...   \n",
       "max    5644.000000  1526.000000  2336.000000  6110.000000  5095.000000  ...   \n",
       "\n",
       "        Fireplaces   GarageCars   GarageArea   WoodDeckSF  OpenPorchSF  \\\n",
       "count  2919.000000  2919.000000  2919.000000  2919.000000  2919.000000   \n",
       "mean      0.597122     1.766701   472.877013    93.709832    47.486811   \n",
       "std       0.646129     0.761506   215.357944   126.526589    67.575493   \n",
       "min       0.000000     0.000000     0.000000     0.000000     0.000000   \n",
       "25%       0.000000     1.000000   320.000000     0.000000     0.000000   \n",
       "50%       1.000000     2.000000   480.000000     0.000000    26.000000   \n",
       "75%       1.000000     2.000000   576.000000   168.000000    70.000000   \n",
       "max       4.000000     5.000000  1488.000000  1424.000000   742.000000   \n",
       "\n",
       "       EnclosedPorch    3SsnPorch  ScreenPorch     PoolArea       MiscVal  \n",
       "count    2919.000000  2919.000000  2919.000000  2919.000000   2919.000000  \n",
       "mean       23.098321     2.602261    16.062350     2.251799     50.825968  \n",
       "std        64.244246    25.188169    56.184365    35.663946    567.402211  \n",
       "min         0.000000     0.000000     0.000000     0.000000      0.000000  \n",
       "25%         0.000000     0.000000     0.000000     0.000000      0.000000  \n",
       "50%         0.000000     0.000000     0.000000     0.000000      0.000000  \n",
       "75%         0.000000     0.000000     0.000000     0.000000      0.000000  \n",
       "max      1012.000000   508.000000   576.000000   800.000000  17000.000000  \n",
       "\n",
       "[8 rows x 30 columns]"
      ]
     },
     "execution_count": 194,
     "metadata": {},
     "output_type": "execute_result"
    }
   ],
   "source": [
    "numcols.describe()"
   ]
  },
  {
   "cell_type": "code",
   "execution_count": 195,
   "id": "2d11e6e7",
   "metadata": {},
   "outputs": [
    {
     "data": {
      "text/plain": [
       "GarageYrBlt     159\n",
       "OverallQual       0\n",
       "OverallCond       0\n",
       "YearBuilt         0\n",
       "YearRemodAdd      0\n",
       "MoSold            0\n",
       "YrSold            0\n",
       "dtype: int64"
      ]
     },
     "execution_count": 195,
     "metadata": {},
     "output_type": "execute_result"
    }
   ],
   "source": [
    "catcols.isnull().sum().sort_values(ascending=False)"
   ]
  },
  {
   "cell_type": "code",
   "execution_count": 196,
   "id": "74af2544",
   "metadata": {},
   "outputs": [],
   "source": [
    "catcols.GarageYrBlt = catcols.GarageYrBlt.fillna(catcols.GarageYrBlt.value_counts().idxmax())"
   ]
  },
  {
   "cell_type": "code",
   "execution_count": 197,
   "id": "16a21b8f",
   "metadata": {},
   "outputs": [
    {
     "data": {
      "text/plain": [
       "OverallQual     0\n",
       "OverallCond     0\n",
       "YearBuilt       0\n",
       "YearRemodAdd    0\n",
       "GarageYrBlt     0\n",
       "MoSold          0\n",
       "YrSold          0\n",
       "dtype: int64"
      ]
     },
     "execution_count": 197,
     "metadata": {},
     "output_type": "execute_result"
    }
   ],
   "source": [
    "catcols.isnull().sum().sort_values(ascending=False)"
   ]
  },
  {
   "cell_type": "code",
   "execution_count": 198,
   "id": "f8786d77",
   "metadata": {},
   "outputs": [],
   "source": [
    "catcols['MSSubClass'] = numcols.MSSubClass"
   ]
  },
  {
   "cell_type": "code",
   "execution_count": 199,
   "id": "0292ebe0",
   "metadata": {},
   "outputs": [],
   "source": [
    "numcols = numcols.drop('MSSubClass',axis=1)"
   ]
  },
  {
   "cell_type": "code",
   "execution_count": 200,
   "id": "1d9e7cd7",
   "metadata": {},
   "outputs": [
    {
     "data": {
      "text/plain": [
       "OverallQual     0\n",
       "OverallCond     0\n",
       "YearBuilt       0\n",
       "YearRemodAdd    0\n",
       "GarageYrBlt     0\n",
       "MoSold          0\n",
       "YrSold          0\n",
       "MSSubClass      0\n",
       "dtype: int64"
      ]
     },
     "execution_count": 200,
     "metadata": {},
     "output_type": "execute_result"
    }
   ],
   "source": [
    "catcols.isnull().sum().sort_values(ascending=False)"
   ]
  },
  {
   "cell_type": "code",
   "execution_count": 201,
   "id": "7df212c0",
   "metadata": {},
   "outputs": [],
   "source": [
    "# concat all 3 dataframes for futher EDA\n",
    "\n",
    "combinedf_EDA = pd.concat([numcols,objcols,catcols],axis=1)"
   ]
  },
  {
   "cell_type": "code",
   "execution_count": 202,
   "id": "733b0ccf",
   "metadata": {},
   "outputs": [
    {
     "data": {
      "text/plain": [
       "(2919, 81)"
      ]
     },
     "execution_count": 202,
     "metadata": {},
     "output_type": "execute_result"
    }
   ],
   "source": [
    "combinedf_EDA.shape"
   ]
  },
  {
   "cell_type": "code",
   "execution_count": 203,
   "id": "7e62da65",
   "metadata": {},
   "outputs": [],
   "source": [
    "housedf_EDA = combinedf_EDA[combinedf_EDA.SalePrice != 'test']"
   ]
  },
  {
   "cell_type": "code",
   "execution_count": 204,
   "id": "19587668",
   "metadata": {},
   "outputs": [
    {
     "data": {
      "text/plain": [
       "(1460, 81)"
      ]
     },
     "execution_count": 204,
     "metadata": {},
     "output_type": "execute_result"
    }
   ],
   "source": [
    "housedf_EDA.shape"
   ]
  },
  {
   "cell_type": "code",
   "execution_count": 205,
   "id": "d19ee492",
   "metadata": {},
   "outputs": [],
   "source": [
    "# groupby() - mean and barchart with datalabels\n"
   ]
  },
  {
   "cell_type": "code",
   "execution_count": 206,
   "id": "8ba9381f",
   "metadata": {},
   "outputs": [
    {
     "data": {
      "image/png": "[encoded data removed]",
      "text/plain": [
       "<Figure size 640x480 with 1 Axes>"
      ]
     },
     "metadata": {},
     "output_type": "display_data"
    }
   ],
   "source": [
    "# salesprice and OverallCond\n",
    "ax = housedf_EDA.SalePrice.groupby(housedf_EDA.OverallCond).mean().sort_values(ascending=False).plot(kind='bar')\n",
    "for i in ax.containers:\n",
    "    ax.bar_label(i)"
   ]
  },
  {
   "cell_type": "code",
   "execution_count": 207,
   "id": "d97f2045",
   "metadata": {},
   "outputs": [
    {
     "data": {
      "image/png": "[encoded data removed]",
      "text/plain": [
       "<Figure size 640x480 with 1 Axes>"
      ]
     },
     "metadata": {},
     "output_type": "display_data"
    }
   ],
   "source": [
    "# SalePrice and MSZoning\n",
    "\n",
    "ax = housedf_EDA.SalePrice.groupby(housedf_EDA.MSZoning).mean().sort_values(ascending=False).plot(kind='bar')\n",
    "for i in ax.containers:\n",
    "    ax.bar_label(i)"
   ]
  },
  {
   "cell_type": "code",
   "execution_count": 208,
   "id": "94f49444",
   "metadata": {},
   "outputs": [
    {
     "data": {
      "image/png": "[encoded data removed]",
      "text/plain": [
       "<Figure size 640x480 with 1 Axes>"
      ]
     },
     "metadata": {},
     "output_type": "display_data"
    }
   ],
   "source": [
    "# SalePrice and Utilities\n",
    "ax = housedf_EDA.SalePrice.groupby(housedf_EDA.Utilities).mean().sort_values(ascending=False).plot(kind='bar')\n",
    "for i in ax.containers:\n",
    "    ax.bar_label(i)\n"
   ]
  },
  {
   "cell_type": "code",
   "execution_count": 209,
   "id": "f59abd09",
   "metadata": {},
   "outputs": [
    {
     "data": {
      "image/png": "[encoded data removed]",
      "text/plain": [
       "<Figure size 640x480 with 1 Axes>"
      ]
     },
     "metadata": {},
     "output_type": "display_data"
    }
   ],
   "source": [
    "# SalePrice and BldgType\n",
    "ax = housedf_EDA.SalePrice.groupby(housedf_EDA.BldgType).mean().sort_values(ascending=False).plot(kind='bar')\n",
    "for i in ax.containers:\n",
    "    ax.bar_label(i)"
   ]
  },
  {
   "cell_type": "code",
   "execution_count": 210,
   "id": "90568c46",
   "metadata": {},
   "outputs": [
    {
     "data": {
      "image/png": "[encoded data removed]",
      "text/plain": [
       "<Figure size 640x480 with 1 Axes>"
      ]
     },
     "metadata": {},
     "output_type": "display_data"
    }
   ],
   "source": [
    "# Saleprice and HouseStyle\n",
    "ax = housedf_EDA.SalePrice.groupby(housedf_EDA.HouseStyle).mean().sort_values(ascending=False).plot(kind='bar')\n",
    "for i in ax.containers:\n",
    "    ax.bar_label(i,color='red')"
   ]
  },
  {
   "cell_type": "code",
   "execution_count": 211,
   "id": "0dc99e9e",
   "metadata": {},
   "outputs": [],
   "source": [
    "# cross tab and Stacked Bar Plots with datalabels"
   ]
  },
  {
   "cell_type": "code",
   "execution_count": 212,
   "id": "39273d40",
   "metadata": {},
   "outputs": [
    {
     "data": {
      "text/plain": [
       "<Figure size 4000x2000 with 0 Axes>"
      ]
     },
     "metadata": {},
     "output_type": "display_data"
    },
    {
     "data": {
      "image/png": "[encoded data removed]",
      "text/plain": [
       "<Figure size 640x480 with 1 Axes>"
      ]
     },
     "metadata": {},
     "output_type": "display_data"
    }
   ],
   "source": [
    "# Neighborhood and BldgType\n",
    "plt.figure(figsize=(40,20))\n",
    "ax = pd.crosstab(housedf_EDA.Neighborhood, housedf_EDA.BldgType).plot(kind='bar',stacked=True)\n",
    "for i in ax.containers:\n",
    "    ax.bar_label(i)"
   ]
  },
  {
   "cell_type": "code",
   "execution_count": 213,
   "id": "c2e6bc79",
   "metadata": {},
   "outputs": [
    {
     "data": {
      "text/plain": [
       "<Figure size 2000x700 with 0 Axes>"
      ]
     },
     "metadata": {},
     "output_type": "display_data"
    },
    {
     "data": {
      "image/png": "[encoded data removed]",
      "text/plain": [
       "<Figure size 640x480 with 1 Axes>"
      ]
     },
     "metadata": {},
     "output_type": "display_data"
    }
   ],
   "source": [
    "# Neighborhood and HouseStyle\n",
    "plt.figure(figsize=(20,7))\n",
    "ax = pd.crosstab(housedf_EDA.Neighborhood, housedf_EDA.HouseStyle).plot(kind='bar',stacked=True)\n",
    "for i in ax.containers:\n",
    "    ax.bar_label(i)"
   ]
  },
  {
   "cell_type": "code",
   "execution_count": 214,
   "id": "9ff74ee9",
   "metadata": {},
   "outputs": [
    {
     "data": {
      "text/plain": [
       "<Figure size 2000x700 with 0 Axes>"
      ]
     },
     "metadata": {},
     "output_type": "display_data"
    },
    {
     "data": {
      "image/png": "[encoded data removed]",
      "text/plain": [
       "<Figure size 640x480 with 1 Axes>"
      ]
     },
     "metadata": {},
     "output_type": "display_data"
    }
   ],
   "source": [
    "# Neighborhood and MS Zoning\n",
    "plt.figure(figsize=(20,7))\n",
    "ax = pd.crosstab(housedf_EDA.Neighborhood, housedf_EDA.MSZoning).plot(kind='bar',stacked=True)\n",
    "for i in ax.containers:\n",
    "    ax.bar_label(i)"
   ]
  },
  {
   "cell_type": "code",
   "execution_count": 215,
   "id": "26c5b10d",
   "metadata": {},
   "outputs": [
    {
     "data": {
      "text/html": [
       "<div>\n",
       "<style scoped>\n",
       "    .dataframe tbody tr th:only-of-type {\n",
       "        vertical-align: middle;\n",
       "    }\n",
       "\n",
       "    .dataframe tbody tr th {\n",
       "        vertical-align: top;\n",
       "    }\n",
       "\n",
       "    .dataframe thead th {\n",
       "        text-align: right;\n",
       "    }\n",
       "</style>\n",
       "<table border=\"1\" class=\"dataframe\">\n",
       "  <thead>\n",
       "    <tr style=\"text-align: right;\">\n",
       "      <th></th>\n",
       "      <th>Id</th>\n",
       "      <th>LotFrontage</th>\n",
       "      <th>LotArea</th>\n",
       "      <th>MasVnrArea</th>\n",
       "      <th>BsmtFinSF1</th>\n",
       "      <th>BsmtFinSF2</th>\n",
       "      <th>BsmtUnfSF</th>\n",
       "      <th>TotalBsmtSF</th>\n",
       "      <th>1stFlrSF</th>\n",
       "      <th>2ndFlrSF</th>\n",
       "      <th>...</th>\n",
       "      <th>Fireplaces</th>\n",
       "      <th>GarageCars</th>\n",
       "      <th>GarageArea</th>\n",
       "      <th>WoodDeckSF</th>\n",
       "      <th>OpenPorchSF</th>\n",
       "      <th>EnclosedPorch</th>\n",
       "      <th>3SsnPorch</th>\n",
       "      <th>ScreenPorch</th>\n",
       "      <th>PoolArea</th>\n",
       "      <th>MiscVal</th>\n",
       "    </tr>\n",
       "  </thead>\n",
       "  <tbody>\n",
       "    <tr>\n",
       "      <th>0</th>\n",
       "      <td>1</td>\n",
       "      <td>65.0</td>\n",
       "      <td>8450</td>\n",
       "      <td>196.0</td>\n",
       "      <td>706.0</td>\n",
       "      <td>0.0</td>\n",
       "      <td>150.0</td>\n",
       "      <td>856.0</td>\n",
       "      <td>856</td>\n",
       "      <td>854</td>\n",
       "      <td>...</td>\n",
       "      <td>0</td>\n",
       "      <td>2.0</td>\n",
       "      <td>548.0</td>\n",
       "      <td>0</td>\n",
       "      <td>61</td>\n",
       "      <td>0</td>\n",
       "      <td>0</td>\n",
       "      <td>0</td>\n",
       "      <td>0</td>\n",
       "      <td>0</td>\n",
       "    </tr>\n",
       "    <tr>\n",
       "      <th>1</th>\n",
       "      <td>2</td>\n",
       "      <td>80.0</td>\n",
       "      <td>9600</td>\n",
       "      <td>0.0</td>\n",
       "      <td>978.0</td>\n",
       "      <td>0.0</td>\n",
       "      <td>284.0</td>\n",
       "      <td>1262.0</td>\n",
       "      <td>1262</td>\n",
       "      <td>0</td>\n",
       "      <td>...</td>\n",
       "      <td>1</td>\n",
       "      <td>2.0</td>\n",
       "      <td>460.0</td>\n",
       "      <td>298</td>\n",
       "      <td>0</td>\n",
       "      <td>0</td>\n",
       "      <td>0</td>\n",
       "      <td>0</td>\n",
       "      <td>0</td>\n",
       "      <td>0</td>\n",
       "    </tr>\n",
       "    <tr>\n",
       "      <th>2</th>\n",
       "      <td>3</td>\n",
       "      <td>68.0</td>\n",
       "      <td>11250</td>\n",
       "      <td>162.0</td>\n",
       "      <td>486.0</td>\n",
       "      <td>0.0</td>\n",
       "      <td>434.0</td>\n",
       "      <td>920.0</td>\n",
       "      <td>920</td>\n",
       "      <td>866</td>\n",
       "      <td>...</td>\n",
       "      <td>1</td>\n",
       "      <td>2.0</td>\n",
       "      <td>608.0</td>\n",
       "      <td>0</td>\n",
       "      <td>42</td>\n",
       "      <td>0</td>\n",
       "      <td>0</td>\n",
       "      <td>0</td>\n",
       "      <td>0</td>\n",
       "      <td>0</td>\n",
       "    </tr>\n",
       "    <tr>\n",
       "      <th>3</th>\n",
       "      <td>4</td>\n",
       "      <td>60.0</td>\n",
       "      <td>9550</td>\n",
       "      <td>0.0</td>\n",
       "      <td>216.0</td>\n",
       "      <td>0.0</td>\n",
       "      <td>540.0</td>\n",
       "      <td>756.0</td>\n",
       "      <td>961</td>\n",
       "      <td>756</td>\n",
       "      <td>...</td>\n",
       "      <td>1</td>\n",
       "      <td>3.0</td>\n",
       "      <td>642.0</td>\n",
       "      <td>0</td>\n",
       "      <td>35</td>\n",
       "      <td>272</td>\n",
       "      <td>0</td>\n",
       "      <td>0</td>\n",
       "      <td>0</td>\n",
       "      <td>0</td>\n",
       "    </tr>\n",
       "    <tr>\n",
       "      <th>4</th>\n",
       "      <td>5</td>\n",
       "      <td>84.0</td>\n",
       "      <td>14260</td>\n",
       "      <td>350.0</td>\n",
       "      <td>655.0</td>\n",
       "      <td>0.0</td>\n",
       "      <td>490.0</td>\n",
       "      <td>1145.0</td>\n",
       "      <td>1145</td>\n",
       "      <td>1053</td>\n",
       "      <td>...</td>\n",
       "      <td>1</td>\n",
       "      <td>3.0</td>\n",
       "      <td>836.0</td>\n",
       "      <td>192</td>\n",
       "      <td>84</td>\n",
       "      <td>0</td>\n",
       "      <td>0</td>\n",
       "      <td>0</td>\n",
       "      <td>0</td>\n",
       "      <td>0</td>\n",
       "    </tr>\n",
       "  </tbody>\n",
       "</table>\n",
       "<p>5 rows × 29 columns</p>\n",
       "</div>"
      ],
      "text/plain": [
       "   Id  LotFrontage  LotArea  MasVnrArea  BsmtFinSF1  BsmtFinSF2  BsmtUnfSF  \\\n",
       "0   1         65.0     8450       196.0       706.0         0.0      150.0   \n",
       "1   2         80.0     9600         0.0       978.0         0.0      284.0   \n",
       "2   3         68.0    11250       162.0       486.0         0.0      434.0   \n",
       "3   4         60.0     9550         0.0       216.0         0.0      540.0   \n",
       "4   5         84.0    14260       350.0       655.0         0.0      490.0   \n",
       "\n",
       "   TotalBsmtSF  1stFlrSF  2ndFlrSF  ...  Fireplaces  GarageCars  GarageArea  \\\n",
       "0        856.0       856       854  ...           0         2.0       548.0   \n",
       "1       1262.0      1262         0  ...           1         2.0       460.0   \n",
       "2        920.0       920       866  ...           1         2.0       608.0   \n",
       "3        756.0       961       756  ...           1         3.0       642.0   \n",
       "4       1145.0      1145      1053  ...           1         3.0       836.0   \n",
       "\n",
       "   WoodDeckSF  OpenPorchSF  EnclosedPorch  3SsnPorch  ScreenPorch  PoolArea  \\\n",
       "0           0           61              0          0            0         0   \n",
       "1         298            0              0          0            0         0   \n",
       "2           0           42              0          0            0         0   \n",
       "3           0           35            272          0            0         0   \n",
       "4         192           84              0          0            0         0   \n",
       "\n",
       "   MiscVal  \n",
       "0        0  \n",
       "1        0  \n",
       "2        0  \n",
       "3        0  \n",
       "4        0  \n",
       "\n",
       "[5 rows x 29 columns]"
      ]
     },
     "execution_count": 215,
     "metadata": {},
     "output_type": "execute_result"
    }
   ],
   "source": [
    "numcols.head()"
   ]
  },
  {
   "cell_type": "code",
   "execution_count": 216,
   "id": "4f0b76f7",
   "metadata": {},
   "outputs": [],
   "source": [
    "# Scaling of Numcols\n",
    "\n",
    "from sklearn.preprocessing import StandardScaler"
   ]
  },
  {
   "cell_type": "code",
   "execution_count": 217,
   "id": "99ecec03",
   "metadata": {},
   "outputs": [],
   "source": [
    "#numcols = numcols.drop('Id',axis=1)"
   ]
  },
  {
   "cell_type": "code",
   "execution_count": 218,
   "id": "c7d03c11",
   "metadata": {},
   "outputs": [],
   "source": [
    "numcols_scaled = StandardScaler().fit_transform(numcols.drop('Id', axis = 1))"
   ]
  },
  {
   "cell_type": "code",
   "execution_count": 220,
   "id": "bd12872b",
   "metadata": {},
   "outputs": [],
   "source": [
    "numcols = numcols.drop('Id',axis =1)"
   ]
  },
  {
   "cell_type": "code",
   "execution_count": 221,
   "id": "464c6752",
   "metadata": {},
   "outputs": [],
   "source": [
    "numcols_scaled = pd.DataFrame(numcols_scaled, columns = numcols.columns)"
   ]
  },
  {
   "cell_type": "code",
   "execution_count": 222,
   "id": "6838a728",
   "metadata": {},
   "outputs": [
    {
     "data": {
      "text/html": [
       "<div>\n",
       "<style scoped>\n",
       "    .dataframe tbody tr th:only-of-type {\n",
       "        vertical-align: middle;\n",
       "    }\n",
       "\n",
       "    .dataframe tbody tr th {\n",
       "        vertical-align: top;\n",
       "    }\n",
       "\n",
       "    .dataframe thead th {\n",
       "        text-align: right;\n",
       "    }\n",
       "</style>\n",
       "<table border=\"1\" class=\"dataframe\">\n",
       "  <thead>\n",
       "    <tr style=\"text-align: right;\">\n",
       "      <th></th>\n",
       "      <th>LotFrontage</th>\n",
       "      <th>LotArea</th>\n",
       "      <th>MasVnrArea</th>\n",
       "      <th>BsmtFinSF1</th>\n",
       "      <th>BsmtFinSF2</th>\n",
       "      <th>BsmtUnfSF</th>\n",
       "      <th>TotalBsmtSF</th>\n",
       "      <th>1stFlrSF</th>\n",
       "      <th>2ndFlrSF</th>\n",
       "      <th>LowQualFinSF</th>\n",
       "      <th>...</th>\n",
       "      <th>Fireplaces</th>\n",
       "      <th>GarageCars</th>\n",
       "      <th>GarageArea</th>\n",
       "      <th>WoodDeckSF</th>\n",
       "      <th>OpenPorchSF</th>\n",
       "      <th>EnclosedPorch</th>\n",
       "      <th>3SsnPorch</th>\n",
       "      <th>ScreenPorch</th>\n",
       "      <th>PoolArea</th>\n",
       "      <th>MiscVal</th>\n",
       "    </tr>\n",
       "  </thead>\n",
       "  <tbody>\n",
       "    <tr>\n",
       "      <th>0</th>\n",
       "      <td>-0.191815</td>\n",
       "      <td>-0.217879</td>\n",
       "      <td>0.529034</td>\n",
       "      <td>0.580959</td>\n",
       "      <td>-0.293025</td>\n",
       "      <td>-0.934782</td>\n",
       "      <td>-0.444278</td>\n",
       "      <td>-0.773861</td>\n",
       "      <td>1.207379</td>\n",
       "      <td>-0.101197</td>\n",
       "      <td>...</td>\n",
       "      <td>-0.924311</td>\n",
       "      <td>0.306418</td>\n",
       "      <td>0.348888</td>\n",
       "      <td>-0.740760</td>\n",
       "      <td>0.200006</td>\n",
       "      <td>-0.359601</td>\n",
       "      <td>-0.103331</td>\n",
       "      <td>-0.285935</td>\n",
       "      <td>-0.06315</td>\n",
       "      <td>-0.089592</td>\n",
       "    </tr>\n",
       "    <tr>\n",
       "      <th>1</th>\n",
       "      <td>0.511940</td>\n",
       "      <td>-0.072044</td>\n",
       "      <td>-0.567016</td>\n",
       "      <td>1.178162</td>\n",
       "      <td>-0.293025</td>\n",
       "      <td>-0.629818</td>\n",
       "      <td>0.477158</td>\n",
       "      <td>0.261075</td>\n",
       "      <td>-0.785025</td>\n",
       "      <td>-0.101197</td>\n",
       "      <td>...</td>\n",
       "      <td>0.623632</td>\n",
       "      <td>0.306418</td>\n",
       "      <td>-0.059804</td>\n",
       "      <td>1.614879</td>\n",
       "      <td>-0.702843</td>\n",
       "      <td>-0.359601</td>\n",
       "      <td>-0.103331</td>\n",
       "      <td>-0.285935</td>\n",
       "      <td>-0.06315</td>\n",
       "      <td>-0.089592</td>\n",
       "    </tr>\n",
       "    <tr>\n",
       "      <th>2</th>\n",
       "      <td>-0.051064</td>\n",
       "      <td>0.137197</td>\n",
       "      <td>0.338903</td>\n",
       "      <td>0.097928</td>\n",
       "      <td>-0.293025</td>\n",
       "      <td>-0.288441</td>\n",
       "      <td>-0.299027</td>\n",
       "      <td>-0.610718</td>\n",
       "      <td>1.235375</td>\n",
       "      <td>-0.101197</td>\n",
       "      <td>...</td>\n",
       "      <td>0.623632</td>\n",
       "      <td>0.306418</td>\n",
       "      <td>0.627542</td>\n",
       "      <td>-0.740760</td>\n",
       "      <td>-0.081209</td>\n",
       "      <td>-0.359601</td>\n",
       "      <td>-0.103331</td>\n",
       "      <td>-0.285935</td>\n",
       "      <td>-0.06315</td>\n",
       "      <td>-0.089592</td>\n",
       "    </tr>\n",
       "    <tr>\n",
       "      <th>3</th>\n",
       "      <td>-0.426400</td>\n",
       "      <td>-0.078385</td>\n",
       "      <td>-0.567016</td>\n",
       "      <td>-0.494884</td>\n",
       "      <td>-0.293025</td>\n",
       "      <td>-0.047201</td>\n",
       "      <td>-0.671232</td>\n",
       "      <td>-0.506205</td>\n",
       "      <td>0.978742</td>\n",
       "      <td>-0.101197</td>\n",
       "      <td>...</td>\n",
       "      <td>0.623632</td>\n",
       "      <td>1.619830</td>\n",
       "      <td>0.785446</td>\n",
       "      <td>-0.740760</td>\n",
       "      <td>-0.184815</td>\n",
       "      <td>3.874967</td>\n",
       "      <td>-0.103331</td>\n",
       "      <td>-0.285935</td>\n",
       "      <td>-0.06315</td>\n",
       "      <td>-0.089592</td>\n",
       "    </tr>\n",
       "    <tr>\n",
       "      <th>4</th>\n",
       "      <td>0.699608</td>\n",
       "      <td>0.518903</td>\n",
       "      <td>1.390216</td>\n",
       "      <td>0.468984</td>\n",
       "      <td>-0.293025</td>\n",
       "      <td>-0.160994</td>\n",
       "      <td>0.211621</td>\n",
       "      <td>-0.037170</td>\n",
       "      <td>1.671651</td>\n",
       "      <td>-0.101197</td>\n",
       "      <td>...</td>\n",
       "      <td>0.623632</td>\n",
       "      <td>1.619830</td>\n",
       "      <td>1.686426</td>\n",
       "      <td>0.776967</td>\n",
       "      <td>0.540424</td>\n",
       "      <td>-0.359601</td>\n",
       "      <td>-0.103331</td>\n",
       "      <td>-0.285935</td>\n",
       "      <td>-0.06315</td>\n",
       "      <td>-0.089592</td>\n",
       "    </tr>\n",
       "    <tr>\n",
       "      <th>...</th>\n",
       "      <td>...</td>\n",
       "      <td>...</td>\n",
       "      <td>...</td>\n",
       "      <td>...</td>\n",
       "      <td>...</td>\n",
       "      <td>...</td>\n",
       "      <td>...</td>\n",
       "      <td>...</td>\n",
       "      <td>...</td>\n",
       "      <td>...</td>\n",
       "      <td>...</td>\n",
       "      <td>...</td>\n",
       "      <td>...</td>\n",
       "      <td>...</td>\n",
       "      <td>...</td>\n",
       "      <td>...</td>\n",
       "      <td>...</td>\n",
       "      <td>...</td>\n",
       "      <td>...</td>\n",
       "      <td>...</td>\n",
       "      <td>...</td>\n",
       "    </tr>\n",
       "    <tr>\n",
       "      <th>2914</th>\n",
       "      <td>-2.256162</td>\n",
       "      <td>-1.043937</td>\n",
       "      <td>-0.567016</td>\n",
       "      <td>-0.969133</td>\n",
       "      <td>-0.293025</td>\n",
       "      <td>-0.033546</td>\n",
       "      <td>-1.147837</td>\n",
       "      <td>-1.564083</td>\n",
       "      <td>0.488807</td>\n",
       "      <td>-0.101197</td>\n",
       "      <td>...</td>\n",
       "      <td>-0.924311</td>\n",
       "      <td>-2.320407</td>\n",
       "      <td>-2.196149</td>\n",
       "      <td>-0.740760</td>\n",
       "      <td>-0.702843</td>\n",
       "      <td>-0.359601</td>\n",
       "      <td>-0.103331</td>\n",
       "      <td>-0.285935</td>\n",
       "      <td>-0.06315</td>\n",
       "      <td>-0.089592</td>\n",
       "    </tr>\n",
       "    <tr>\n",
       "      <th>2915</th>\n",
       "      <td>-2.256162</td>\n",
       "      <td>-1.049263</td>\n",
       "      <td>-0.567016</td>\n",
       "      <td>-0.415842</td>\n",
       "      <td>-0.293025</td>\n",
       "      <td>-0.607060</td>\n",
       "      <td>-1.147837</td>\n",
       "      <td>-1.564083</td>\n",
       "      <td>0.488807</td>\n",
       "      <td>-0.101197</td>\n",
       "      <td>...</td>\n",
       "      <td>-0.924311</td>\n",
       "      <td>-1.006994</td>\n",
       "      <td>-0.867899</td>\n",
       "      <td>-0.740760</td>\n",
       "      <td>-0.347624</td>\n",
       "      <td>-0.359601</td>\n",
       "      <td>-0.103331</td>\n",
       "      <td>-0.285935</td>\n",
       "      <td>-0.06315</td>\n",
       "      <td>-0.089592</td>\n",
       "    </tr>\n",
       "    <tr>\n",
       "      <th>2916</th>\n",
       "      <td>4.265298</td>\n",
       "      <td>1.246808</td>\n",
       "      <td>-0.567016</td>\n",
       "      <td>1.718279</td>\n",
       "      <td>-0.293025</td>\n",
       "      <td>-1.276159</td>\n",
       "      <td>0.390915</td>\n",
       "      <td>0.164209</td>\n",
       "      <td>-0.785025</td>\n",
       "      <td>-0.101197</td>\n",
       "      <td>...</td>\n",
       "      <td>0.623632</td>\n",
       "      <td>0.306418</td>\n",
       "      <td>0.478927</td>\n",
       "      <td>3.006130</td>\n",
       "      <td>-0.702843</td>\n",
       "      <td>-0.359601</td>\n",
       "      <td>-0.103331</td>\n",
       "      <td>-0.285935</td>\n",
       "      <td>-0.06315</td>\n",
       "      <td>-0.089592</td>\n",
       "    </tr>\n",
       "    <tr>\n",
       "      <th>2917</th>\n",
       "      <td>-0.332566</td>\n",
       "      <td>0.034605</td>\n",
       "      <td>-0.567016</td>\n",
       "      <td>-0.229217</td>\n",
       "      <td>-0.293025</td>\n",
       "      <td>0.032454</td>\n",
       "      <td>-0.317183</td>\n",
       "      <td>-0.483263</td>\n",
       "      <td>-0.785025</td>\n",
       "      <td>-0.101197</td>\n",
       "      <td>...</td>\n",
       "      <td>-0.924311</td>\n",
       "      <td>-2.320407</td>\n",
       "      <td>-2.196149</td>\n",
       "      <td>-0.108374</td>\n",
       "      <td>-0.229217</td>\n",
       "      <td>-0.359601</td>\n",
       "      <td>-0.103331</td>\n",
       "      <td>-0.285935</td>\n",
       "      <td>-0.06315</td>\n",
       "      <td>1.144312</td>\n",
       "    </tr>\n",
       "    <tr>\n",
       "      <th>2918</th>\n",
       "      <td>0.230438</td>\n",
       "      <td>-0.068620</td>\n",
       "      <td>-0.041359</td>\n",
       "      <td>0.695130</td>\n",
       "      <td>-0.293025</td>\n",
       "      <td>-0.734507</td>\n",
       "      <td>-0.126541</td>\n",
       "      <td>-0.416987</td>\n",
       "      <td>1.557332</td>\n",
       "      <td>-0.101197</td>\n",
       "      <td>...</td>\n",
       "      <td>0.623632</td>\n",
       "      <td>1.619830</td>\n",
       "      <td>0.822599</td>\n",
       "      <td>0.761158</td>\n",
       "      <td>0.007596</td>\n",
       "      <td>-0.359601</td>\n",
       "      <td>-0.103331</td>\n",
       "      <td>-0.285935</td>\n",
       "      <td>-0.06315</td>\n",
       "      <td>-0.089592</td>\n",
       "    </tr>\n",
       "  </tbody>\n",
       "</table>\n",
       "<p>2919 rows × 28 columns</p>\n",
       "</div>"
      ],
      "text/plain": [
       "      LotFrontage   LotArea  MasVnrArea  BsmtFinSF1  BsmtFinSF2  BsmtUnfSF  \\\n",
       "0       -0.191815 -0.217879    0.529034    0.580959   -0.293025  -0.934782   \n",
       "1        0.511940 -0.072044   -0.567016    1.178162   -0.293025  -0.629818   \n",
       "2       -0.051064  0.137197    0.338903    0.097928   -0.293025  -0.288441   \n",
       "3       -0.426400 -0.078385   -0.567016   -0.494884   -0.293025  -0.047201   \n",
       "4        0.699608  0.518903    1.390216    0.468984   -0.293025  -0.160994   \n",
       "...           ...       ...         ...         ...         ...        ...   \n",
       "2914    -2.256162 -1.043937   -0.567016   -0.969133   -0.293025  -0.033546   \n",
       "2915    -2.256162 -1.049263   -0.567016   -0.415842   -0.293025  -0.607060   \n",
       "2916     4.265298  1.246808   -0.567016    1.718279   -0.293025  -1.276159   \n",
       "2917    -0.332566  0.034605   -0.567016   -0.229217   -0.293025   0.032454   \n",
       "2918     0.230438 -0.068620   -0.041359    0.695130   -0.293025  -0.734507   \n",
       "\n",
       "      TotalBsmtSF  1stFlrSF  2ndFlrSF  LowQualFinSF  ...  Fireplaces  \\\n",
       "0       -0.444278 -0.773861  1.207379     -0.101197  ...   -0.924311   \n",
       "1        0.477158  0.261075 -0.785025     -0.101197  ...    0.623632   \n",
       "2       -0.299027 -0.610718  1.235375     -0.101197  ...    0.623632   \n",
       "3       -0.671232 -0.506205  0.978742     -0.101197  ...    0.623632   \n",
       "4        0.211621 -0.037170  1.671651     -0.101197  ...    0.623632   \n",
       "...           ...       ...       ...           ...  ...         ...   \n",
       "2914    -1.147837 -1.564083  0.488807     -0.101197  ...   -0.924311   \n",
       "2915    -1.147837 -1.564083  0.488807     -0.101197  ...   -0.924311   \n",
       "2916     0.390915  0.164209 -0.785025     -0.101197  ...    0.623632   \n",
       "2917    -0.317183 -0.483263 -0.785025     -0.101197  ...   -0.924311   \n",
       "2918    -0.126541 -0.416987  1.557332     -0.101197  ...    0.623632   \n",
       "\n",
       "      GarageCars  GarageArea  WoodDeckSF  OpenPorchSF  EnclosedPorch  \\\n",
       "0       0.306418    0.348888   -0.740760     0.200006      -0.359601   \n",
       "1       0.306418   -0.059804    1.614879    -0.702843      -0.359601   \n",
       "2       0.306418    0.627542   -0.740760    -0.081209      -0.359601   \n",
       "3       1.619830    0.785446   -0.740760    -0.184815       3.874967   \n",
       "4       1.619830    1.686426    0.776967     0.540424      -0.359601   \n",
       "...          ...         ...         ...          ...            ...   \n",
       "2914   -2.320407   -2.196149   -0.740760    -0.702843      -0.359601   \n",
       "2915   -1.006994   -0.867899   -0.740760    -0.347624      -0.359601   \n",
       "2916    0.306418    0.478927    3.006130    -0.702843      -0.359601   \n",
       "2917   -2.320407   -2.196149   -0.108374    -0.229217      -0.359601   \n",
       "2918    1.619830    0.822599    0.761158     0.007596      -0.359601   \n",
       "\n",
       "      3SsnPorch  ScreenPorch  PoolArea   MiscVal  \n",
       "0     -0.103331    -0.285935  -0.06315 -0.089592  \n",
       "1     -0.103331    -0.285935  -0.06315 -0.089592  \n",
       "2     -0.103331    -0.285935  -0.06315 -0.089592  \n",
       "3     -0.103331    -0.285935  -0.06315 -0.089592  \n",
       "4     -0.103331    -0.285935  -0.06315 -0.089592  \n",
       "...         ...          ...       ...       ...  \n",
       "2914  -0.103331    -0.285935  -0.06315 -0.089592  \n",
       "2915  -0.103331    -0.285935  -0.06315 -0.089592  \n",
       "2916  -0.103331    -0.285935  -0.06315 -0.089592  \n",
       "2917  -0.103331    -0.285935  -0.06315  1.144312  \n",
       "2918  -0.103331    -0.285935  -0.06315 -0.089592  \n",
       "\n",
       "[2919 rows x 28 columns]"
      ]
     },
     "execution_count": 222,
     "metadata": {},
     "output_type": "execute_result"
    }
   ],
   "source": [
    "numcols_scaled"
   ]
  },
  {
   "cell_type": "code",
   "execution_count": null,
   "id": "49bfa765",
   "metadata": {},
   "outputs": [],
   "source": [
    "# Check for Multicollinearity (no include Id)\n",
    "plt.figure(figsize=(30,10))\n",
    "sns.heatmap(numcols_scaled.corr(),annot=True,cmap='plasma')"
   ]
  },
  {
   "cell_type": "code",
   "execution_count": null,
   "id": "3bdb4781",
   "metadata": {},
   "outputs": [],
   "source": [
    "sns.pairplot(numcols_scaled)"
   ]
  },
  {
   "cell_type": "code",
   "execution_count": 224,
   "id": "dbe97f01",
   "metadata": {},
   "outputs": [],
   "source": [
    "y = objcols.SalePrice"
   ]
  },
  {
   "cell_type": "code",
   "execution_count": 225,
   "id": "4f8f8af5",
   "metadata": {},
   "outputs": [],
   "source": [
    "objcols = objcols.drop('SalePrice',axis=1)"
   ]
  },
  {
   "cell_type": "code",
   "execution_count": 226,
   "id": "c0ad9e37",
   "metadata": {},
   "outputs": [],
   "source": [
    "from sklearn.preprocessing import LabelEncoder"
   ]
  },
  {
   "cell_type": "code",
   "execution_count": 227,
   "id": "877472a3",
   "metadata": {},
   "outputs": [],
   "source": [
    "le = LabelEncoder()"
   ]
  },
  {
   "cell_type": "code",
   "execution_count": 228,
   "id": "c918437d",
   "metadata": {},
   "outputs": [],
   "source": [
    "objcols_en = objcols.apply(le.fit_transform)"
   ]
  },
  {
   "cell_type": "code",
   "execution_count": 229,
   "id": "7fc2db66",
   "metadata": {},
   "outputs": [
    {
     "data": {
      "text/html": [
       "<div>\n",
       "<style scoped>\n",
       "    .dataframe tbody tr th:only-of-type {\n",
       "        vertical-align: middle;\n",
       "    }\n",
       "\n",
       "    .dataframe tbody tr th {\n",
       "        vertical-align: top;\n",
       "    }\n",
       "\n",
       "    .dataframe thead th {\n",
       "        text-align: right;\n",
       "    }\n",
       "</style>\n",
       "<table border=\"1\" class=\"dataframe\">\n",
       "  <thead>\n",
       "    <tr style=\"text-align: right;\">\n",
       "      <th></th>\n",
       "      <th>MSZoning</th>\n",
       "      <th>Street</th>\n",
       "      <th>Alley</th>\n",
       "      <th>LotShape</th>\n",
       "      <th>LandContour</th>\n",
       "      <th>Utilities</th>\n",
       "      <th>LotConfig</th>\n",
       "      <th>LandSlope</th>\n",
       "      <th>Neighborhood</th>\n",
       "      <th>Condition1</th>\n",
       "      <th>...</th>\n",
       "      <th>GarageType</th>\n",
       "      <th>GarageFinish</th>\n",
       "      <th>GarageQual</th>\n",
       "      <th>GarageCond</th>\n",
       "      <th>PavedDrive</th>\n",
       "      <th>PoolQC</th>\n",
       "      <th>Fence</th>\n",
       "      <th>MiscFeature</th>\n",
       "      <th>SaleType</th>\n",
       "      <th>SaleCondition</th>\n",
       "    </tr>\n",
       "  </thead>\n",
       "  <tbody>\n",
       "    <tr>\n",
       "      <th>0</th>\n",
       "      <td>3</td>\n",
       "      <td>1</td>\n",
       "      <td>1</td>\n",
       "      <td>3</td>\n",
       "      <td>3</td>\n",
       "      <td>0</td>\n",
       "      <td>4</td>\n",
       "      <td>0</td>\n",
       "      <td>5</td>\n",
       "      <td>2</td>\n",
       "      <td>...</td>\n",
       "      <td>1</td>\n",
       "      <td>2</td>\n",
       "      <td>5</td>\n",
       "      <td>5</td>\n",
       "      <td>2</td>\n",
       "      <td>3</td>\n",
       "      <td>4</td>\n",
       "      <td>1</td>\n",
       "      <td>8</td>\n",
       "      <td>4</td>\n",
       "    </tr>\n",
       "    <tr>\n",
       "      <th>1</th>\n",
       "      <td>3</td>\n",
       "      <td>1</td>\n",
       "      <td>1</td>\n",
       "      <td>3</td>\n",
       "      <td>3</td>\n",
       "      <td>0</td>\n",
       "      <td>2</td>\n",
       "      <td>0</td>\n",
       "      <td>24</td>\n",
       "      <td>1</td>\n",
       "      <td>...</td>\n",
       "      <td>1</td>\n",
       "      <td>2</td>\n",
       "      <td>5</td>\n",
       "      <td>5</td>\n",
       "      <td>2</td>\n",
       "      <td>3</td>\n",
       "      <td>4</td>\n",
       "      <td>1</td>\n",
       "      <td>8</td>\n",
       "      <td>4</td>\n",
       "    </tr>\n",
       "    <tr>\n",
       "      <th>2</th>\n",
       "      <td>3</td>\n",
       "      <td>1</td>\n",
       "      <td>1</td>\n",
       "      <td>0</td>\n",
       "      <td>3</td>\n",
       "      <td>0</td>\n",
       "      <td>4</td>\n",
       "      <td>0</td>\n",
       "      <td>5</td>\n",
       "      <td>2</td>\n",
       "      <td>...</td>\n",
       "      <td>1</td>\n",
       "      <td>2</td>\n",
       "      <td>5</td>\n",
       "      <td>5</td>\n",
       "      <td>2</td>\n",
       "      <td>3</td>\n",
       "      <td>4</td>\n",
       "      <td>1</td>\n",
       "      <td>8</td>\n",
       "      <td>4</td>\n",
       "    </tr>\n",
       "    <tr>\n",
       "      <th>3</th>\n",
       "      <td>3</td>\n",
       "      <td>1</td>\n",
       "      <td>1</td>\n",
       "      <td>0</td>\n",
       "      <td>3</td>\n",
       "      <td>0</td>\n",
       "      <td>0</td>\n",
       "      <td>0</td>\n",
       "      <td>6</td>\n",
       "      <td>2</td>\n",
       "      <td>...</td>\n",
       "      <td>5</td>\n",
       "      <td>3</td>\n",
       "      <td>5</td>\n",
       "      <td>5</td>\n",
       "      <td>2</td>\n",
       "      <td>3</td>\n",
       "      <td>4</td>\n",
       "      <td>1</td>\n",
       "      <td>8</td>\n",
       "      <td>0</td>\n",
       "    </tr>\n",
       "    <tr>\n",
       "      <th>4</th>\n",
       "      <td>3</td>\n",
       "      <td>1</td>\n",
       "      <td>1</td>\n",
       "      <td>0</td>\n",
       "      <td>3</td>\n",
       "      <td>0</td>\n",
       "      <td>2</td>\n",
       "      <td>0</td>\n",
       "      <td>15</td>\n",
       "      <td>2</td>\n",
       "      <td>...</td>\n",
       "      <td>1</td>\n",
       "      <td>2</td>\n",
       "      <td>5</td>\n",
       "      <td>5</td>\n",
       "      <td>2</td>\n",
       "      <td>3</td>\n",
       "      <td>4</td>\n",
       "      <td>1</td>\n",
       "      <td>8</td>\n",
       "      <td>4</td>\n",
       "    </tr>\n",
       "    <tr>\n",
       "      <th>...</th>\n",
       "      <td>...</td>\n",
       "      <td>...</td>\n",
       "      <td>...</td>\n",
       "      <td>...</td>\n",
       "      <td>...</td>\n",
       "      <td>...</td>\n",
       "      <td>...</td>\n",
       "      <td>...</td>\n",
       "      <td>...</td>\n",
       "      <td>...</td>\n",
       "      <td>...</td>\n",
       "      <td>...</td>\n",
       "      <td>...</td>\n",
       "      <td>...</td>\n",
       "      <td>...</td>\n",
       "      <td>...</td>\n",
       "      <td>...</td>\n",
       "      <td>...</td>\n",
       "      <td>...</td>\n",
       "      <td>...</td>\n",
       "      <td>...</td>\n",
       "    </tr>\n",
       "    <tr>\n",
       "      <th>1454</th>\n",
       "      <td>4</td>\n",
       "      <td>1</td>\n",
       "      <td>1</td>\n",
       "      <td>3</td>\n",
       "      <td>3</td>\n",
       "      <td>0</td>\n",
       "      <td>4</td>\n",
       "      <td>0</td>\n",
       "      <td>10</td>\n",
       "      <td>2</td>\n",
       "      <td>...</td>\n",
       "      <td>6</td>\n",
       "      <td>1</td>\n",
       "      <td>3</td>\n",
       "      <td>3</td>\n",
       "      <td>2</td>\n",
       "      <td>3</td>\n",
       "      <td>4</td>\n",
       "      <td>1</td>\n",
       "      <td>8</td>\n",
       "      <td>4</td>\n",
       "    </tr>\n",
       "    <tr>\n",
       "      <th>1455</th>\n",
       "      <td>4</td>\n",
       "      <td>1</td>\n",
       "      <td>1</td>\n",
       "      <td>3</td>\n",
       "      <td>3</td>\n",
       "      <td>0</td>\n",
       "      <td>4</td>\n",
       "      <td>0</td>\n",
       "      <td>10</td>\n",
       "      <td>2</td>\n",
       "      <td>...</td>\n",
       "      <td>4</td>\n",
       "      <td>3</td>\n",
       "      <td>5</td>\n",
       "      <td>5</td>\n",
       "      <td>2</td>\n",
       "      <td>3</td>\n",
       "      <td>4</td>\n",
       "      <td>1</td>\n",
       "      <td>8</td>\n",
       "      <td>0</td>\n",
       "    </tr>\n",
       "    <tr>\n",
       "      <th>1456</th>\n",
       "      <td>3</td>\n",
       "      <td>1</td>\n",
       "      <td>1</td>\n",
       "      <td>3</td>\n",
       "      <td>3</td>\n",
       "      <td>0</td>\n",
       "      <td>4</td>\n",
       "      <td>0</td>\n",
       "      <td>11</td>\n",
       "      <td>2</td>\n",
       "      <td>...</td>\n",
       "      <td>5</td>\n",
       "      <td>3</td>\n",
       "      <td>5</td>\n",
       "      <td>5</td>\n",
       "      <td>2</td>\n",
       "      <td>3</td>\n",
       "      <td>4</td>\n",
       "      <td>1</td>\n",
       "      <td>8</td>\n",
       "      <td>0</td>\n",
       "    </tr>\n",
       "    <tr>\n",
       "      <th>1457</th>\n",
       "      <td>3</td>\n",
       "      <td>1</td>\n",
       "      <td>1</td>\n",
       "      <td>3</td>\n",
       "      <td>3</td>\n",
       "      <td>0</td>\n",
       "      <td>4</td>\n",
       "      <td>0</td>\n",
       "      <td>11</td>\n",
       "      <td>2</td>\n",
       "      <td>...</td>\n",
       "      <td>6</td>\n",
       "      <td>1</td>\n",
       "      <td>3</td>\n",
       "      <td>3</td>\n",
       "      <td>2</td>\n",
       "      <td>3</td>\n",
       "      <td>2</td>\n",
       "      <td>3</td>\n",
       "      <td>8</td>\n",
       "      <td>4</td>\n",
       "    </tr>\n",
       "    <tr>\n",
       "      <th>1458</th>\n",
       "      <td>3</td>\n",
       "      <td>1</td>\n",
       "      <td>1</td>\n",
       "      <td>3</td>\n",
       "      <td>3</td>\n",
       "      <td>0</td>\n",
       "      <td>4</td>\n",
       "      <td>1</td>\n",
       "      <td>11</td>\n",
       "      <td>2</td>\n",
       "      <td>...</td>\n",
       "      <td>1</td>\n",
       "      <td>0</td>\n",
       "      <td>5</td>\n",
       "      <td>5</td>\n",
       "      <td>2</td>\n",
       "      <td>3</td>\n",
       "      <td>4</td>\n",
       "      <td>1</td>\n",
       "      <td>8</td>\n",
       "      <td>4</td>\n",
       "    </tr>\n",
       "  </tbody>\n",
       "</table>\n",
       "<p>2919 rows × 43 columns</p>\n",
       "</div>"
      ],
      "text/plain": [
       "      MSZoning  Street  Alley  LotShape  LandContour  Utilities  LotConfig  \\\n",
       "0            3       1      1         3            3          0          4   \n",
       "1            3       1      1         3            3          0          2   \n",
       "2            3       1      1         0            3          0          4   \n",
       "3            3       1      1         0            3          0          0   \n",
       "4            3       1      1         0            3          0          2   \n",
       "...        ...     ...    ...       ...          ...        ...        ...   \n",
       "1454         4       1      1         3            3          0          4   \n",
       "1455         4       1      1         3            3          0          4   \n",
       "1456         3       1      1         3            3          0          4   \n",
       "1457         3       1      1         3            3          0          4   \n",
       "1458         3       1      1         3            3          0          4   \n",
       "\n",
       "      LandSlope  Neighborhood  Condition1  ...  GarageType  GarageFinish  \\\n",
       "0             0             5           2  ...           1             2   \n",
       "1             0            24           1  ...           1             2   \n",
       "2             0             5           2  ...           1             2   \n",
       "3             0             6           2  ...           5             3   \n",
       "4             0            15           2  ...           1             2   \n",
       "...         ...           ...         ...  ...         ...           ...   \n",
       "1454          0            10           2  ...           6             1   \n",
       "1455          0            10           2  ...           4             3   \n",
       "1456          0            11           2  ...           5             3   \n",
       "1457          0            11           2  ...           6             1   \n",
       "1458          1            11           2  ...           1             0   \n",
       "\n",
       "      GarageQual  GarageCond  PavedDrive  PoolQC  Fence  MiscFeature  \\\n",
       "0              5           5           2       3      4            1   \n",
       "1              5           5           2       3      4            1   \n",
       "2              5           5           2       3      4            1   \n",
       "3              5           5           2       3      4            1   \n",
       "4              5           5           2       3      4            1   \n",
       "...          ...         ...         ...     ...    ...          ...   \n",
       "1454           3           3           2       3      4            1   \n",
       "1455           5           5           2       3      4            1   \n",
       "1456           5           5           2       3      4            1   \n",
       "1457           3           3           2       3      2            3   \n",
       "1458           5           5           2       3      4            1   \n",
       "\n",
       "      SaleType  SaleCondition  \n",
       "0            8              4  \n",
       "1            8              4  \n",
       "2            8              4  \n",
       "3            8              0  \n",
       "4            8              4  \n",
       "...        ...            ...  \n",
       "1454         8              4  \n",
       "1455         8              0  \n",
       "1456         8              0  \n",
       "1457         8              4  \n",
       "1458         8              4  \n",
       "\n",
       "[2919 rows x 43 columns]"
      ]
     },
     "execution_count": 229,
     "metadata": {},
     "output_type": "execute_result"
    }
   ],
   "source": [
    "objcols_en"
   ]
  },
  {
   "cell_type": "code",
   "execution_count": 230,
   "id": "c8837635",
   "metadata": {},
   "outputs": [],
   "source": [
    "objcols_en = objcols_en.reset_index()"
   ]
  },
  {
   "cell_type": "code",
   "execution_count": 231,
   "id": "353dfbb7",
   "metadata": {},
   "outputs": [],
   "source": [
    "numcols_scaled =  numcols_scaled.reset_index()"
   ]
  },
  {
   "cell_type": "code",
   "execution_count": 232,
   "id": "3ac859d6",
   "metadata": {},
   "outputs": [],
   "source": [
    "y = y.reset_index()"
   ]
  },
  {
   "cell_type": "code",
   "execution_count": 233,
   "id": "635246f7",
   "metadata": {},
   "outputs": [],
   "source": [
    "combine_clean = pd.concat([numcols_scaled,objcols_en,y],axis=1)"
   ]
  },
  {
   "cell_type": "code",
   "execution_count": 234,
   "id": "4970f1d8",
   "metadata": {},
   "outputs": [],
   "source": [
    "combine_clean = combine_clean.drop(['index'],axis=1)"
   ]
  },
  {
   "cell_type": "code",
   "execution_count": 235,
   "id": "bda079a8",
   "metadata": {},
   "outputs": [
    {
     "data": {
      "text/plain": [
       "(2919, 72)"
      ]
     },
     "execution_count": 235,
     "metadata": {},
     "output_type": "execute_result"
    }
   ],
   "source": [
    "combine_clean.shape"
   ]
  },
  {
   "cell_type": "code",
   "execution_count": 236,
   "id": "371ab1a6",
   "metadata": {},
   "outputs": [],
   "source": [
    "X_train = combine_clean[combine_clean.SalePrice!='test'].drop('SalePrice',axis = 1)"
   ]
  },
  {
   "cell_type": "code",
   "execution_count": 237,
   "id": "9e2b0238",
   "metadata": {},
   "outputs": [],
   "source": [
    "X_test  = combine_clean[combine_clean.SalePrice=='test'].drop('SalePrice',axis = 1)"
   ]
  },
  {
   "cell_type": "code",
   "execution_count": 238,
   "id": "824d7337",
   "metadata": {},
   "outputs": [
    {
     "data": {
      "text/html": [
       "<div>\n",
       "<style scoped>\n",
       "    .dataframe tbody tr th:only-of-type {\n",
       "        vertical-align: middle;\n",
       "    }\n",
       "\n",
       "    .dataframe tbody tr th {\n",
       "        vertical-align: top;\n",
       "    }\n",
       "\n",
       "    .dataframe thead th {\n",
       "        text-align: right;\n",
       "    }\n",
       "</style>\n",
       "<table border=\"1\" class=\"dataframe\">\n",
       "  <thead>\n",
       "    <tr style=\"text-align: right;\">\n",
       "      <th></th>\n",
       "      <th>LotFrontage</th>\n",
       "      <th>LotArea</th>\n",
       "      <th>MasVnrArea</th>\n",
       "      <th>BsmtFinSF1</th>\n",
       "      <th>BsmtFinSF2</th>\n",
       "      <th>BsmtUnfSF</th>\n",
       "      <th>TotalBsmtSF</th>\n",
       "      <th>1stFlrSF</th>\n",
       "      <th>2ndFlrSF</th>\n",
       "      <th>LowQualFinSF</th>\n",
       "      <th>...</th>\n",
       "      <th>GarageType</th>\n",
       "      <th>GarageFinish</th>\n",
       "      <th>GarageQual</th>\n",
       "      <th>GarageCond</th>\n",
       "      <th>PavedDrive</th>\n",
       "      <th>PoolQC</th>\n",
       "      <th>Fence</th>\n",
       "      <th>MiscFeature</th>\n",
       "      <th>SaleType</th>\n",
       "      <th>SaleCondition</th>\n",
       "    </tr>\n",
       "  </thead>\n",
       "  <tbody>\n",
       "    <tr>\n",
       "      <th>1460</th>\n",
       "      <td>0.511940</td>\n",
       "      <td>0.184371</td>\n",
       "      <td>-0.567016</td>\n",
       "      <td>0.058407</td>\n",
       "      <td>0.558290</td>\n",
       "      <td>-0.661680</td>\n",
       "      <td>-0.385270</td>\n",
       "      <td>-0.671897</td>\n",
       "      <td>-0.785025</td>\n",
       "      <td>-0.101197</td>\n",
       "      <td>...</td>\n",
       "      <td>1</td>\n",
       "      <td>3</td>\n",
       "      <td>5</td>\n",
       "      <td>5</td>\n",
       "      <td>2</td>\n",
       "      <td>3</td>\n",
       "      <td>2</td>\n",
       "      <td>1</td>\n",
       "      <td>8</td>\n",
       "      <td>4</td>\n",
       "    </tr>\n",
       "    <tr>\n",
       "      <th>1461</th>\n",
       "      <td>0.558857</td>\n",
       "      <td>0.519791</td>\n",
       "      <td>0.036930</td>\n",
       "      <td>1.057404</td>\n",
       "      <td>-0.293025</td>\n",
       "      <td>-0.352165</td>\n",
       "      <td>0.629217</td>\n",
       "      <td>0.431865</td>\n",
       "      <td>-0.785025</td>\n",
       "      <td>-0.101197</td>\n",
       "      <td>...</td>\n",
       "      <td>1</td>\n",
       "      <td>3</td>\n",
       "      <td>5</td>\n",
       "      <td>5</td>\n",
       "      <td>2</td>\n",
       "      <td>3</td>\n",
       "      <td>4</td>\n",
       "      <td>0</td>\n",
       "      <td>8</td>\n",
       "      <td>4</td>\n",
       "    </tr>\n",
       "    <tr>\n",
       "      <th>1462</th>\n",
       "      <td>0.230438</td>\n",
       "      <td>0.464374</td>\n",
       "      <td>-0.567016</td>\n",
       "      <td>0.767585</td>\n",
       "      <td>-0.293025</td>\n",
       "      <td>-0.964368</td>\n",
       "      <td>-0.280871</td>\n",
       "      <td>-0.590326</td>\n",
       "      <td>0.850426</td>\n",
       "      <td>-0.101197</td>\n",
       "      <td>...</td>\n",
       "      <td>1</td>\n",
       "      <td>0</td>\n",
       "      <td>5</td>\n",
       "      <td>5</td>\n",
       "      <td>2</td>\n",
       "      <td>3</td>\n",
       "      <td>2</td>\n",
       "      <td>1</td>\n",
       "      <td>8</td>\n",
       "      <td>4</td>\n",
       "    </tr>\n",
       "    <tr>\n",
       "      <th>1463</th>\n",
       "      <td>0.418106</td>\n",
       "      <td>-0.024109</td>\n",
       "      <td>-0.455174</td>\n",
       "      <td>0.352617</td>\n",
       "      <td>-0.293025</td>\n",
       "      <td>-0.538784</td>\n",
       "      <td>-0.285410</td>\n",
       "      <td>-0.595424</td>\n",
       "      <td>0.796766</td>\n",
       "      <td>-0.101197</td>\n",
       "      <td>...</td>\n",
       "      <td>1</td>\n",
       "      <td>0</td>\n",
       "      <td>5</td>\n",
       "      <td>5</td>\n",
       "      <td>2</td>\n",
       "      <td>3</td>\n",
       "      <td>4</td>\n",
       "      <td>1</td>\n",
       "      <td>8</td>\n",
       "      <td>4</td>\n",
       "    </tr>\n",
       "    <tr>\n",
       "      <th>1464</th>\n",
       "      <td>-1.223988</td>\n",
       "      <td>-0.654748</td>\n",
       "      <td>-0.567016</td>\n",
       "      <td>-0.391691</td>\n",
       "      <td>-0.293025</td>\n",
       "      <td>1.038379</td>\n",
       "      <td>0.518010</td>\n",
       "      <td>0.306959</td>\n",
       "      <td>-0.785025</td>\n",
       "      <td>-0.101197</td>\n",
       "      <td>...</td>\n",
       "      <td>1</td>\n",
       "      <td>2</td>\n",
       "      <td>5</td>\n",
       "      <td>5</td>\n",
       "      <td>2</td>\n",
       "      <td>3</td>\n",
       "      <td>4</td>\n",
       "      <td>1</td>\n",
       "      <td>8</td>\n",
       "      <td>4</td>\n",
       "    </tr>\n",
       "    <tr>\n",
       "      <th>...</th>\n",
       "      <td>...</td>\n",
       "      <td>...</td>\n",
       "      <td>...</td>\n",
       "      <td>...</td>\n",
       "      <td>...</td>\n",
       "      <td>...</td>\n",
       "      <td>...</td>\n",
       "      <td>...</td>\n",
       "      <td>...</td>\n",
       "      <td>...</td>\n",
       "      <td>...</td>\n",
       "      <td>...</td>\n",
       "      <td>...</td>\n",
       "      <td>...</td>\n",
       "      <td>...</td>\n",
       "      <td>...</td>\n",
       "      <td>...</td>\n",
       "      <td>...</td>\n",
       "      <td>...</td>\n",
       "      <td>...</td>\n",
       "      <td>...</td>\n",
       "    </tr>\n",
       "    <tr>\n",
       "      <th>2914</th>\n",
       "      <td>-2.256162</td>\n",
       "      <td>-1.043937</td>\n",
       "      <td>-0.567016</td>\n",
       "      <td>-0.969133</td>\n",
       "      <td>-0.293025</td>\n",
       "      <td>-0.033546</td>\n",
       "      <td>-1.147837</td>\n",
       "      <td>-1.564083</td>\n",
       "      <td>0.488807</td>\n",
       "      <td>-0.101197</td>\n",
       "      <td>...</td>\n",
       "      <td>6</td>\n",
       "      <td>1</td>\n",
       "      <td>3</td>\n",
       "      <td>3</td>\n",
       "      <td>2</td>\n",
       "      <td>3</td>\n",
       "      <td>4</td>\n",
       "      <td>1</td>\n",
       "      <td>8</td>\n",
       "      <td>4</td>\n",
       "    </tr>\n",
       "    <tr>\n",
       "      <th>2915</th>\n",
       "      <td>-2.256162</td>\n",
       "      <td>-1.049263</td>\n",
       "      <td>-0.567016</td>\n",
       "      <td>-0.415842</td>\n",
       "      <td>-0.293025</td>\n",
       "      <td>-0.607060</td>\n",
       "      <td>-1.147837</td>\n",
       "      <td>-1.564083</td>\n",
       "      <td>0.488807</td>\n",
       "      <td>-0.101197</td>\n",
       "      <td>...</td>\n",
       "      <td>4</td>\n",
       "      <td>3</td>\n",
       "      <td>5</td>\n",
       "      <td>5</td>\n",
       "      <td>2</td>\n",
       "      <td>3</td>\n",
       "      <td>4</td>\n",
       "      <td>1</td>\n",
       "      <td>8</td>\n",
       "      <td>0</td>\n",
       "    </tr>\n",
       "    <tr>\n",
       "      <th>2916</th>\n",
       "      <td>4.265298</td>\n",
       "      <td>1.246808</td>\n",
       "      <td>-0.567016</td>\n",
       "      <td>1.718279</td>\n",
       "      <td>-0.293025</td>\n",
       "      <td>-1.276159</td>\n",
       "      <td>0.390915</td>\n",
       "      <td>0.164209</td>\n",
       "      <td>-0.785025</td>\n",
       "      <td>-0.101197</td>\n",
       "      <td>...</td>\n",
       "      <td>5</td>\n",
       "      <td>3</td>\n",
       "      <td>5</td>\n",
       "      <td>5</td>\n",
       "      <td>2</td>\n",
       "      <td>3</td>\n",
       "      <td>4</td>\n",
       "      <td>1</td>\n",
       "      <td>8</td>\n",
       "      <td>0</td>\n",
       "    </tr>\n",
       "    <tr>\n",
       "      <th>2917</th>\n",
       "      <td>-0.332566</td>\n",
       "      <td>0.034605</td>\n",
       "      <td>-0.567016</td>\n",
       "      <td>-0.229217</td>\n",
       "      <td>-0.293025</td>\n",
       "      <td>0.032454</td>\n",
       "      <td>-0.317183</td>\n",
       "      <td>-0.483263</td>\n",
       "      <td>-0.785025</td>\n",
       "      <td>-0.101197</td>\n",
       "      <td>...</td>\n",
       "      <td>6</td>\n",
       "      <td>1</td>\n",
       "      <td>3</td>\n",
       "      <td>3</td>\n",
       "      <td>2</td>\n",
       "      <td>3</td>\n",
       "      <td>2</td>\n",
       "      <td>3</td>\n",
       "      <td>8</td>\n",
       "      <td>4</td>\n",
       "    </tr>\n",
       "    <tr>\n",
       "      <th>2918</th>\n",
       "      <td>0.230438</td>\n",
       "      <td>-0.068620</td>\n",
       "      <td>-0.041359</td>\n",
       "      <td>0.695130</td>\n",
       "      <td>-0.293025</td>\n",
       "      <td>-0.734507</td>\n",
       "      <td>-0.126541</td>\n",
       "      <td>-0.416987</td>\n",
       "      <td>1.557332</td>\n",
       "      <td>-0.101197</td>\n",
       "      <td>...</td>\n",
       "      <td>1</td>\n",
       "      <td>0</td>\n",
       "      <td>5</td>\n",
       "      <td>5</td>\n",
       "      <td>2</td>\n",
       "      <td>3</td>\n",
       "      <td>4</td>\n",
       "      <td>1</td>\n",
       "      <td>8</td>\n",
       "      <td>4</td>\n",
       "    </tr>\n",
       "  </tbody>\n",
       "</table>\n",
       "<p>1459 rows × 71 columns</p>\n",
       "</div>"
      ],
      "text/plain": [
       "      LotFrontage   LotArea  MasVnrArea  BsmtFinSF1  BsmtFinSF2  BsmtUnfSF  \\\n",
       "1460     0.511940  0.184371   -0.567016    0.058407    0.558290  -0.661680   \n",
       "1461     0.558857  0.519791    0.036930    1.057404   -0.293025  -0.352165   \n",
       "1462     0.230438  0.464374   -0.567016    0.767585   -0.293025  -0.964368   \n",
       "1463     0.418106 -0.024109   -0.455174    0.352617   -0.293025  -0.538784   \n",
       "1464    -1.223988 -0.654748   -0.567016   -0.391691   -0.293025   1.038379   \n",
       "...           ...       ...         ...         ...         ...        ...   \n",
       "2914    -2.256162 -1.043937   -0.567016   -0.969133   -0.293025  -0.033546   \n",
       "2915    -2.256162 -1.049263   -0.567016   -0.415842   -0.293025  -0.607060   \n",
       "2916     4.265298  1.246808   -0.567016    1.718279   -0.293025  -1.276159   \n",
       "2917    -0.332566  0.034605   -0.567016   -0.229217   -0.293025   0.032454   \n",
       "2918     0.230438 -0.068620   -0.041359    0.695130   -0.293025  -0.734507   \n",
       "\n",
       "      TotalBsmtSF  1stFlrSF  2ndFlrSF  LowQualFinSF  ...  GarageType  \\\n",
       "1460    -0.385270 -0.671897 -0.785025     -0.101197  ...           1   \n",
       "1461     0.629217  0.431865 -0.785025     -0.101197  ...           1   \n",
       "1462    -0.280871 -0.590326  0.850426     -0.101197  ...           1   \n",
       "1463    -0.285410 -0.595424  0.796766     -0.101197  ...           1   \n",
       "1464     0.518010  0.306959 -0.785025     -0.101197  ...           1   \n",
       "...           ...       ...       ...           ...  ...         ...   \n",
       "2914    -1.147837 -1.564083  0.488807     -0.101197  ...           6   \n",
       "2915    -1.147837 -1.564083  0.488807     -0.101197  ...           4   \n",
       "2916     0.390915  0.164209 -0.785025     -0.101197  ...           5   \n",
       "2917    -0.317183 -0.483263 -0.785025     -0.101197  ...           6   \n",
       "2918    -0.126541 -0.416987  1.557332     -0.101197  ...           1   \n",
       "\n",
       "      GarageFinish  GarageQual  GarageCond  PavedDrive  PoolQC  Fence  \\\n",
       "1460             3           5           5           2       3      2   \n",
       "1461             3           5           5           2       3      4   \n",
       "1462             0           5           5           2       3      2   \n",
       "1463             0           5           5           2       3      4   \n",
       "1464             2           5           5           2       3      4   \n",
       "...            ...         ...         ...         ...     ...    ...   \n",
       "2914             1           3           3           2       3      4   \n",
       "2915             3           5           5           2       3      4   \n",
       "2916             3           5           5           2       3      4   \n",
       "2917             1           3           3           2       3      2   \n",
       "2918             0           5           5           2       3      4   \n",
       "\n",
       "      MiscFeature  SaleType  SaleCondition  \n",
       "1460            1         8              4  \n",
       "1461            0         8              4  \n",
       "1462            1         8              4  \n",
       "1463            1         8              4  \n",
       "1464            1         8              4  \n",
       "...           ...       ...            ...  \n",
       "2914            1         8              4  \n",
       "2915            1         8              0  \n",
       "2916            1         8              0  \n",
       "2917            3         8              4  \n",
       "2918            1         8              4  \n",
       "\n",
       "[1459 rows x 71 columns]"
      ]
     },
     "execution_count": 238,
     "metadata": {},
     "output_type": "execute_result"
    }
   ],
   "source": [
    "X_test"
   ]
  },
  {
   "cell_type": "code",
   "execution_count": 239,
   "id": "4c5458db",
   "metadata": {},
   "outputs": [],
   "source": [
    "y = y.drop('index',axis=1)"
   ]
  },
  {
   "cell_type": "code",
   "execution_count": 240,
   "id": "5e2c7c3a",
   "metadata": {},
   "outputs": [],
   "source": [
    "y =  y[y.SalePrice!='test']"
   ]
  },
  {
   "cell_type": "code",
   "execution_count": 241,
   "id": "4431274b",
   "metadata": {},
   "outputs": [
    {
     "data": {
      "text/html": [
       "<div>\n",
       "<style scoped>\n",
       "    .dataframe tbody tr th:only-of-type {\n",
       "        vertical-align: middle;\n",
       "    }\n",
       "\n",
       "    .dataframe tbody tr th {\n",
       "        vertical-align: top;\n",
       "    }\n",
       "\n",
       "    .dataframe thead th {\n",
       "        text-align: right;\n",
       "    }\n",
       "</style>\n",
       "<table border=\"1\" class=\"dataframe\">\n",
       "  <thead>\n",
       "    <tr style=\"text-align: right;\">\n",
       "      <th></th>\n",
       "      <th>SalePrice</th>\n",
       "    </tr>\n",
       "  </thead>\n",
       "  <tbody>\n",
       "    <tr>\n",
       "      <th>0</th>\n",
       "      <td>208500</td>\n",
       "    </tr>\n",
       "    <tr>\n",
       "      <th>1</th>\n",
       "      <td>181500</td>\n",
       "    </tr>\n",
       "    <tr>\n",
       "      <th>2</th>\n",
       "      <td>223500</td>\n",
       "    </tr>\n",
       "    <tr>\n",
       "      <th>3</th>\n",
       "      <td>140000</td>\n",
       "    </tr>\n",
       "    <tr>\n",
       "      <th>4</th>\n",
       "      <td>250000</td>\n",
       "    </tr>\n",
       "    <tr>\n",
       "      <th>...</th>\n",
       "      <td>...</td>\n",
       "    </tr>\n",
       "    <tr>\n",
       "      <th>1455</th>\n",
       "      <td>175000</td>\n",
       "    </tr>\n",
       "    <tr>\n",
       "      <th>1456</th>\n",
       "      <td>210000</td>\n",
       "    </tr>\n",
       "    <tr>\n",
       "      <th>1457</th>\n",
       "      <td>266500</td>\n",
       "    </tr>\n",
       "    <tr>\n",
       "      <th>1458</th>\n",
       "      <td>142125</td>\n",
       "    </tr>\n",
       "    <tr>\n",
       "      <th>1459</th>\n",
       "      <td>147500</td>\n",
       "    </tr>\n",
       "  </tbody>\n",
       "</table>\n",
       "<p>1460 rows × 1 columns</p>\n",
       "</div>"
      ],
      "text/plain": [
       "     SalePrice\n",
       "0       208500\n",
       "1       181500\n",
       "2       223500\n",
       "3       140000\n",
       "4       250000\n",
       "...        ...\n",
       "1455    175000\n",
       "1456    210000\n",
       "1457    266500\n",
       "1458    142125\n",
       "1459    147500\n",
       "\n",
       "[1460 rows x 1 columns]"
      ]
     },
     "execution_count": 241,
     "metadata": {},
     "output_type": "execute_result"
    }
   ],
   "source": [
    "y"
   ]
  },
  {
   "cell_type": "code",
   "execution_count": 242,
   "id": "4bb472c4",
   "metadata": {},
   "outputs": [],
   "source": [
    "# Decision tree regressor\n",
    "# Multiple Linear Regression"
   ]
  },
  {
   "cell_type": "code",
   "execution_count": 243,
   "id": "35ba4926",
   "metadata": {},
   "outputs": [],
   "source": [
    "from sklearn.linear_model import LinearRegression"
   ]
  },
  {
   "cell_type": "code",
   "execution_count": 244,
   "id": "049a8524",
   "metadata": {},
   "outputs": [],
   "source": [
    "lr = LinearRegression()"
   ]
  },
  {
   "cell_type": "code",
   "execution_count": 245,
   "id": "93a4e36e",
   "metadata": {},
   "outputs": [],
   "source": [
    "model1 = lr.fit(X_train,y)"
   ]
  },
  {
   "cell_type": "code",
   "execution_count": 246,
   "id": "7f994dc2",
   "metadata": {},
   "outputs": [
    {
     "data": {
      "text/plain": [
       "0.8372492247160519"
      ]
     },
     "execution_count": 246,
     "metadata": {},
     "output_type": "execute_result"
    }
   ],
   "source": [
    "model1.score(X_train,y)"
   ]
  },
  {
   "cell_type": "code",
   "execution_count": 247,
   "id": "802bb57d",
   "metadata": {},
   "outputs": [],
   "source": [
    "from sklearn.model_selection import cross_val_score"
   ]
  },
  {
   "cell_type": "code",
   "execution_count": 248,
   "id": "bb97da12",
   "metadata": {},
   "outputs": [
    {
     "data": {
      "text/plain": [
       "-6699805135688456.0"
      ]
     },
     "execution_count": 248,
     "metadata": {},
     "output_type": "execute_result"
    }
   ],
   "source": [
    "np.mean(cross_val_score(lr,X_train,y))"
   ]
  },
  {
   "cell_type": "code",
   "execution_count": 249,
   "id": "a9057939",
   "metadata": {},
   "outputs": [],
   "source": [
    "model1_pred = model1.predict(X_test)"
   ]
  },
  {
   "cell_type": "code",
   "execution_count": 250,
   "id": "4c7314da",
   "metadata": {},
   "outputs": [],
   "source": [
    "from sklearn.tree import DecisionTreeRegressor"
   ]
  },
  {
   "cell_type": "code",
   "execution_count": 251,
   "id": "7d97b144",
   "metadata": {},
   "outputs": [],
   "source": [
    "dr = DecisionTreeRegressor(max_depth = 12)"
   ]
  },
  {
   "cell_type": "code",
   "execution_count": 252,
   "id": "f0ec8e53",
   "metadata": {},
   "outputs": [],
   "source": [
    "model2 = dr.fit(X_train,y)"
   ]
  },
  {
   "cell_type": "code",
   "execution_count": 253,
   "id": "de5a8757",
   "metadata": {},
   "outputs": [
    {
     "data": {
      "text/plain": [
       "0.9939468803941826"
      ]
     },
     "execution_count": 253,
     "metadata": {},
     "output_type": "execute_result"
    }
   ],
   "source": [
    "model2.score(X_train,y)"
   ]
  },
  {
   "cell_type": "code",
   "execution_count": 254,
   "id": "ffb43bd2",
   "metadata": {},
   "outputs": [
    {
     "data": {
      "text/plain": [
       "0.6912530540699275"
      ]
     },
     "execution_count": 254,
     "metadata": {},
     "output_type": "execute_result"
    }
   ],
   "source": [
    "np.mean(cross_val_score(dr,X_train,y))"
   ]
  },
  {
   "cell_type": "code",
   "execution_count": 255,
   "id": "f15e2b4d",
   "metadata": {},
   "outputs": [],
   "source": [
    "model2_pred = model2.predict(X_test)"
   ]
  },
  {
   "cell_type": "code",
   "execution_count": 256,
   "id": "79fe23b9",
   "metadata": {},
   "outputs": [],
   "source": [
    "from sklearn.tree import plot_tree,export_text"
   ]
  },
  {
   "cell_type": "code",
   "execution_count": 257,
   "id": "7c643bb1",
   "metadata": {},
   "outputs": [
    {
     "data": {
      "image/png": "[encoded data removed]",
      "text/plain": [
       "<Figure size 3000x1000 with 1 Axes>"
      ]
     },
     "metadata": {},
     "output_type": "display_data"
    }
   ],
   "source": [
    "plt.figure(figsize=(30,10))\n",
    "plot_tree(dr,max_depth=2,feature_names=X_train.columns,filled=True)\n",
    "plt.show()"
   ]
  },
  {
   "cell_type": "code",
   "execution_count": 258,
   "id": "a37c94de",
   "metadata": {},
   "outputs": [],
   "source": [
    "sm = pd.read_csv('sample_submission.csv')"
   ]
  },
  {
   "cell_type": "code",
   "execution_count": 259,
   "id": "356ff602",
   "metadata": {},
   "outputs": [],
   "source": [
    "lr_sm = sm"
   ]
  },
  {
   "cell_type": "code",
   "execution_count": 260,
   "id": "a2b451ae",
   "metadata": {},
   "outputs": [],
   "source": [
    "lr_sm.SalePrice=model1_pred"
   ]
  },
  {
   "cell_type": "code",
   "execution_count": 261,
   "id": "563c745a",
   "metadata": {},
   "outputs": [],
   "source": [
    "lr_sm.to_csv('submissionMlr.csv',index=False)"
   ]
  },
  {
   "cell_type": "code",
   "execution_count": 262,
   "id": "b9dd79d6",
   "metadata": {},
   "outputs": [],
   "source": [
    "dr_sm = sm"
   ]
  },
  {
   "cell_type": "code",
   "execution_count": 263,
   "id": "eb86f4ae",
   "metadata": {},
   "outputs": [],
   "source": [
    "dr_sm.SalePrice = model2_pred"
   ]
  },
  {
   "cell_type": "code",
   "execution_count": 264,
   "id": "1292d245",
   "metadata": {},
   "outputs": [],
   "source": [
    "dr_sm.to_csv('submissionDT.csv',index=False)"
   ]
  },
  {
   "cell_type": "code",
   "execution_count": 265,
   "id": "c63dda8f",
   "metadata": {},
   "outputs": [],
   "source": [
    "from sklearn.ensemble import RandomForestRegressor"
   ]
  },
  {
   "cell_type": "code",
   "execution_count": 266,
   "id": "c21936ce",
   "metadata": {},
   "outputs": [],
   "source": [
    "RF = RandomForestRegressor(n_estimators=3000)"
   ]
  },
  {
   "cell_type": "code",
   "execution_count": 268,
   "id": "98b78a7c",
   "metadata": {},
   "outputs": [
    {
     "name": "stderr",
     "output_type": "stream",
     "text": [
      "C:\\Users\\Hp\\AppData\\Local\\Temp\\ipykernel_26428\\3814197395.py:1: DataConversionWarning: A column-vector y was passed when a 1d array was expected. Please change the shape of y to (n_samples,), for example using ravel().\n",
      "  RFmodel = RF.fit(X_train,y)\n"
     ]
    }
   ],
   "source": [
    "RFmodel = RF.fit(X_train,y)"
   ]
  },
  {
   "cell_type": "code",
   "execution_count": 269,
   "id": "02f2d864",
   "metadata": {},
   "outputs": [
    {
     "data": {
      "text/plain": [
       "0.9796467337617025"
      ]
     },
     "execution_count": 269,
     "metadata": {},
     "output_type": "execute_result"
    }
   ],
   "source": [
    "RFmodel.score(X_train,y)"
   ]
  },
  {
   "cell_type": "code",
   "execution_count": 270,
   "id": "99f5ac9b",
   "metadata": {},
   "outputs": [
    {
     "name": "stderr",
     "output_type": "stream",
     "text": [
      "C:\\Users\\Hp\\anaconda3\\lib\\site-packages\\sklearn\\model_selection\\_validation.py:686: DataConversionWarning: A column-vector y was passed when a 1d array was expected. Please change the shape of y to (n_samples,), for example using ravel().\n",
      "  estimator.fit(X_train, y_train, **fit_params)\n",
      "C:\\Users\\Hp\\anaconda3\\lib\\site-packages\\sklearn\\model_selection\\_validation.py:686: DataConversionWarning: A column-vector y was passed when a 1d array was expected. Please change the shape of y to (n_samples,), for example using ravel().\n",
      "  estimator.fit(X_train, y_train, **fit_params)\n",
      "C:\\Users\\Hp\\anaconda3\\lib\\site-packages\\sklearn\\model_selection\\_validation.py:686: DataConversionWarning: A column-vector y was passed when a 1d array was expected. Please change the shape of y to (n_samples,), for example using ravel().\n",
      "  estimator.fit(X_train, y_train, **fit_params)\n",
      "C:\\Users\\Hp\\anaconda3\\lib\\site-packages\\sklearn\\model_selection\\_validation.py:686: DataConversionWarning: A column-vector y was passed when a 1d array was expected. Please change the shape of y to (n_samples,), for example using ravel().\n",
      "  estimator.fit(X_train, y_train, **fit_params)\n",
      "C:\\Users\\Hp\\anaconda3\\lib\\site-packages\\sklearn\\model_selection\\_validation.py:686: DataConversionWarning: A column-vector y was passed when a 1d array was expected. Please change the shape of y to (n_samples,), for example using ravel().\n",
      "  estimator.fit(X_train, y_train, **fit_params)\n"
     ]
    },
    {
     "data": {
      "text/plain": [
       "array([0.88407886, 0.78640395, 0.85996468, 0.86978156, 0.85810661])"
      ]
     },
     "execution_count": 270,
     "metadata": {},
     "output_type": "execute_result"
    }
   ],
   "source": [
    "cross_val_score(RF,X_train, y)"
   ]
  },
  {
   "cell_type": "code",
   "execution_count": 271,
   "id": "cf064d4e",
   "metadata": {},
   "outputs": [
    {
     "data": {
      "text/plain": [
       "0.851667132"
      ]
     },
     "execution_count": 271,
     "metadata": {},
     "output_type": "execute_result"
    }
   ],
   "source": [
    "np.mean([0.88407886, 0.78640395, 0.85996468, 0.86978156, 0.85810661])"
   ]
  },
  {
   "cell_type": "code",
   "execution_count": 274,
   "id": "8cc1c346",
   "metadata": {},
   "outputs": [],
   "source": [
    "RFpredict = RFmodel.predict(X_train)"
   ]
  },
  {
   "cell_type": "code",
   "execution_count": 277,
   "id": "c6e3975e",
   "metadata": {},
   "outputs": [
    {
     "data": {
      "text/plain": [
       "array([208859.23233333, 177899.332     , 220408.97066667, ...,\n",
       "       260575.70066667, 143987.42933333, 155192.676     ])"
      ]
     },
     "execution_count": 277,
     "metadata": {},
     "output_type": "execute_result"
    }
   ],
   "source": [
    "RFpredict"
   ]
  },
  {
   "cell_type": "code",
   "execution_count": 278,
   "id": "dc7579a2",
   "metadata": {},
   "outputs": [
    {
     "data": {
      "text/html": [
       "<div>\n",
       "<style scoped>\n",
       "    .dataframe tbody tr th:only-of-type {\n",
       "        vertical-align: middle;\n",
       "    }\n",
       "\n",
       "    .dataframe tbody tr th {\n",
       "        vertical-align: top;\n",
       "    }\n",
       "\n",
       "    .dataframe thead th {\n",
       "        text-align: right;\n",
       "    }\n",
       "</style>\n",
       "<table border=\"1\" class=\"dataframe\">\n",
       "  <thead>\n",
       "    <tr style=\"text-align: right;\">\n",
       "      <th></th>\n",
       "      <th>SalePrice</th>\n",
       "    </tr>\n",
       "  </thead>\n",
       "  <tbody>\n",
       "    <tr>\n",
       "      <th>0</th>\n",
       "      <td>208500</td>\n",
       "    </tr>\n",
       "    <tr>\n",
       "      <th>1</th>\n",
       "      <td>181500</td>\n",
       "    </tr>\n",
       "    <tr>\n",
       "      <th>2</th>\n",
       "      <td>223500</td>\n",
       "    </tr>\n",
       "    <tr>\n",
       "      <th>3</th>\n",
       "      <td>140000</td>\n",
       "    </tr>\n",
       "    <tr>\n",
       "      <th>4</th>\n",
       "      <td>250000</td>\n",
       "    </tr>\n",
       "    <tr>\n",
       "      <th>...</th>\n",
       "      <td>...</td>\n",
       "    </tr>\n",
       "    <tr>\n",
       "      <th>1455</th>\n",
       "      <td>175000</td>\n",
       "    </tr>\n",
       "    <tr>\n",
       "      <th>1456</th>\n",
       "      <td>210000</td>\n",
       "    </tr>\n",
       "    <tr>\n",
       "      <th>1457</th>\n",
       "      <td>266500</td>\n",
       "    </tr>\n",
       "    <tr>\n",
       "      <th>1458</th>\n",
       "      <td>142125</td>\n",
       "    </tr>\n",
       "    <tr>\n",
       "      <th>1459</th>\n",
       "      <td>147500</td>\n",
       "    </tr>\n",
       "  </tbody>\n",
       "</table>\n",
       "<p>1460 rows × 1 columns</p>\n",
       "</div>"
      ],
      "text/plain": [
       "     SalePrice\n",
       "0       208500\n",
       "1       181500\n",
       "2       223500\n",
       "3       140000\n",
       "4       250000\n",
       "...        ...\n",
       "1455    175000\n",
       "1456    210000\n",
       "1457    266500\n",
       "1458    142125\n",
       "1459    147500\n",
       "\n",
       "[1460 rows x 1 columns]"
      ]
     },
     "execution_count": 278,
     "metadata": {},
     "output_type": "execute_result"
    }
   ],
   "source": [
    "y"
   ]
  },
  {
   "cell_type": "code",
   "execution_count": 279,
   "id": "14555811",
   "metadata": {},
   "outputs": [],
   "source": [
    "RFresid = np.array(y)-RFpredict"
   ]
  },
  {
   "cell_type": "code",
   "execution_count": 280,
   "id": "27891bd9",
   "metadata": {},
   "outputs": [
    {
     "data": {
      "text/plain": [
       "108974.6844688573"
      ]
     },
     "execution_count": 280,
     "metadata": {},
     "output_type": "execute_result"
    }
   ],
   "source": [
    "np.sqrt(np.mean(RFresid**2))"
   ]
  },
  {
   "cell_type": "code",
   "execution_count": 282,
   "id": "d395f8f5",
   "metadata": {},
   "outputs": [],
   "source": [
    "RF_test_pred = RFmodel.predict(X_test)"
   ]
  },
  {
   "cell_type": "code",
   "execution_count": 285,
   "id": "cf9e98c6",
   "metadata": {},
   "outputs": [
    {
     "ename": "AttributeError",
     "evalue": "'numpy.ndarray' object has no attribute 'to_csv'",
     "output_type": "error",
     "traceback": [
      "\u001b[1;31m---------------------------------------------------------------------------\u001b[0m",
      "\u001b[1;31mAttributeError\u001b[0m                            Traceback (most recent call last)",
      "Cell \u001b[1;32mIn[285], line 1\u001b[0m\n\u001b[1;32m----> 1\u001b[0m \u001b[43mRF_test_pred\u001b[49m\u001b[38;5;241;43m.\u001b[39;49m\u001b[43mto_csv\u001b[49m(\u001b[38;5;124m'\u001b[39m\u001b[38;5;124mpricepredictionRF.csv\u001b[39m\u001b[38;5;124m'\u001b[39m)\n",
      "\u001b[1;31mAttributeError\u001b[0m: 'numpy.ndarray' object has no attribute 'to_csv'"
     ]
    }
   ],
   "source": [
    "RF_test_pred.to_csv('pricepredictionRF.csv')"
   ]
  },
  {
   "cell_type": "code",
   "execution_count": 284,
   "id": "a2a86947",
   "metadata": {},
   "outputs": [
    {
     "data": {
      "text/plain": [
       "array([124398.37366667, 156993.14366667, 185220.27066667, ...,\n",
       "       144400.637     , 106481.752     , 214691.78466667])"
      ]
     },
     "execution_count": 284,
     "metadata": {},
     "output_type": "execute_result"
    }
   ],
   "source": [
    "RF_test_pred"
   ]
  },
  {
   "cell_type": "code",
   "execution_count": null,
   "id": "f7588974",
   "metadata": {},
   "outputs": [],
   "source": []
  }
 ],
 "metadata": {
  "kernelspec": {
   "display_name": "Python 3 (ipykernel)",
   "language": "python",
   "name": "python3"
  },
  "language_info": {
   "codemirror_mode": {
    "name": "ipython",
    "version": 3
   },
   "file_extension": ".py",
   "mimetype": "text/x-python",
   "name": "python",
   "nbconvert_exporter": "python",
   "pygments_lexer": "ipython3",
   "version": "3.8.16"
  }
 },
 "nbformat": 4,
 "nbformat_minor": 5
}

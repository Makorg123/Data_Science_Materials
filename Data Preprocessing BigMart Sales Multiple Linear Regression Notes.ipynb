{
 "cells": [
  {
   "cell_type": "code",
   "execution_count": 176,
   "id": "c26bb053",
   "metadata": {},
   "outputs": [],
   "source": [
    "# Data preprocessing most critical task. 95% of time is spent on cleaning\n",
    "# data. Data preprocessing related to multivariate data - both nuerical\n",
    "# and non numeric categorical.\n",
    "# 1) Check for null columns or variables. info() - Delete those varibles\n",
    "\n",
    "# 2) Check for Single Value Columns or Variables - Whole column has only\n",
    "# one value like 1's or 0's. Delete those variables\n",
    "\n",
    "# 3) Missing Value Treatment - Missing values occur due to errors in data\n",
    "# collection or due to misrepresentation of data. Missing values must be\n",
    "# imputed or treated before running the algorithm.\n",
    "# a) If the column or variable has more than 70% missing values and if\n",
    "# it is not a significant variable - Drop or Delete variable\n",
    "\n",
    "# b) If the column or variable has more than 70% missing values and if\n",
    "# it is a significant variable, \n",
    "#   Numeric Variable - impute with numeric code like 9999,1111,2222\n",
    "#   Non Numeric Variable - impute with word \"missing\" or \"NotAvailable\"\n",
    "\n",
    "# c) If the column or variable has less than 70% missing values \n",
    "# imputation can be done either manually or using Algorithm\n",
    "# Manual Imputation  - mean, median or mode of the column or variable\n",
    "# Numeric - Impute with mean or median based on whether mean is distorted\n",
    "# Categrocial - Impute with mode or most_frequent\n",
    "\n",
    "# Algorithm based Imputation - Algorithms consider the impact of other\n",
    "# variables on the missing value and impute accordingly. \n",
    "# 1)Multivariate Imputation using Chained Equations (MICE) - used for\n",
    "# imputing both numeric and non numeric categorical variables\n",
    "# 2)KNNImputer uses K Nearest Neighbors Algorithm which is a distance\n",
    "# based algorithm. Works only with Numerical Data\n",
    "# 3) Probabilistic PCA uses Principal Component Analysis (PCA) Algorithm\n",
    "# for imputation.\n",
    "\n",
    "# Deletion of Missing values can be done only if there is large data and\n",
    "# missing values are less than 5% of data. Large data means more than \n",
    "# 50000 observations.\n",
    "\n",
    "# 4) Data Transformation - Transforming Data\n",
    "# Dependent Variable(y) - Variable that is being predicted \n",
    "# Positive Skewness - Logarthmic Transformation or Square Root Transformation\n",
    "# Negative Skewness - Exponential Transformation or Power Transformation\n",
    "\n",
    "# Independent Variables (X's) - Variables that are being used in the model\n",
    "# to predict dependent variable (y). Scaling must be implemented.\n",
    "# 1) Standard Scaler or Z-Score = (x-mean)/stddeviation. Standard Scaler\n",
    "# scales data in both positive and negative values within a range.\n",
    "# preferred scaler when data is in multiple mathematical units like tens,\n",
    "# hundreds, thousands, discrete integer  and lakhs\n",
    "# 2) Nomalization or Min Max Scaler = (X-Xmin)/(Xmax-Xmin). Scales data\n",
    "# in the range of 0 to 1 and no negative values. Most used in Image\n",
    "# processing and Neural Networks\n",
    "# 3) Robust Scaler = (X-Q2)/(Q3-Q1) uses quartiles to scale data and is\n",
    "# used when independent variables have extreme outliers.\n",
    "\n",
    "# 5) Dummy Variable Encoding - Assigning Numerical Identifiers to levels/\n",
    "# Groups/Classes in Categorical Variables.\n",
    "# a) LabelEncoder - Encodes categroical variable levels from 0 to n levels\n",
    "# based on Alphabetical order in the same column\n",
    "# b) pandas.get_dummies() - Creates as many columns equivalent to levels/\n",
    "# Groups in Categorical variable and uses binary encoding (yes-1 & no-0)\n",
    "# for each level.\n",
    "# Gender   - M, F, F, F, M, M, M , F\n",
    "# Labelncoder\n",
    "# Gender   - 1, 0, 0, 0, 1, 1, 1, 0\n",
    "# pd.get_dummies()\n",
    "# Gender_M - 1, 0, 0, 0, 1, 1, 1, 0\n",
    "# Gender_F - 0, 1, 1, 1, 0, 0, 0, 1\n",
    "\n",
    "# Dummy Variable encoding must be done on Object/text Data, Numeric\n",
    "# Categorical Variables like Ratings, Quarter, Month, etc.\n",
    "\n",
    "# 6) Working with dates - Dates must be converted into date format using\n",
    "# pd.to_datetime() function. Extract variables from date like weekday,\n",
    "# month, season, quarter, year, etc. Timedelta which is difference in\n",
    "# time.\n",
    "\n",
    "# 7) Extracting information from Alpha numeric identifiers\n",
    "\n",
    "# 8) Create new variables from existing variables.\n",
    "\n",
    "# 9) Correcting duplicate levels in categorical data\n",
    "\n",
    "# 10) working with different datatypes"
   ]
  },
  {
   "cell_type": "code",
   "execution_count": 177,
   "id": "58d23b03",
   "metadata": {},
   "outputs": [],
   "source": [
    "import pandas as pd\n",
    "import numpy as np\n",
    "import matplotlib.pyplot as plt\n",
    "%matplotlib inline"
   ]
  },
  {
   "cell_type": "code",
   "execution_count": 178,
   "id": "833b7b94",
   "metadata": {},
   "outputs": [
    {
     "name": "stdout",
     "output_type": "stream",
     "text": [
      "/Users/rajeshprabhakarkaila/Desktop/Hackathon/BigMart Sales\n"
     ]
    }
   ],
   "source": [
    "import io\n",
    "%cd '/Users/rajeshprabhakarkaila/Desktop/Hackathon/BigMart Sales'"
   ]
  },
  {
   "cell_type": "code",
   "execution_count": 179,
   "id": "024fd44e",
   "metadata": {},
   "outputs": [],
   "source": [
    "bigmarttrain=pd.read_csv(\"train_v9rqX0R.csv\")"
   ]
  },
  {
   "cell_type": "code",
   "execution_count": 180,
   "id": "dda23faf",
   "metadata": {},
   "outputs": [],
   "source": [
    "bigmarttest=pd.read_csv(\"test_AbJTz2l.csv\")"
   ]
  },
  {
   "cell_type": "code",
   "execution_count": 181,
   "id": "8fe33dfb",
   "metadata": {},
   "outputs": [
    {
     "name": "stdout",
     "output_type": "stream",
     "text": [
      "(8523, 12)\n",
      "(5681, 11)\n"
     ]
    }
   ],
   "source": [
    "print(bigmarttrain.shape)\n",
    "print(bigmarttest.shape)\n",
    "\n",
    "# Hackathons, Jobathons & Competitions - 3 files will be provided\n",
    "# Train File is complete data including dependent variable(y) and this\n",
    "# data must be used for buiding or training a model.\n",
    "# Test File will not have dependent variable(y) and needs to be predicted\n",
    "# using the model built on train data.\n",
    "# Sample Submission File is where predictions are copied and submitted\n",
    "# to competition site for evaluation"
   ]
  },
  {
   "cell_type": "code",
   "execution_count": 182,
   "id": "bd519e58",
   "metadata": {},
   "outputs": [
    {
     "name": "stdout",
     "output_type": "stream",
     "text": [
      "<class 'pandas.core.frame.DataFrame'>\n",
      "RangeIndex: 8523 entries, 0 to 8522\n",
      "Data columns (total 12 columns):\n",
      " #   Column                     Non-Null Count  Dtype  \n",
      "---  ------                     --------------  -----  \n",
      " 0   Item_Identifier            8523 non-null   object \n",
      " 1   Item_Weight                7060 non-null   float64\n",
      " 2   Item_Fat_Content           8523 non-null   object \n",
      " 3   Item_Visibility            8523 non-null   float64\n",
      " 4   Item_Type                  8523 non-null   object \n",
      " 5   Item_MRP                   8523 non-null   float64\n",
      " 6   Outlet_Identifier          8523 non-null   object \n",
      " 7   Outlet_Establishment_Year  8523 non-null   int64  \n",
      " 8   Outlet_Size                6113 non-null   object \n",
      " 9   Outlet_Location_Type       8523 non-null   object \n",
      " 10  Outlet_Type                8523 non-null   object \n",
      " 11  Item_Outlet_Sales          8523 non-null   float64\n",
      "dtypes: float64(4), int64(1), object(7)\n",
      "memory usage: 799.2+ KB\n"
     ]
    }
   ],
   "source": [
    "bigmarttrain.info()"
   ]
  },
  {
   "cell_type": "code",
   "execution_count": 183,
   "id": "03909116",
   "metadata": {},
   "outputs": [
    {
     "name": "stdout",
     "output_type": "stream",
     "text": [
      "<class 'pandas.core.frame.DataFrame'>\n",
      "RangeIndex: 5681 entries, 0 to 5680\n",
      "Data columns (total 11 columns):\n",
      " #   Column                     Non-Null Count  Dtype  \n",
      "---  ------                     --------------  -----  \n",
      " 0   Item_Identifier            5681 non-null   object \n",
      " 1   Item_Weight                4705 non-null   float64\n",
      " 2   Item_Fat_Content           5681 non-null   object \n",
      " 3   Item_Visibility            5681 non-null   float64\n",
      " 4   Item_Type                  5681 non-null   object \n",
      " 5   Item_MRP                   5681 non-null   float64\n",
      " 6   Outlet_Identifier          5681 non-null   object \n",
      " 7   Outlet_Establishment_Year  5681 non-null   int64  \n",
      " 8   Outlet_Size                4075 non-null   object \n",
      " 9   Outlet_Location_Type       5681 non-null   object \n",
      " 10  Outlet_Type                5681 non-null   object \n",
      "dtypes: float64(3), int64(1), object(7)\n",
      "memory usage: 488.3+ KB\n"
     ]
    }
   ],
   "source": [
    "bigmarttest.info()"
   ]
  },
  {
   "cell_type": "code",
   "execution_count": 184,
   "id": "1e92fe92",
   "metadata": {},
   "outputs": [],
   "source": [
    "# For preprocessing of data, concatenation of both train and test files\n",
    "# must be done.\n",
    "# For Concatenation the number of columns or variables must be same.\n",
    "# For purpose of concatenation, temporarily add dependent variable to\n",
    "# test data and fill column with word 'test'"
   ]
  },
  {
   "cell_type": "code",
   "execution_count": 185,
   "id": "8252afdf",
   "metadata": {},
   "outputs": [],
   "source": [
    "bigmarttest['Item_Outlet_Sales']='test'"
   ]
  },
  {
   "cell_type": "code",
   "execution_count": 186,
   "id": "df3ffa61",
   "metadata": {},
   "outputs": [],
   "source": [
    "# Concatenation of both dataframes for preprocessing\n",
    "combinedf=pd.concat([bigmarttrain,bigmarttest],axis=0)\n",
    "\n",
    "# axis=0 is Row wise Concatenation\n",
    "# axis=1 is Column wise Concatenation"
   ]
  },
  {
   "cell_type": "code",
   "execution_count": 187,
   "id": "eb5fd793",
   "metadata": {},
   "outputs": [
    {
     "name": "stdout",
     "output_type": "stream",
     "text": [
      "<class 'pandas.core.frame.DataFrame'>\n",
      "Int64Index: 14204 entries, 0 to 5680\n",
      "Data columns (total 12 columns):\n",
      " #   Column                     Non-Null Count  Dtype  \n",
      "---  ------                     --------------  -----  \n",
      " 0   Item_Identifier            14204 non-null  object \n",
      " 1   Item_Weight                11765 non-null  float64\n",
      " 2   Item_Fat_Content           14204 non-null  object \n",
      " 3   Item_Visibility            14204 non-null  float64\n",
      " 4   Item_Type                  14204 non-null  object \n",
      " 5   Item_MRP                   14204 non-null  float64\n",
      " 6   Outlet_Identifier          14204 non-null  object \n",
      " 7   Outlet_Establishment_Year  14204 non-null  int64  \n",
      " 8   Outlet_Size                10188 non-null  object \n",
      " 9   Outlet_Location_Type       14204 non-null  object \n",
      " 10  Outlet_Type                14204 non-null  object \n",
      " 11  Item_Outlet_Sales          14204 non-null  object \n",
      "dtypes: float64(3), int64(1), object(8)\n",
      "memory usage: 1.4+ MB\n"
     ]
    }
   ],
   "source": [
    "combinedf.info()"
   ]
  },
  {
   "cell_type": "code",
   "execution_count": 188,
   "id": "b81d2559",
   "metadata": {},
   "outputs": [],
   "source": [
    "numcols=combinedf.select_dtypes(include=np.number)\n",
    "objcols=combinedf.select_dtypes(include=['object'])\n",
    "\n",
    "# np.number selects both int64 and float64"
   ]
  },
  {
   "cell_type": "code",
   "execution_count": 189,
   "id": "e8418781",
   "metadata": {},
   "outputs": [
    {
     "name": "stdout",
     "output_type": "stream",
     "text": [
      "(14204, 4)\n",
      "(14204, 8)\n"
     ]
    }
   ],
   "source": [
    "print(numcols.shape)\n",
    "print(objcols.shape)"
   ]
  },
  {
   "cell_type": "code",
   "execution_count": 190,
   "id": "dc295a6a",
   "metadata": {},
   "outputs": [
    {
     "data": {
      "text/html": [
       "<div>\n",
       "<style scoped>\n",
       "    .dataframe tbody tr th:only-of-type {\n",
       "        vertical-align: middle;\n",
       "    }\n",
       "\n",
       "    .dataframe tbody tr th {\n",
       "        vertical-align: top;\n",
       "    }\n",
       "\n",
       "    .dataframe thead th {\n",
       "        text-align: right;\n",
       "    }\n",
       "</style>\n",
       "<table border=\"1\" class=\"dataframe\">\n",
       "  <thead>\n",
       "    <tr style=\"text-align: right;\">\n",
       "      <th></th>\n",
       "      <th>Item_Weight</th>\n",
       "      <th>Item_Visibility</th>\n",
       "      <th>Item_MRP</th>\n",
       "      <th>Outlet_Establishment_Year</th>\n",
       "    </tr>\n",
       "  </thead>\n",
       "  <tbody>\n",
       "    <tr>\n",
       "      <th>count</th>\n",
       "      <td>11765.000000</td>\n",
       "      <td>14204.000000</td>\n",
       "      <td>14204.000000</td>\n",
       "      <td>14204.000000</td>\n",
       "    </tr>\n",
       "    <tr>\n",
       "      <th>mean</th>\n",
       "      <td>12.792854</td>\n",
       "      <td>0.065953</td>\n",
       "      <td>141.004977</td>\n",
       "      <td>1997.830681</td>\n",
       "    </tr>\n",
       "    <tr>\n",
       "      <th>std</th>\n",
       "      <td>4.652502</td>\n",
       "      <td>0.051459</td>\n",
       "      <td>62.086938</td>\n",
       "      <td>8.371664</td>\n",
       "    </tr>\n",
       "    <tr>\n",
       "      <th>min</th>\n",
       "      <td>4.555000</td>\n",
       "      <td>0.000000</td>\n",
       "      <td>31.290000</td>\n",
       "      <td>1985.000000</td>\n",
       "    </tr>\n",
       "    <tr>\n",
       "      <th>25%</th>\n",
       "      <td>8.710000</td>\n",
       "      <td>0.027036</td>\n",
       "      <td>94.012000</td>\n",
       "      <td>1987.000000</td>\n",
       "    </tr>\n",
       "    <tr>\n",
       "      <th>50%</th>\n",
       "      <td>12.600000</td>\n",
       "      <td>0.054021</td>\n",
       "      <td>142.247000</td>\n",
       "      <td>1999.000000</td>\n",
       "    </tr>\n",
       "    <tr>\n",
       "      <th>75%</th>\n",
       "      <td>16.750000</td>\n",
       "      <td>0.094037</td>\n",
       "      <td>185.855600</td>\n",
       "      <td>2004.000000</td>\n",
       "    </tr>\n",
       "    <tr>\n",
       "      <th>max</th>\n",
       "      <td>21.350000</td>\n",
       "      <td>0.328391</td>\n",
       "      <td>266.888400</td>\n",
       "      <td>2009.000000</td>\n",
       "    </tr>\n",
       "  </tbody>\n",
       "</table>\n",
       "</div>"
      ],
      "text/plain": [
       "        Item_Weight  Item_Visibility      Item_MRP  Outlet_Establishment_Year\n",
       "count  11765.000000     14204.000000  14204.000000               14204.000000\n",
       "mean      12.792854         0.065953    141.004977                1997.830681\n",
       "std        4.652502         0.051459     62.086938                   8.371664\n",
       "min        4.555000         0.000000     31.290000                1985.000000\n",
       "25%        8.710000         0.027036     94.012000                1987.000000\n",
       "50%       12.600000         0.054021    142.247000                1999.000000\n",
       "75%       16.750000         0.094037    185.855600                2004.000000\n",
       "max       21.350000         0.328391    266.888400                2009.000000"
      ]
     },
     "execution_count": 190,
     "metadata": {},
     "output_type": "execute_result"
    }
   ],
   "source": [
    "numcols.describe()"
   ]
  },
  {
   "cell_type": "code",
   "execution_count": 191,
   "id": "98ebecda",
   "metadata": {},
   "outputs": [],
   "source": [
    "# impute Item_Weight\n",
    "numcols.Item_Weight=numcols.Item_Weight.fillna(\n",
    "    numcols.Item_Weight.mean())"
   ]
  },
  {
   "cell_type": "code",
   "execution_count": 192,
   "id": "db552475",
   "metadata": {},
   "outputs": [
    {
     "data": {
      "text/plain": [
       "Medium    4655\n",
       "NaN       4016\n",
       "Small     3980\n",
       "High      1553\n",
       "Name: Outlet_Size, dtype: int64"
      ]
     },
     "execution_count": 192,
     "metadata": {},
     "output_type": "execute_result"
    }
   ],
   "source": [
    "# impute Outlet_Size\n",
    "objcols.Outlet_Size.value_counts(dropna=False)"
   ]
  },
  {
   "cell_type": "code",
   "execution_count": 193,
   "id": "1556247a",
   "metadata": {},
   "outputs": [],
   "source": [
    "# impute with word \"Missing\"\n",
    "objcols.Outlet_Size=objcols.Outlet_Size.fillna(\"Missing\")"
   ]
  },
  {
   "cell_type": "code",
   "execution_count": 194,
   "id": "c17db684",
   "metadata": {},
   "outputs": [
    {
     "data": {
      "text/plain": [
       "0    FDA15\n",
       "1    DRC01\n",
       "2    FDN15\n",
       "3    FDX07\n",
       "4    NCD19\n",
       "5    FDP36\n",
       "6    FDO10\n",
       "7    FDP10\n",
       "8    FDH17\n",
       "9    FDU28\n",
       "Name: Item_Identifier, dtype: object"
      ]
     },
     "execution_count": 194,
     "metadata": {},
     "output_type": "execute_result"
    }
   ],
   "source": [
    "objcols.Item_Identifier.head(10)"
   ]
  },
  {
   "cell_type": "code",
   "execution_count": 195,
   "id": "3b8bdb5a",
   "metadata": {},
   "outputs": [],
   "source": [
    "# Create a new variable called Item_Code based on Item_Identifier\n",
    "objcols['Item_Code']=objcols.Item_Identifier.str[0:2]"
   ]
  },
  {
   "cell_type": "code",
   "execution_count": 196,
   "id": "c9f5e06c",
   "metadata": {},
   "outputs": [
    {
     "data": {
      "text/plain": [
       "FD    10201\n",
       "NC     2686\n",
       "DR     1317\n",
       "Name: Item_Code, dtype: int64"
      ]
     },
     "execution_count": 196,
     "metadata": {},
     "output_type": "execute_result"
    }
   ],
   "source": [
    "objcols.Item_Code.value_counts()"
   ]
  },
  {
   "cell_type": "code",
   "execution_count": 197,
   "id": "a4798cd1",
   "metadata": {},
   "outputs": [
    {
     "data": {
      "text/plain": [
       "Low Fat    8485\n",
       "Regular    4824\n",
       "LF          522\n",
       "reg         195\n",
       "low fat     178\n",
       "Name: Item_Fat_Content, dtype: int64"
      ]
     },
     "execution_count": 197,
     "metadata": {},
     "output_type": "execute_result"
    }
   ],
   "source": [
    "objcols.Item_Fat_Content.value_counts()"
   ]
  },
  {
   "cell_type": "code",
   "execution_count": 198,
   "id": "40531066",
   "metadata": {},
   "outputs": [],
   "source": [
    "objcols.Item_Fat_Content=objcols.Item_Fat_Content.replace(['LF','low fat'],\n",
    "                                                         'Low Fat')"
   ]
  },
  {
   "cell_type": "code",
   "execution_count": 199,
   "id": "40be4b89",
   "metadata": {},
   "outputs": [],
   "source": [
    "objcols.Item_Fat_Content=objcols.Item_Fat_Content.replace('reg','Regular')"
   ]
  },
  {
   "cell_type": "code",
   "execution_count": 200,
   "id": "dda5fc43",
   "metadata": {},
   "outputs": [
    {
     "name": "stdout",
     "output_type": "stream",
     "text": [
      "FDU15    10\n",
      "FDS25    10\n",
      "FDA38    10\n",
      "FDW03    10\n",
      "FDJ10    10\n",
      "         ..\n",
      "FDR51     7\n",
      "FDM52     7\n",
      "DRN11     7\n",
      "FDH58     7\n",
      "NCW54     7\n",
      "Name: Item_Identifier, Length: 1559, dtype: int64\n",
      "Low Fat    9185\n",
      "Regular    5019\n",
      "Name: Item_Fat_Content, dtype: int64\n",
      "Fruits and Vegetables    2013\n",
      "Snack Foods              1989\n",
      "Household                1548\n",
      "Frozen Foods             1426\n",
      "Dairy                    1136\n",
      "Baking Goods             1086\n",
      "Canned                   1084\n",
      "Health and Hygiene        858\n",
      "Meat                      736\n",
      "Soft Drinks               726\n",
      "Breads                    416\n",
      "Hard Drinks               362\n",
      "Others                    280\n",
      "Starchy Foods             269\n",
      "Breakfast                 186\n",
      "Seafood                    89\n",
      "Name: Item_Type, dtype: int64\n",
      "OUT027    1559\n",
      "OUT013    1553\n",
      "OUT049    1550\n",
      "OUT046    1550\n",
      "OUT035    1550\n",
      "OUT045    1548\n",
      "OUT018    1546\n",
      "OUT017    1543\n",
      "OUT010     925\n",
      "OUT019     880\n",
      "Name: Outlet_Identifier, dtype: int64\n",
      "Medium     4655\n",
      "Missing    4016\n",
      "Small      3980\n",
      "High       1553\n",
      "Name: Outlet_Size, dtype: int64\n",
      "Tier 3    5583\n",
      "Tier 2    4641\n",
      "Tier 1    3980\n",
      "Name: Outlet_Location_Type, dtype: int64\n",
      "Supermarket Type1    9294\n",
      "Grocery Store        1805\n",
      "Supermarket Type3    1559\n",
      "Supermarket Type2    1546\n",
      "Name: Outlet_Type, dtype: int64\n",
      "test         5681\n",
      "958.752        17\n",
      "1342.2528      16\n",
      "703.0848       15\n",
      "1845.5976      15\n",
      "             ... \n",
      "7152.0236       1\n",
      "9779.9362       1\n",
      "1451.444        1\n",
      "3723.8194       1\n",
      "3022.732        1\n",
      "Name: Item_Outlet_Sales, Length: 3494, dtype: int64\n",
      "FD    10201\n",
      "NC     2686\n",
      "DR     1317\n",
      "Name: Item_Code, dtype: int64\n"
     ]
    }
   ],
   "source": [
    "for col in objcols.columns:\n",
    "    freq=objcols[col].value_counts(dropna=False)\n",
    "    print(freq)"
   ]
  },
  {
   "cell_type": "code",
   "execution_count": 201,
   "id": "4ba78537",
   "metadata": {},
   "outputs": [],
   "source": [
    "# Create a new variable \"Outlet_Age\" as of 2022 using OutletEstablishmentYear\n",
    "numcols['Outlet_Age']=2022-numcols.Outlet_Establishment_Year"
   ]
  },
  {
   "cell_type": "code",
   "execution_count": 202,
   "id": "b849e85d",
   "metadata": {},
   "outputs": [
    {
     "data": {
      "text/plain": [
       "count    14204.000000\n",
       "mean        24.169319\n",
       "std          8.371664\n",
       "min         13.000000\n",
       "25%         18.000000\n",
       "50%         23.000000\n",
       "75%         35.000000\n",
       "max         37.000000\n",
       "Name: Outlet_Age, dtype: float64"
      ]
     },
     "execution_count": 202,
     "metadata": {},
     "output_type": "execute_result"
    }
   ],
   "source": [
    "numcols.Outlet_Age.describe()"
   ]
  },
  {
   "cell_type": "code",
   "execution_count": 203,
   "id": "6f2dcaac",
   "metadata": {},
   "outputs": [],
   "source": [
    "# Data Transformation - Numeric Variables - Independent Variables\n",
    "from sklearn.preprocessing import StandardScaler,MinMaxScaler,RobustScaler"
   ]
  },
  {
   "cell_type": "code",
   "execution_count": 204,
   "id": "e60da015",
   "metadata": {},
   "outputs": [],
   "source": [
    "numcols_df=numcols.drop('Outlet_Establishment_Year',axis=1)"
   ]
  },
  {
   "cell_type": "code",
   "execution_count": 205,
   "id": "d067b240",
   "metadata": {},
   "outputs": [],
   "source": [
    "# Standardization\n",
    "stdscaler=StandardScaler()"
   ]
  },
  {
   "cell_type": "code",
   "execution_count": 206,
   "id": "96c370cc",
   "metadata": {},
   "outputs": [],
   "source": [
    "numcols_df_scaled=stdscaler.fit_transform(numcols_df)"
   ]
  },
  {
   "cell_type": "code",
   "execution_count": 207,
   "id": "b729f3e6",
   "metadata": {},
   "outputs": [
    {
     "data": {
      "text/plain": [
       "array([[-0.82493872, -0.96985228,  1.75251118, -0.13968068],\n",
       "       [-1.62322365, -0.90706338, -1.4936965 , -1.3342284 ],\n",
       "       [ 1.11172885, -0.95600038,  0.00987397, -0.13968068],\n",
       "       ...,\n",
       "       [-0.65961344,  0.14722609, -0.35855788, -0.49804499],\n",
       "       [ 0.59213511, -1.28171205,  1.18574722, -1.09531886],\n",
       "       [-0.77770293,  0.7533967 , -0.98589388, -0.49804499]])"
      ]
     },
     "execution_count": 207,
     "metadata": {},
     "output_type": "execute_result"
    }
   ],
   "source": [
    "numcols_df_scaled"
   ]
  },
  {
   "cell_type": "code",
   "execution_count": 208,
   "id": "bcb35d84",
   "metadata": {},
   "outputs": [],
   "source": [
    "numcols_df_scaled=pd.DataFrame(numcols_df_scaled,\n",
    "                               columns=numcols_df.columns)"
   ]
  },
  {
   "cell_type": "code",
   "execution_count": 209,
   "id": "c0a3b23d",
   "metadata": {},
   "outputs": [
    {
     "data": {
      "text/html": [
       "<div>\n",
       "<style scoped>\n",
       "    .dataframe tbody tr th:only-of-type {\n",
       "        vertical-align: middle;\n",
       "    }\n",
       "\n",
       "    .dataframe tbody tr th {\n",
       "        vertical-align: top;\n",
       "    }\n",
       "\n",
       "    .dataframe thead th {\n",
       "        text-align: right;\n",
       "    }\n",
       "</style>\n",
       "<table border=\"1\" class=\"dataframe\">\n",
       "  <thead>\n",
       "    <tr style=\"text-align: right;\">\n",
       "      <th></th>\n",
       "      <th>Item_Weight</th>\n",
       "      <th>Item_Visibility</th>\n",
       "      <th>Item_MRP</th>\n",
       "      <th>Outlet_Age</th>\n",
       "    </tr>\n",
       "  </thead>\n",
       "  <tbody>\n",
       "    <tr>\n",
       "      <th>0</th>\n",
       "      <td>-0.824939</td>\n",
       "      <td>-0.969852</td>\n",
       "      <td>1.752511</td>\n",
       "      <td>-0.139681</td>\n",
       "    </tr>\n",
       "    <tr>\n",
       "      <th>1</th>\n",
       "      <td>-1.623224</td>\n",
       "      <td>-0.907063</td>\n",
       "      <td>-1.493696</td>\n",
       "      <td>-1.334228</td>\n",
       "    </tr>\n",
       "    <tr>\n",
       "      <th>2</th>\n",
       "      <td>1.111729</td>\n",
       "      <td>-0.956000</td>\n",
       "      <td>0.009874</td>\n",
       "      <td>-0.139681</td>\n",
       "    </tr>\n",
       "    <tr>\n",
       "      <th>3</th>\n",
       "      <td>1.513233</td>\n",
       "      <td>-1.281712</td>\n",
       "      <td>0.661838</td>\n",
       "      <td>-0.020226</td>\n",
       "    </tr>\n",
       "    <tr>\n",
       "      <th>4</th>\n",
       "      <td>-0.912325</td>\n",
       "      <td>-1.281712</td>\n",
       "      <td>-1.403623</td>\n",
       "      <td>1.293777</td>\n",
       "    </tr>\n",
       "  </tbody>\n",
       "</table>\n",
       "</div>"
      ],
      "text/plain": [
       "   Item_Weight  Item_Visibility  Item_MRP  Outlet_Age\n",
       "0    -0.824939        -0.969852  1.752511   -0.139681\n",
       "1    -1.623224        -0.907063 -1.493696   -1.334228\n",
       "2     1.111729        -0.956000  0.009874   -0.139681\n",
       "3     1.513233        -1.281712  0.661838   -0.020226\n",
       "4    -0.912325        -1.281712 -1.403623    1.293777"
      ]
     },
     "execution_count": 209,
     "metadata": {},
     "output_type": "execute_result"
    }
   ],
   "source": [
    "numcols_df_scaled.head() # Standard Scaler scales into both negative\n",
    "# and positive values. Some obs will be above and some below mean\n",
    "# (x-mean)/stddeviation"
   ]
  },
  {
   "cell_type": "code",
   "execution_count": 210,
   "id": "1a4d40fc",
   "metadata": {},
   "outputs": [],
   "source": [
    "# Normalization or Min Max Scaler - (X-Xmin)/(Xmax-Xmin)\n",
    "minmax=MinMaxScaler()"
   ]
  },
  {
   "cell_type": "code",
   "execution_count": 211,
   "id": "f81447cf",
   "metadata": {},
   "outputs": [],
   "source": [
    "numcols_df_minmax=minmax.fit_transform(numcols_df)"
   ]
  },
  {
   "cell_type": "code",
   "execution_count": 212,
   "id": "c92a8d62",
   "metadata": {},
   "outputs": [],
   "source": [
    "numcols_df_minmax=pd.DataFrame(numcols_df_minmax,\n",
    "                               columns=numcols_df.columns)"
   ]
  },
  {
   "cell_type": "code",
   "execution_count": 213,
   "id": "f219f44c",
   "metadata": {},
   "outputs": [
    {
     "data": {
      "text/html": [
       "<div>\n",
       "<style scoped>\n",
       "    .dataframe tbody tr th:only-of-type {\n",
       "        vertical-align: middle;\n",
       "    }\n",
       "\n",
       "    .dataframe tbody tr th {\n",
       "        vertical-align: top;\n",
       "    }\n",
       "\n",
       "    .dataframe thead th {\n",
       "        text-align: right;\n",
       "    }\n",
       "</style>\n",
       "<table border=\"1\" class=\"dataframe\">\n",
       "  <thead>\n",
       "    <tr style=\"text-align: right;\">\n",
       "      <th></th>\n",
       "      <th>Item_Weight</th>\n",
       "      <th>Item_Visibility</th>\n",
       "      <th>Item_MRP</th>\n",
       "      <th>Outlet_Age</th>\n",
       "    </tr>\n",
       "  </thead>\n",
       "  <tbody>\n",
       "    <tr>\n",
       "      <th>0</th>\n",
       "      <td>0.282525</td>\n",
       "      <td>0.048866</td>\n",
       "      <td>0.927507</td>\n",
       "      <td>0.416667</td>\n",
       "    </tr>\n",
       "    <tr>\n",
       "      <th>1</th>\n",
       "      <td>0.081274</td>\n",
       "      <td>0.058705</td>\n",
       "      <td>0.072068</td>\n",
       "      <td>0.000000</td>\n",
       "    </tr>\n",
       "    <tr>\n",
       "      <th>2</th>\n",
       "      <td>0.770765</td>\n",
       "      <td>0.051037</td>\n",
       "      <td>0.468288</td>\n",
       "      <td>0.416667</td>\n",
       "    </tr>\n",
       "    <tr>\n",
       "      <th>3</th>\n",
       "      <td>0.871986</td>\n",
       "      <td>0.000000</td>\n",
       "      <td>0.640093</td>\n",
       "      <td>0.458333</td>\n",
       "    </tr>\n",
       "    <tr>\n",
       "      <th>4</th>\n",
       "      <td>0.260494</td>\n",
       "      <td>0.000000</td>\n",
       "      <td>0.095805</td>\n",
       "      <td>0.916667</td>\n",
       "    </tr>\n",
       "  </tbody>\n",
       "</table>\n",
       "</div>"
      ],
      "text/plain": [
       "   Item_Weight  Item_Visibility  Item_MRP  Outlet_Age\n",
       "0     0.282525         0.048866  0.927507    0.416667\n",
       "1     0.081274         0.058705  0.072068    0.000000\n",
       "2     0.770765         0.051037  0.468288    0.416667\n",
       "3     0.871986         0.000000  0.640093    0.458333\n",
       "4     0.260494         0.000000  0.095805    0.916667"
      ]
     },
     "execution_count": 213,
     "metadata": {},
     "output_type": "execute_result"
    }
   ],
   "source": [
    "numcols_df_minmax.head() # No Negative Values and range is only 0 to 1"
   ]
  },
  {
   "cell_type": "code",
   "execution_count": 214,
   "id": "62f96795",
   "metadata": {},
   "outputs": [],
   "source": [
    "# Robust Scaler uses Quartiles used in case of outliers\n",
    "robust=RobustScaler()"
   ]
  },
  {
   "cell_type": "code",
   "execution_count": 215,
   "id": "da1d279e",
   "metadata": {},
   "outputs": [],
   "source": [
    "numcols_df_robust=robust.fit_transform(numcols_df)"
   ]
  },
  {
   "cell_type": "code",
   "execution_count": 216,
   "id": "017e464c",
   "metadata": {},
   "outputs": [],
   "source": [
    "numcols_df_robust=pd.DataFrame(numcols_df_robust,\n",
    "                               columns=numcols_df.columns)"
   ]
  },
  {
   "cell_type": "code",
   "execution_count": 217,
   "id": "743df0f5",
   "metadata": {},
   "outputs": [
    {
     "data": {
      "text/html": [
       "<div>\n",
       "<style scoped>\n",
       "    .dataframe tbody tr th:only-of-type {\n",
       "        vertical-align: middle;\n",
       "    }\n",
       "\n",
       "    .dataframe tbody tr th {\n",
       "        vertical-align: top;\n",
       "    }\n",
       "\n",
       "    .dataframe thead th {\n",
       "        text-align: right;\n",
       "    }\n",
       "</style>\n",
       "<table border=\"1\" class=\"dataframe\">\n",
       "  <thead>\n",
       "    <tr style=\"text-align: right;\">\n",
       "      <th></th>\n",
       "      <th>Item_Weight</th>\n",
       "      <th>Item_Visibility</th>\n",
       "      <th>Item_MRP</th>\n",
       "      <th>Outlet_Age</th>\n",
       "    </tr>\n",
       "  </thead>\n",
       "  <tbody>\n",
       "    <tr>\n",
       "      <th>0</th>\n",
       "      <td>-0.521322</td>\n",
       "      <td>-0.566751</td>\n",
       "      <td>1.171145</td>\n",
       "      <td>0.000000</td>\n",
       "    </tr>\n",
       "    <tr>\n",
       "      <th>1</th>\n",
       "      <td>-1.025799</td>\n",
       "      <td>-0.518530</td>\n",
       "      <td>-1.023237</td>\n",
       "      <td>-0.588235</td>\n",
       "    </tr>\n",
       "    <tr>\n",
       "      <th>2</th>\n",
       "      <td>0.702559</td>\n",
       "      <td>-0.556113</td>\n",
       "      <td>-0.006849</td>\n",
       "      <td>0.000000</td>\n",
       "    </tr>\n",
       "    <tr>\n",
       "      <th>3</th>\n",
       "      <td>0.956290</td>\n",
       "      <td>-0.806258</td>\n",
       "      <td>0.433868</td>\n",
       "      <td>0.058824</td>\n",
       "    </tr>\n",
       "    <tr>\n",
       "      <th>4</th>\n",
       "      <td>-0.576545</td>\n",
       "      <td>-0.806258</td>\n",
       "      <td>-0.962349</td>\n",
       "      <td>0.705882</td>\n",
       "    </tr>\n",
       "  </tbody>\n",
       "</table>\n",
       "</div>"
      ],
      "text/plain": [
       "   Item_Weight  Item_Visibility  Item_MRP  Outlet_Age\n",
       "0    -0.521322        -0.566751  1.171145    0.000000\n",
       "1    -1.025799        -0.518530 -1.023237   -0.588235\n",
       "2     0.702559        -0.556113 -0.006849    0.000000\n",
       "3     0.956290        -0.806258  0.433868    0.058824\n",
       "4    -0.576545        -0.806258 -0.962349    0.705882"
      ]
     },
     "execution_count": 217,
     "metadata": {},
     "output_type": "execute_result"
    }
   ],
   "source": [
    "numcols_df_robust.head()"
   ]
  },
  {
   "cell_type": "code",
   "execution_count": 218,
   "id": "f12c2891",
   "metadata": {},
   "outputs": [
    {
     "data": {
      "text/plain": [
       "<Axes: >"
      ]
     },
     "execution_count": 218,
     "metadata": {},
     "output_type": "execute_result"
    },
    {
     "data": {
      "image/png": "[encoded data removed]",
      "text/plain": [
       "<Figure size 640x480 with 1 Axes>"
      ]
     },
     "metadata": {},
     "output_type": "display_data"
    }
   ],
   "source": [
    "numcols_df.plot(kind='box',vert=False)"
   ]
  },
  {
   "cell_type": "code",
   "execution_count": 219,
   "id": "896b85ba",
   "metadata": {},
   "outputs": [
    {
     "data": {
      "text/plain": [
       "<Axes: >"
      ]
     },
     "execution_count": 219,
     "metadata": {},
     "output_type": "execute_result"
    },
    {
     "data": {
      "image/png": "[encoded data removed]",
      "text/plain": [
       "<Figure size 640x480 with 1 Axes>"
      ]
     },
     "metadata": {},
     "output_type": "display_data"
    }
   ],
   "source": [
    "numcols_df_scaled.plot(kind='box',vert=False)"
   ]
  },
  {
   "cell_type": "code",
   "execution_count": 220,
   "id": "f8c36dfb",
   "metadata": {},
   "outputs": [
    {
     "data": {
      "text/plain": [
       "<Axes: >"
      ]
     },
     "execution_count": 220,
     "metadata": {},
     "output_type": "execute_result"
    },
    {
     "data": {
      "image/png": "[encoded data removed]",
      "text/plain": [
       "<Figure size 640x480 with 1 Axes>"
      ]
     },
     "metadata": {},
     "output_type": "display_data"
    }
   ],
   "source": [
    "numcols_df_robust.plot(kind='box',vert=False)"
   ]
  },
  {
   "cell_type": "code",
   "execution_count": 221,
   "id": "aaa70af7",
   "metadata": {},
   "outputs": [
    {
     "data": {
      "text/plain": [
       "<Axes: >"
      ]
     },
     "execution_count": 221,
     "metadata": {},
     "output_type": "execute_result"
    },
    {
     "data": {
      "image/png": "[encoded data removed]",
      "text/plain": [
       "<Figure size 640x480 with 1 Axes>"
      ]
     },
     "metadata": {},
     "output_type": "display_data"
    }
   ],
   "source": [
    "numcols_df_minmax.plot(kind='box',vert=False)"
   ]
  },
  {
   "cell_type": "code",
   "execution_count": 222,
   "id": "affce9bb",
   "metadata": {},
   "outputs": [],
   "source": [
    "# Dummy Variable Encoding - Encoding Object or String Data\n",
    "numcols_df['Item_Outlet_Sales']=objcols.Item_Outlet_Sales"
   ]
  },
  {
   "cell_type": "code",
   "execution_count": 223,
   "id": "525335d4",
   "metadata": {},
   "outputs": [],
   "source": [
    "# Moving dependent Variable Item_Outlet_Sales from object to numeric\n",
    "objcols=objcols.drop('Item_Outlet_Sales',axis=1)"
   ]
  },
  {
   "cell_type": "code",
   "execution_count": 224,
   "id": "6a375fa3",
   "metadata": {},
   "outputs": [],
   "source": [
    "from sklearn.preprocessing import LabelEncoder"
   ]
  },
  {
   "cell_type": "code",
   "execution_count": 225,
   "id": "db2e3055",
   "metadata": {},
   "outputs": [],
   "source": [
    "le=LabelEncoder()"
   ]
  },
  {
   "cell_type": "code",
   "execution_count": 226,
   "id": "02a34b8d",
   "metadata": {},
   "outputs": [],
   "source": [
    "objcols_encode=objcols.apply(le.fit_transform)"
   ]
  },
  {
   "cell_type": "code",
   "execution_count": 227,
   "id": "acc000af",
   "metadata": {},
   "outputs": [
    {
     "data": {
      "text/html": [
       "<div>\n",
       "<style scoped>\n",
       "    .dataframe tbody tr th:only-of-type {\n",
       "        vertical-align: middle;\n",
       "    }\n",
       "\n",
       "    .dataframe tbody tr th {\n",
       "        vertical-align: top;\n",
       "    }\n",
       "\n",
       "    .dataframe thead th {\n",
       "        text-align: right;\n",
       "    }\n",
       "</style>\n",
       "<table border=\"1\" class=\"dataframe\">\n",
       "  <thead>\n",
       "    <tr style=\"text-align: right;\">\n",
       "      <th></th>\n",
       "      <th>Item_Identifier</th>\n",
       "      <th>Item_Fat_Content</th>\n",
       "      <th>Item_Type</th>\n",
       "      <th>Outlet_Identifier</th>\n",
       "      <th>Outlet_Size</th>\n",
       "      <th>Outlet_Location_Type</th>\n",
       "      <th>Outlet_Type</th>\n",
       "      <th>Item_Code</th>\n",
       "    </tr>\n",
       "  </thead>\n",
       "  <tbody>\n",
       "    <tr>\n",
       "      <th>0</th>\n",
       "      <td>156</td>\n",
       "      <td>0</td>\n",
       "      <td>4</td>\n",
       "      <td>9</td>\n",
       "      <td>1</td>\n",
       "      <td>0</td>\n",
       "      <td>1</td>\n",
       "      <td>1</td>\n",
       "    </tr>\n",
       "    <tr>\n",
       "      <th>1</th>\n",
       "      <td>8</td>\n",
       "      <td>1</td>\n",
       "      <td>14</td>\n",
       "      <td>3</td>\n",
       "      <td>1</td>\n",
       "      <td>2</td>\n",
       "      <td>2</td>\n",
       "      <td>0</td>\n",
       "    </tr>\n",
       "    <tr>\n",
       "      <th>2</th>\n",
       "      <td>662</td>\n",
       "      <td>0</td>\n",
       "      <td>10</td>\n",
       "      <td>9</td>\n",
       "      <td>1</td>\n",
       "      <td>0</td>\n",
       "      <td>1</td>\n",
       "      <td>1</td>\n",
       "    </tr>\n",
       "    <tr>\n",
       "      <th>3</th>\n",
       "      <td>1121</td>\n",
       "      <td>1</td>\n",
       "      <td>6</td>\n",
       "      <td>0</td>\n",
       "      <td>2</td>\n",
       "      <td>2</td>\n",
       "      <td>0</td>\n",
       "      <td>1</td>\n",
       "    </tr>\n",
       "    <tr>\n",
       "      <th>4</th>\n",
       "      <td>1297</td>\n",
       "      <td>0</td>\n",
       "      <td>9</td>\n",
       "      <td>1</td>\n",
       "      <td>0</td>\n",
       "      <td>2</td>\n",
       "      <td>1</td>\n",
       "      <td>2</td>\n",
       "    </tr>\n",
       "  </tbody>\n",
       "</table>\n",
       "</div>"
      ],
      "text/plain": [
       "   Item_Identifier  Item_Fat_Content  Item_Type  Outlet_Identifier  \\\n",
       "0              156                 0          4                  9   \n",
       "1                8                 1         14                  3   \n",
       "2              662                 0         10                  9   \n",
       "3             1121                 1          6                  0   \n",
       "4             1297                 0          9                  1   \n",
       "\n",
       "   Outlet_Size  Outlet_Location_Type  Outlet_Type  Item_Code  \n",
       "0            1                     0            1          1  \n",
       "1            1                     2            2          0  \n",
       "2            1                     0            1          1  \n",
       "3            2                     2            0          1  \n",
       "4            0                     2            1          2  "
      ]
     },
     "execution_count": 227,
     "metadata": {},
     "output_type": "execute_result"
    }
   ],
   "source": [
    "objcols_encode.head()"
   ]
  },
  {
   "cell_type": "code",
   "execution_count": 228,
   "id": "91a104a5",
   "metadata": {},
   "outputs": [
    {
     "data": {
      "text/plain": [
       "Index(['Item_Identifier', 'Item_Fat_Content', 'Item_Type', 'Outlet_Identifier',\n",
       "       'Outlet_Size', 'Outlet_Location_Type', 'Outlet_Type', 'Item_Code'],\n",
       "      dtype='object')"
      ]
     },
     "execution_count": 228,
     "metadata": {},
     "output_type": "execute_result"
    }
   ],
   "source": [
    "objcols.columns"
   ]
  },
  {
   "cell_type": "code",
   "execution_count": 229,
   "id": "c37baf6a",
   "metadata": {},
   "outputs": [],
   "source": [
    "objcols_dummy=pd.get_dummies(objcols,columns=['Item_Fat_Content', \n",
    "                                              'Item_Type', \n",
    "                                              'Outlet_Identifier',\n",
    "       'Outlet_Size', 'Outlet_Location_Type', 'Outlet_Type', 'Item_Code'])"
   ]
  },
  {
   "cell_type": "code",
   "execution_count": 230,
   "id": "747a9bd8",
   "metadata": {},
   "outputs": [
    {
     "name": "stdout",
     "output_type": "stream",
     "text": [
      "(14204, 8)\n",
      "(14204, 8)\n",
      "(14204, 43)\n"
     ]
    }
   ],
   "source": [
    "print(objcols.shape)\n",
    "print(objcols_encode.shape)\n",
    "print(objcols_dummy.shape)"
   ]
  },
  {
   "cell_type": "code",
   "execution_count": 231,
   "id": "adee0d3f",
   "metadata": {},
   "outputs": [],
   "source": [
    "numcols_df_scaled=numcols_df_scaled.reset_index()"
   ]
  },
  {
   "cell_type": "code",
   "execution_count": 232,
   "id": "ce13617f",
   "metadata": {},
   "outputs": [],
   "source": [
    "objcols_dummy=objcols_dummy.reset_index()"
   ]
  },
  {
   "cell_type": "code",
   "execution_count": 233,
   "id": "41802e90",
   "metadata": {},
   "outputs": [],
   "source": [
    "bigmart_df=pd.concat([numcols_df_scaled,objcols_dummy],axis=1)"
   ]
  },
  {
   "cell_type": "code",
   "execution_count": 234,
   "id": "3946295c",
   "metadata": {},
   "outputs": [],
   "source": [
    "numcols_df=numcols_df.reset_index()"
   ]
  },
  {
   "cell_type": "code",
   "execution_count": 235,
   "id": "a901b537",
   "metadata": {},
   "outputs": [],
   "source": [
    "bigmart_df['Item_Outlet_Sales']=numcols_df.Item_Outlet_Sales"
   ]
  },
  {
   "cell_type": "code",
   "execution_count": 236,
   "id": "93692028",
   "metadata": {},
   "outputs": [],
   "source": [
    "# Split Data back to train and test\n",
    "bigmarttrain_df=bigmart_df[bigmart_df.Item_Outlet_Sales!='test']\n",
    "bigmarttest_df=bigmart_df[bigmart_df.Item_Outlet_Sales=='test']"
   ]
  },
  {
   "cell_type": "code",
   "execution_count": 237,
   "id": "8663dee2",
   "metadata": {},
   "outputs": [],
   "source": [
    "bigmarttest_df=bigmarttest_df.drop('Item_Outlet_Sales',axis=1)"
   ]
  },
  {
   "cell_type": "code",
   "execution_count": 238,
   "id": "5b7632e6",
   "metadata": {},
   "outputs": [],
   "source": [
    "bigmarttrain_df=bigmarttrain_df.drop('index',axis=1)"
   ]
  },
  {
   "cell_type": "code",
   "execution_count": 239,
   "id": "d548c11e",
   "metadata": {},
   "outputs": [],
   "source": [
    "bigmarttest_df=bigmarttest_df.drop('index',axis=1)"
   ]
  },
  {
   "cell_type": "code",
   "execution_count": 240,
   "id": "1747785f",
   "metadata": {},
   "outputs": [],
   "source": [
    "# Split Data into dependent variable(y) & Independent Variables (X's)\n",
    "y=bigmarttrain_df.Item_Outlet_Sales\n",
    "X=bigmarttrain_df.drop(['Item_Identifier','Item_Outlet_Sales'],axis=1)"
   ]
  },
  {
   "cell_type": "code",
   "execution_count": 241,
   "id": "80d5b6b6",
   "metadata": {},
   "outputs": [],
   "source": [
    "bigmarttest_df=bigmarttest_df.drop('Item_Identifier',axis=1)"
   ]
  },
  {
   "cell_type": "code",
   "execution_count": 242,
   "id": "e2f50700",
   "metadata": {},
   "outputs": [
    {
     "name": "stdout",
     "output_type": "stream",
     "text": [
      "(8523, 46)\n",
      "(5681, 46)\n"
     ]
    }
   ],
   "source": [
    "print(X.shape)\n",
    "print(bigmarttest_df.shape)"
   ]
  },
  {
   "cell_type": "code",
   "execution_count": 243,
   "id": "2eae2862",
   "metadata": {},
   "outputs": [],
   "source": [
    "import seaborn as sns"
   ]
  },
  {
   "cell_type": "code",
   "execution_count": 244,
   "id": "9bab31c1",
   "metadata": {},
   "outputs": [
    {
     "data": {
      "text/plain": [
       "<Figure size 1000x500 with 0 Axes>"
      ]
     },
     "metadata": {},
     "output_type": "display_data"
    },
    {
     "data": {
      "image/png": "[encoded data removed]",
      "text/plain": [
       "<Figure size 640x480 with 3 Axes>"
      ]
     },
     "metadata": {},
     "output_type": "display_data"
    }
   ],
   "source": [
    "plt.figure(figsize=(10,5))\n",
    "fig,ax=plt.subplots(3,1)\n",
    "sns.kdeplot(y,ax=ax[0])\n",
    "sns.histplot(y,ax=ax[1])\n",
    "sns.boxplot(y,ax=ax[2],orient='h')\n",
    "plt.show()"
   ]
  },
  {
   "cell_type": "code",
   "execution_count": 245,
   "id": "bf2e6b55",
   "metadata": {},
   "outputs": [],
   "source": [
    "y=y.astype(float)"
   ]
  },
  {
   "cell_type": "code",
   "execution_count": 246,
   "id": "92e98f85",
   "metadata": {},
   "outputs": [
    {
     "data": {
      "text/plain": [
       "<Axes: >"
      ]
     },
     "execution_count": 246,
     "metadata": {},
     "output_type": "execute_result"
    },
    {
     "data": {
      "image/png": "[encoded data removed]",
      "text/plain": [
       "<Figure size 640x480 with 1 Axes>"
      ]
     },
     "metadata": {},
     "output_type": "display_data"
    }
   ],
   "source": [
    "np.log1p(y).plot(kind='box',vert=False)"
   ]
  },
  {
   "cell_type": "code",
   "execution_count": 247,
   "id": "a366ebbc",
   "metadata": {},
   "outputs": [],
   "source": [
    "# For EDA & Hypothesis Testing\n",
    "trainbigmart=pd.concat([numcols,objcols],axis=1)"
   ]
  },
  {
   "cell_type": "code",
   "execution_count": 248,
   "id": "3b23c847",
   "metadata": {},
   "outputs": [],
   "source": [
    "trainbigmart['Item_Outlet_Sales']=bigmarttrain_df.Item_Outlet_Sales"
   ]
  },
  {
   "cell_type": "code",
   "execution_count": 249,
   "id": "1b2aa933",
   "metadata": {},
   "outputs": [],
   "source": [
    "trainbigmart=trainbigmart[trainbigmart.Item_Outlet_Sales!='test']"
   ]
  },
  {
   "cell_type": "code",
   "execution_count": 250,
   "id": "39b64f4c",
   "metadata": {},
   "outputs": [
    {
     "data": {
      "text/html": [
       "<div>\n",
       "<style scoped>\n",
       "    .dataframe tbody tr th:only-of-type {\n",
       "        vertical-align: middle;\n",
       "    }\n",
       "\n",
       "    .dataframe tbody tr th {\n",
       "        vertical-align: top;\n",
       "    }\n",
       "\n",
       "    .dataframe thead th {\n",
       "        text-align: right;\n",
       "    }\n",
       "</style>\n",
       "<table border=\"1\" class=\"dataframe\">\n",
       "  <thead>\n",
       "    <tr style=\"text-align: right;\">\n",
       "      <th></th>\n",
       "      <th>Item_Weight</th>\n",
       "      <th>Item_Visibility</th>\n",
       "      <th>Item_MRP</th>\n",
       "      <th>Outlet_Establishment_Year</th>\n",
       "      <th>Outlet_Age</th>\n",
       "      <th>Item_Identifier</th>\n",
       "      <th>Item_Fat_Content</th>\n",
       "      <th>Item_Type</th>\n",
       "      <th>Outlet_Identifier</th>\n",
       "      <th>Outlet_Size</th>\n",
       "      <th>Outlet_Location_Type</th>\n",
       "      <th>Outlet_Type</th>\n",
       "      <th>Item_Code</th>\n",
       "      <th>Item_Outlet_Sales</th>\n",
       "    </tr>\n",
       "  </thead>\n",
       "  <tbody>\n",
       "    <tr>\n",
       "      <th>0</th>\n",
       "      <td>9.30</td>\n",
       "      <td>0.016047</td>\n",
       "      <td>249.8092</td>\n",
       "      <td>1999</td>\n",
       "      <td>23</td>\n",
       "      <td>FDA15</td>\n",
       "      <td>Low Fat</td>\n",
       "      <td>Dairy</td>\n",
       "      <td>OUT049</td>\n",
       "      <td>Medium</td>\n",
       "      <td>Tier 1</td>\n",
       "      <td>Supermarket Type1</td>\n",
       "      <td>FD</td>\n",
       "      <td>3735.138</td>\n",
       "    </tr>\n",
       "    <tr>\n",
       "      <th>1</th>\n",
       "      <td>5.92</td>\n",
       "      <td>0.019278</td>\n",
       "      <td>48.2692</td>\n",
       "      <td>2009</td>\n",
       "      <td>13</td>\n",
       "      <td>DRC01</td>\n",
       "      <td>Regular</td>\n",
       "      <td>Soft Drinks</td>\n",
       "      <td>OUT018</td>\n",
       "      <td>Medium</td>\n",
       "      <td>Tier 3</td>\n",
       "      <td>Supermarket Type2</td>\n",
       "      <td>DR</td>\n",
       "      <td>443.4228</td>\n",
       "    </tr>\n",
       "    <tr>\n",
       "      <th>2</th>\n",
       "      <td>17.50</td>\n",
       "      <td>0.016760</td>\n",
       "      <td>141.6180</td>\n",
       "      <td>1999</td>\n",
       "      <td>23</td>\n",
       "      <td>FDN15</td>\n",
       "      <td>Low Fat</td>\n",
       "      <td>Meat</td>\n",
       "      <td>OUT049</td>\n",
       "      <td>Medium</td>\n",
       "      <td>Tier 1</td>\n",
       "      <td>Supermarket Type1</td>\n",
       "      <td>FD</td>\n",
       "      <td>2097.27</td>\n",
       "    </tr>\n",
       "    <tr>\n",
       "      <th>3</th>\n",
       "      <td>19.20</td>\n",
       "      <td>0.000000</td>\n",
       "      <td>182.0950</td>\n",
       "      <td>1998</td>\n",
       "      <td>24</td>\n",
       "      <td>FDX07</td>\n",
       "      <td>Regular</td>\n",
       "      <td>Fruits and Vegetables</td>\n",
       "      <td>OUT010</td>\n",
       "      <td>Missing</td>\n",
       "      <td>Tier 3</td>\n",
       "      <td>Grocery Store</td>\n",
       "      <td>FD</td>\n",
       "      <td>732.38</td>\n",
       "    </tr>\n",
       "    <tr>\n",
       "      <th>4</th>\n",
       "      <td>8.93</td>\n",
       "      <td>0.000000</td>\n",
       "      <td>53.8614</td>\n",
       "      <td>1987</td>\n",
       "      <td>35</td>\n",
       "      <td>NCD19</td>\n",
       "      <td>Low Fat</td>\n",
       "      <td>Household</td>\n",
       "      <td>OUT013</td>\n",
       "      <td>High</td>\n",
       "      <td>Tier 3</td>\n",
       "      <td>Supermarket Type1</td>\n",
       "      <td>NC</td>\n",
       "      <td>994.7052</td>\n",
       "    </tr>\n",
       "  </tbody>\n",
       "</table>\n",
       "</div>"
      ],
      "text/plain": [
       "   Item_Weight  Item_Visibility  Item_MRP  Outlet_Establishment_Year  \\\n",
       "0         9.30         0.016047  249.8092                       1999   \n",
       "1         5.92         0.019278   48.2692                       2009   \n",
       "2        17.50         0.016760  141.6180                       1999   \n",
       "3        19.20         0.000000  182.0950                       1998   \n",
       "4         8.93         0.000000   53.8614                       1987   \n",
       "\n",
       "   Outlet_Age Item_Identifier Item_Fat_Content              Item_Type  \\\n",
       "0          23           FDA15          Low Fat                  Dairy   \n",
       "1          13           DRC01          Regular            Soft Drinks   \n",
       "2          23           FDN15          Low Fat                   Meat   \n",
       "3          24           FDX07          Regular  Fruits and Vegetables   \n",
       "4          35           NCD19          Low Fat              Household   \n",
       "\n",
       "  Outlet_Identifier Outlet_Size Outlet_Location_Type        Outlet_Type  \\\n",
       "0            OUT049      Medium               Tier 1  Supermarket Type1   \n",
       "1            OUT018      Medium               Tier 3  Supermarket Type2   \n",
       "2            OUT049      Medium               Tier 1  Supermarket Type1   \n",
       "3            OUT010     Missing               Tier 3      Grocery Store   \n",
       "4            OUT013        High               Tier 3  Supermarket Type1   \n",
       "\n",
       "  Item_Code Item_Outlet_Sales  \n",
       "0        FD          3735.138  \n",
       "1        DR          443.4228  \n",
       "2        FD           2097.27  \n",
       "3        FD            732.38  \n",
       "4        NC          994.7052  "
      ]
     },
     "execution_count": 250,
     "metadata": {},
     "output_type": "execute_result"
    }
   ],
   "source": [
    "# EDA using trainbigmart\n",
    "\n",
    "# 1) Pie diagram of Item Fat Content\n",
    "# 2 ) Pie Diagram of Outlet Size\n",
    "# 3) Cross Tabulation Outlet Size and Outlet Location & Stacked barplot\n",
    "# 4) Cross Tabulation of Outlet Size and Outlet Type & Stacked barplot\n",
    "\n",
    "# groupby()\n",
    "# Average Item Outlet Sales by Outlet Size\n",
    "# Average Item Outlet Sales by Outlet Location Type\n",
    "# Average Item Outlet Sales by Item Code\n",
    "\n",
    "# Hypothesis test\n",
    "# Test Null Average Item Outlet Sales of different Outlet Size Equal\n",
    "# Test Null Average Item Outlet Sales of different Outlet Type Equal\n",
    "# Test Null No Association between Outlet size and outlet type\n",
    "# Test Null No Association between outlet size and outlet location type\n",
    "\n",
    "trainbigmart.head()"
   ]
  },
  {
   "cell_type": "code",
   "execution_count": 251,
   "id": "a16815f2",
   "metadata": {},
   "outputs": [],
   "source": [
    "# Machine Learning - Training the machines on historical data and build\n",
    "# predictive models and use those models for predictive purposes.\n",
    "\n",
    "# Supervised Learning - Complete understaning data interms of variables \n",
    "# and also know which models or algorithms to be implemented.\n",
    "\n",
    "# Unsupervised Learning - No understanding of data as data might not be\n",
    "# proper structure or hardware failure during collection process lead\n",
    "# to discrepancies and lack of understanding of data.\n",
    "\n",
    "# Supervised Learning - \n",
    "# Regression Models - Dependent Variable(y) is numeric continuous, closer\n",
    "# to normal distribution with minimum outliers and no missing values.\n",
    "\n",
    "# Classification Models - Dependent Variable(y) is Non Numeric and either\n",
    "# Binary(yes/no) or multinomial (more than 2 levels/classes).\n",
    "\n",
    "# Regression Models - primary model is Multiple Linear Regression(MLR)\n",
    "\n",
    "# Multiple Linear Regression explains the linear relationship between a\n",
    "# dependent variable(y) that is numerical continuos, closer to normal\n",
    "# distribution and multiple Independent Variables(X's).\n",
    "\n",
    "# Multiple Linear Regression is an equation that is used for prediction\n",
    "# purposes.\n",
    "# y = B0+B1X1+B2X2+B3X3+B4X4+............+BnXn + Et\n",
    "\n",
    "# y is dependent variable which must be numerical continuos closer to\n",
    "# normal distribution with minimal outliers and no missing values.\n",
    "# B0 - intercept or constant - point at which straight line touches y-axis\n",
    "# B1,B2,B3,B4,...Bn - Coefficients\n",
    "# X1, X2, X3, X4,..Xn - Independent Variables\n",
    "# Et - Error term or Residual=ActualValue-PredictedValue\n",
    "\n",
    "# Algorithm uses matrix formulation to solve for the Intercept+Corfficients\n",
    "# [Bo,B1,B2,B3,...Bn] = (XT*X)^-1*XT*y\n",
    "# XT= Transpose of X\n",
    "# (XT*X)^-1 = Inverse of Matrix\n",
    "# y = dependent Variable\n",
    "# X = Independent Variable Matrix\n",
    "\n",
    "# Assumptions of Multiple Linear Regression\n",
    "# Pre Model Assumptions\n",
    "# y must be numerical continuos, closer to normal distribution with\n",
    "# minimum outliers and no missing values.\n",
    "# X can be both numerical and non numerical\n",
    "# There must be a logical linear relationship between dependent variable\n",
    "# and Independent variables.\n",
    "# No Multicollinearity - Multicollinearity means very strong correlation\n",
    "# (>0.95) among variables. If multicollinearity is found do not include\n",
    "# both variables, choose one among them. Correlation Analysis.\n",
    "# Exogenity - Dependent Variable is dependent on Independent variables\n",
    "# but not vice-versa. y is dependent on X's but X's do not depend on y.\n",
    "# Sample Size required is minimum 20 observations per variable.\n",
    "\n",
    "# Post Model Assumptions based on residuals\n",
    "# Residuals must be homoscedastic in nature. Homoscedasticity of residuals\n",
    "# is residuals must be in a narrow range left to right diagonal Upwards.\n",
    "# Residuals must be normally distributed and to find this we use\n",
    "# Q-Q plot. If residuals are all on straight line or closer to straight \n",
    "# line\n",
    "\n",
    "# Statistical Interpretation of Multiple Linear Regression Output\n",
    "# 1) Adjusted R Square must be in range of 0.60 - 0.95. Adjusted R Square\n",
    "# explains the amount of variance occuring in the dependent variable\n",
    "# casused by the model or independent variables.\n",
    "# Adjusted R Square is sensitive to Independent Variable significance.\n",
    "# It reduces if independent variable is insignificant and increases only\n",
    "# if independent variable is significant.\n",
    "# 2) Model p-value(just below adj R Square) or Significanc F (MS Excel)\n",
    "# must be less than 0.05.\n",
    "# Null - Coefficients are Equal to Zero\n",
    "# Alt - Coefficients are Not Equal to Zero.\n",
    "# 3) Independent variables p-value must be less than 0.05\n",
    "# Null - Independent Variable is Insignificant\n",
    "# Alt - Independent Variable is Significant\n",
    "\n",
    "# Python Interpretation (Machine Learning based interpretation)\n",
    "# R Square betweeen 0.60 - 0.95\n",
    "# Intercept + Coefficients \n",
    "\n",
    "# Diagnostics for all Regression Models\n",
    "# Root Mean Square Error (RMSE) - No Fixed Range and it is a comparitive\n",
    "# metric and model that has the least RMSE is best fit Model.\n",
    "# RMSE = SQRT(MEAN(RESIDUAL^2)) # Residual=ActualValue-PredictedValue"
   ]
  },
  {
   "cell_type": "code",
   "execution_count": 252,
   "id": "7ffa86c5",
   "metadata": {},
   "outputs": [
    {
     "data": {
      "text/html": [
       "<div>\n",
       "<style scoped>\n",
       "    .dataframe tbody tr th:only-of-type {\n",
       "        vertical-align: middle;\n",
       "    }\n",
       "\n",
       "    .dataframe tbody tr th {\n",
       "        vertical-align: top;\n",
       "    }\n",
       "\n",
       "    .dataframe thead th {\n",
       "        text-align: right;\n",
       "    }\n",
       "</style>\n",
       "<table border=\"1\" class=\"dataframe\">\n",
       "  <thead>\n",
       "    <tr style=\"text-align: right;\">\n",
       "      <th></th>\n",
       "      <th>Item_Weight</th>\n",
       "      <th>Item_Visibility</th>\n",
       "      <th>Item_MRP</th>\n",
       "      <th>Outlet_Age</th>\n",
       "      <th>Item_Fat_Content_Low Fat</th>\n",
       "      <th>Item_Fat_Content_Regular</th>\n",
       "      <th>Item_Type_Baking Goods</th>\n",
       "      <th>Item_Type_Breads</th>\n",
       "      <th>Item_Type_Breakfast</th>\n",
       "      <th>Item_Type_Canned</th>\n",
       "      <th>...</th>\n",
       "      <th>Outlet_Location_Type_Tier 1</th>\n",
       "      <th>Outlet_Location_Type_Tier 2</th>\n",
       "      <th>Outlet_Location_Type_Tier 3</th>\n",
       "      <th>Outlet_Type_Grocery Store</th>\n",
       "      <th>Outlet_Type_Supermarket Type1</th>\n",
       "      <th>Outlet_Type_Supermarket Type2</th>\n",
       "      <th>Outlet_Type_Supermarket Type3</th>\n",
       "      <th>Item_Code_DR</th>\n",
       "      <th>Item_Code_FD</th>\n",
       "      <th>Item_Code_NC</th>\n",
       "    </tr>\n",
       "  </thead>\n",
       "  <tbody>\n",
       "    <tr>\n",
       "      <th>0</th>\n",
       "      <td>-0.824939</td>\n",
       "      <td>-0.969852</td>\n",
       "      <td>1.752511</td>\n",
       "      <td>-0.139681</td>\n",
       "      <td>1</td>\n",
       "      <td>0</td>\n",
       "      <td>0</td>\n",
       "      <td>0</td>\n",
       "      <td>0</td>\n",
       "      <td>0</td>\n",
       "      <td>...</td>\n",
       "      <td>1</td>\n",
       "      <td>0</td>\n",
       "      <td>0</td>\n",
       "      <td>0</td>\n",
       "      <td>1</td>\n",
       "      <td>0</td>\n",
       "      <td>0</td>\n",
       "      <td>0</td>\n",
       "      <td>1</td>\n",
       "      <td>0</td>\n",
       "    </tr>\n",
       "    <tr>\n",
       "      <th>1</th>\n",
       "      <td>-1.623224</td>\n",
       "      <td>-0.907063</td>\n",
       "      <td>-1.493696</td>\n",
       "      <td>-1.334228</td>\n",
       "      <td>0</td>\n",
       "      <td>1</td>\n",
       "      <td>0</td>\n",
       "      <td>0</td>\n",
       "      <td>0</td>\n",
       "      <td>0</td>\n",
       "      <td>...</td>\n",
       "      <td>0</td>\n",
       "      <td>0</td>\n",
       "      <td>1</td>\n",
       "      <td>0</td>\n",
       "      <td>0</td>\n",
       "      <td>1</td>\n",
       "      <td>0</td>\n",
       "      <td>1</td>\n",
       "      <td>0</td>\n",
       "      <td>0</td>\n",
       "    </tr>\n",
       "    <tr>\n",
       "      <th>2</th>\n",
       "      <td>1.111729</td>\n",
       "      <td>-0.956000</td>\n",
       "      <td>0.009874</td>\n",
       "      <td>-0.139681</td>\n",
       "      <td>1</td>\n",
       "      <td>0</td>\n",
       "      <td>0</td>\n",
       "      <td>0</td>\n",
       "      <td>0</td>\n",
       "      <td>0</td>\n",
       "      <td>...</td>\n",
       "      <td>1</td>\n",
       "      <td>0</td>\n",
       "      <td>0</td>\n",
       "      <td>0</td>\n",
       "      <td>1</td>\n",
       "      <td>0</td>\n",
       "      <td>0</td>\n",
       "      <td>0</td>\n",
       "      <td>1</td>\n",
       "      <td>0</td>\n",
       "    </tr>\n",
       "    <tr>\n",
       "      <th>3</th>\n",
       "      <td>1.513233</td>\n",
       "      <td>-1.281712</td>\n",
       "      <td>0.661838</td>\n",
       "      <td>-0.020226</td>\n",
       "      <td>0</td>\n",
       "      <td>1</td>\n",
       "      <td>0</td>\n",
       "      <td>0</td>\n",
       "      <td>0</td>\n",
       "      <td>0</td>\n",
       "      <td>...</td>\n",
       "      <td>0</td>\n",
       "      <td>0</td>\n",
       "      <td>1</td>\n",
       "      <td>1</td>\n",
       "      <td>0</td>\n",
       "      <td>0</td>\n",
       "      <td>0</td>\n",
       "      <td>0</td>\n",
       "      <td>1</td>\n",
       "      <td>0</td>\n",
       "    </tr>\n",
       "    <tr>\n",
       "      <th>4</th>\n",
       "      <td>-0.912325</td>\n",
       "      <td>-1.281712</td>\n",
       "      <td>-1.403623</td>\n",
       "      <td>1.293777</td>\n",
       "      <td>1</td>\n",
       "      <td>0</td>\n",
       "      <td>0</td>\n",
       "      <td>0</td>\n",
       "      <td>0</td>\n",
       "      <td>0</td>\n",
       "      <td>...</td>\n",
       "      <td>0</td>\n",
       "      <td>0</td>\n",
       "      <td>1</td>\n",
       "      <td>0</td>\n",
       "      <td>1</td>\n",
       "      <td>0</td>\n",
       "      <td>0</td>\n",
       "      <td>0</td>\n",
       "      <td>0</td>\n",
       "      <td>1</td>\n",
       "    </tr>\n",
       "  </tbody>\n",
       "</table>\n",
       "<p>5 rows × 46 columns</p>\n",
       "</div>"
      ],
      "text/plain": [
       "   Item_Weight  Item_Visibility  Item_MRP  Outlet_Age  \\\n",
       "0    -0.824939        -0.969852  1.752511   -0.139681   \n",
       "1    -1.623224        -0.907063 -1.493696   -1.334228   \n",
       "2     1.111729        -0.956000  0.009874   -0.139681   \n",
       "3     1.513233        -1.281712  0.661838   -0.020226   \n",
       "4    -0.912325        -1.281712 -1.403623    1.293777   \n",
       "\n",
       "   Item_Fat_Content_Low Fat  Item_Fat_Content_Regular  Item_Type_Baking Goods  \\\n",
       "0                         1                         0                       0   \n",
       "1                         0                         1                       0   \n",
       "2                         1                         0                       0   \n",
       "3                         0                         1                       0   \n",
       "4                         1                         0                       0   \n",
       "\n",
       "   Item_Type_Breads  Item_Type_Breakfast  Item_Type_Canned  ...  \\\n",
       "0                 0                    0                 0  ...   \n",
       "1                 0                    0                 0  ...   \n",
       "2                 0                    0                 0  ...   \n",
       "3                 0                    0                 0  ...   \n",
       "4                 0                    0                 0  ...   \n",
       "\n",
       "   Outlet_Location_Type_Tier 1  Outlet_Location_Type_Tier 2  \\\n",
       "0                            1                            0   \n",
       "1                            0                            0   \n",
       "2                            1                            0   \n",
       "3                            0                            0   \n",
       "4                            0                            0   \n",
       "\n",
       "   Outlet_Location_Type_Tier 3  Outlet_Type_Grocery Store  \\\n",
       "0                            0                          0   \n",
       "1                            1                          0   \n",
       "2                            0                          0   \n",
       "3                            1                          1   \n",
       "4                            1                          0   \n",
       "\n",
       "   Outlet_Type_Supermarket Type1  Outlet_Type_Supermarket Type2  \\\n",
       "0                              1                              0   \n",
       "1                              0                              1   \n",
       "2                              1                              0   \n",
       "3                              0                              0   \n",
       "4                              1                              0   \n",
       "\n",
       "   Outlet_Type_Supermarket Type3  Item_Code_DR  Item_Code_FD  Item_Code_NC  \n",
       "0                              0             0             1             0  \n",
       "1                              0             1             0             0  \n",
       "2                              0             0             1             0  \n",
       "3                              0             0             1             0  \n",
       "4                              0             0             0             1  \n",
       "\n",
       "[5 rows x 46 columns]"
      ]
     },
     "execution_count": 252,
     "metadata": {},
     "output_type": "execute_result"
    }
   ],
   "source": [
    "X.head()"
   ]
  },
  {
   "cell_type": "code",
   "execution_count": 253,
   "id": "e6aca783",
   "metadata": {},
   "outputs": [],
   "source": [
    "from sklearn.linear_model import LinearRegression"
   ]
  },
  {
   "cell_type": "code",
   "execution_count": 254,
   "id": "e5abccfa",
   "metadata": {},
   "outputs": [],
   "source": [
    "reg=LinearRegression()"
   ]
  },
  {
   "cell_type": "code",
   "execution_count": 255,
   "id": "385320b2",
   "metadata": {},
   "outputs": [],
   "source": [
    "regmodel=reg.fit(X,y)"
   ]
  },
  {
   "cell_type": "code",
   "execution_count": 256,
   "id": "6959a712",
   "metadata": {},
   "outputs": [
    {
     "data": {
      "text/plain": [
       "0.5637726588938297"
      ]
     },
     "execution_count": 256,
     "metadata": {},
     "output_type": "execute_result"
    }
   ],
   "source": [
    "regmodel.score(X,y) # less than 0.60 - Model is Underfitting"
   ]
  },
  {
   "cell_type": "code",
   "execution_count": 257,
   "id": "75230985",
   "metadata": {},
   "outputs": [],
   "source": [
    "regmodel2=reg.fit(X,np.log(y)) # Logarthmic Transformation of y"
   ]
  },
  {
   "cell_type": "code",
   "execution_count": 258,
   "id": "4f280d0f",
   "metadata": {},
   "outputs": [
    {
     "data": {
      "text/plain": [
       "0.7213162386743487"
      ]
     },
     "execution_count": 258,
     "metadata": {},
     "output_type": "execute_result"
    }
   ],
   "source": [
    "regmodel2.score(X,np.log(y)) # Not Underfitting"
   ]
  },
  {
   "cell_type": "code",
   "execution_count": 259,
   "id": "1dc70755",
   "metadata": {},
   "outputs": [],
   "source": [
    "regmodel2_predict=np.exp(regmodel2.predict(X))"
   ]
  },
  {
   "cell_type": "code",
   "execution_count": 260,
   "id": "e6231e81",
   "metadata": {},
   "outputs": [],
   "source": [
    "regmodel_predict=regmodel.predict(X)"
   ]
  },
  {
   "cell_type": "code",
   "execution_count": 261,
   "id": "bb009621",
   "metadata": {},
   "outputs": [],
   "source": [
    "regmodel2_resid=y-regmodel2_predict"
   ]
  },
  {
   "cell_type": "code",
   "execution_count": 262,
   "id": "8c11e813",
   "metadata": {},
   "outputs": [],
   "source": [
    "regmodel_resid=y-regmodel_predict"
   ]
  },
  {
   "cell_type": "code",
   "execution_count": 263,
   "id": "1ca0f273",
   "metadata": {},
   "outputs": [
    {
     "data": {
      "text/plain": [
       "1140.0319667998904"
      ]
     },
     "execution_count": 263,
     "metadata": {},
     "output_type": "execute_result"
    }
   ],
   "source": [
    "np.sqrt(np.mean(regmodel2_resid**2)) # RMSE with Log Transform"
   ]
  },
  {
   "cell_type": "code",
   "execution_count": 264,
   "id": "65de3385",
   "metadata": {},
   "outputs": [
    {
     "data": {
      "text/plain": [
       "2763.3219994749234"
      ]
     },
     "execution_count": 264,
     "metadata": {},
     "output_type": "execute_result"
    }
   ],
   "source": [
    "np.sqrt(np.mean(regmodel_resid**2)) # RMSE witout Log Transform"
   ]
  },
  {
   "cell_type": "code",
   "execution_count": 265,
   "id": "292652b8",
   "metadata": {},
   "outputs": [],
   "source": [
    "# prediction on test data which did not have dependent variable\n",
    "reg_test_predict=regmodel2.predict(bigmarttest_df)"
   ]
  },
  {
   "cell_type": "code",
   "execution_count": 266,
   "id": "0509d211",
   "metadata": {},
   "outputs": [],
   "source": [
    "reg_test_predict=np.exp(reg_test_predict)"
   ]
  },
  {
   "cell_type": "code",
   "execution_count": 267,
   "id": "890ac444",
   "metadata": {},
   "outputs": [
    {
     "data": {
      "text/plain": [
       "array([1435.87722781, 1125.93286853,  598.5626812 , ..., 1488.70822899,\n",
       "       3546.89596882, 1085.97597198])"
      ]
     },
     "execution_count": 267,
     "metadata": {},
     "output_type": "execute_result"
    }
   ],
   "source": [
    "reg_test_predict"
   ]
  },
  {
   "cell_type": "code",
   "execution_count": 268,
   "id": "f66187d1",
   "metadata": {},
   "outputs": [],
   "source": [
    "pd.DataFrame(reg_test_predict).to_csv(\"reg.csv\")"
   ]
  },
  {
   "cell_type": "code",
   "execution_count": null,
   "id": "0c7276a7",
   "metadata": {},
   "outputs": [],
   "source": []
  }
 ],
 "metadata": {
  "kernelspec": {
   "display_name": "Python 3 (ipykernel)",
   "language": "python",
   "name": "python3"
  },
  "language_info": {
   "codemirror_mode": {
    "name": "ipython",
    "version": 3
   },
   "file_extension": ".py",
   "mimetype": "text/x-python",
   "name": "python",
   "nbconvert_exporter": "python",
   "pygments_lexer": "ipython3",
   "version": "3.9.16"
  }
 },
 "nbformat": 4,
 "nbformat_minor": 5
}
